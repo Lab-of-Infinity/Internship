{
 "cells": [
  {
   "cell_type": "markdown",
   "metadata": {},
   "source": [
    "## 11. Write a python program to find the factorial of a number"
   ]
  },
  {
   "cell_type": "code",
   "execution_count": 19,
   "metadata": {},
   "outputs": [
    {
     "name": "stdout",
     "output_type": "stream",
     "text": [
      "Enter the Number :30\n",
      "Factorial is the product of all positive integers less than or equal to that number\n",
      "The Factorial of 30 is 265252859812191058636308480000000\n"
     ]
    }
   ],
   "source": [
    "# program to find the factorial of a number\n",
    "def factorial(num):\n",
    "    \n",
    "    print('Factorial is the product of all positive integers less than or equal to that number')\n",
    "    \n",
    "    fact =1\n",
    "   \n",
    "    if num >=1 :\n",
    "        for num in range (1, num+1):\n",
    "            fact = fact * num\n",
    "        print('The Factorial of', num, 'is',fact)\n",
    "    \n",
    "    elif num ==0 :\n",
    "        print(' The Factorial of 0 is 1')\n",
    "        \n",
    "    elif num < 0:\n",
    "        print('The Factorial of negative number doesnot exit')\n",
    "        \n",
    "num = int (input('Enter the Number :'))\n",
    "factorial(num)\n",
    "   \n"
   ]
  },
  {
   "cell_type": "markdown",
   "metadata": {},
   "source": [
    "#### Alternate method using factorial from Math libary (math.factorial())"
   ]
  },
  {
   "cell_type": "code",
   "execution_count": 24,
   "metadata": {},
   "outputs": [
    {
     "name": "stdout",
     "output_type": "stream",
     "text": [
      "Enter the Number :15\n",
      "Factorial of 15 is 1307674368000\n"
     ]
    }
   ],
   "source": [
    "# program to find the factorial of a number\n",
    "\n",
    "import math\n",
    "\n",
    "num = int (input('Enter the Number :'))\n",
    "print('Factorial of', num, 'is', math.factorial(num))"
   ]
  },
  {
   "cell_type": "markdown",
   "metadata": {},
   "source": [
    "## 12. Write a python program to find whether a number is prime or composite."
   ]
  },
  {
   "cell_type": "code",
   "execution_count": 3,
   "metadata": {},
   "outputs": [
    {
     "name": "stdout",
     "output_type": "stream",
     "text": [
      "Enter The Number:7\n",
      "7 is a Prime Number\n"
     ]
    }
   ],
   "source": [
    "num = int(input('Enter The Number:'))\n",
    "\n",
    "if num >1:\n",
    "    for i in range(2,int(num/2)+1):\n",
    "        if (num % i ==0):\n",
    "            print('The input number ', num, 'is not a Prime Number')\n",
    "            break\n",
    "    else:\n",
    "        print(num, 'is a Prime Number')\n",
    "        \n",
    "# 0 and 1 are not considered as prime numbers\n",
    "# Prime number exist only for positive whole number greater than 1. (prime number doesnot exist for negative number)\n",
    "\n",
    "else:\n",
    "    print(num, 'is not a Prime Number')"
   ]
  },
  {
   "cell_type": "markdown",
   "metadata": {},
   "source": [
    "## 13. Write a python program to check whether a given string is palindrome or not"
   ]
  },
  {
   "cell_type": "code",
   "execution_count": 7,
   "metadata": {},
   "outputs": [
    {
     "name": "stdout",
     "output_type": "stream",
     "text": [
      "Enter the string :1256@#@6521\n",
      "The input string is Palindrome\n"
     ]
    }
   ],
   "source": [
    "Input_str = input('Enter the string :') \n",
    "\n",
    "def Palindrome(s):\n",
    "    return s == s[::-1]\n",
    "\n",
    "# check string is palindrome or not\n",
    "\n",
    "check = Palindrome(Input_str)\n",
    "\n",
    "if check:\n",
    "    print('The input string is Palindrome')\n",
    "    \n",
    "else:\n",
    "    print('The input string is not Palindrome')"
   ]
  },
  {
   "cell_type": "markdown",
   "metadata": {},
   "source": [
    "## 14. Write a Python program to get the third side of right-angled triangle from two given sides."
   ]
  },
  {
   "cell_type": "code",
   "execution_count": 11,
   "metadata": {},
   "outputs": [
    {
     "name": "stdout",
     "output_type": "stream",
     "text": [
      "Opposite side denoted by x\n",
      "Adjacent side denoted by y\n",
      "Hypotenuse is denoted by z\n",
      "\n",
      "\n",
      "Which side (x,y,z) do you want to calculatez\n",
      "\n",
      "\n",
      "Input the length of side x: 3\n",
      "Input the length of side y: 4\n",
      "The length of Hypotenus(z) is 5: \n"
     ]
    }
   ],
   "source": [
    "import math\n",
    "# Printing notation of three side for user\n",
    "print('Opposite side denoted by x')\n",
    "print('Adjacent side denoted by y')\n",
    "print('Hypotenuse is denoted by z')\n",
    "print('\\n')\n",
    "\n",
    "# Taking input for user about which side need to be calculated\n",
    "choice = input('Which side (x,y,z) do you want to calculate')\n",
    "print('\\n')\n",
    "\n",
    "# Calculating remaining side of right angle triangle using if-else loop\n",
    "\n",
    "if choice == 'x':\n",
    "    y = float(input('Input the length of side y: '))\n",
    "    z = float(input('Input the length of side z: '))\n",
    "    x = math.sqrt((z * z) - (y * y))\n",
    "    print('The length of Opposite side(x) is %g: ' %(x))\n",
    "    \n",
    "elif choice =='y':\n",
    "    x = float(input('Input the length of side x: '))\n",
    "    z = float(input('Input the length of side z: '))\n",
    "    x = math.sqrt((z * z) - (x * x))\n",
    "    print('The length of Adajacent side(y) is %g: ' %(y))\n",
    "    \n",
    "elif choice == 'z':\n",
    "    x = float(input('Input the length of side x: '))\n",
    "    y = float(input('Input the length of side y: '))\n",
    "    z = math.sqrt((x * x) + (y * y))\n",
    "    print('The length of Hypotenus(z) is %g: ' %(z))\n",
    "\n",
    "else:\n",
    "    print('Invalid Entry :')\n",
    "    print('Choose & Enter correct side to be calculate out of x, y and z')\n",
    "              "
   ]
  },
  {
   "cell_type": "markdown",
   "metadata": {},
   "source": [
    "## 15. Write a python program to print the frequency of each of the characters present in a given string."
   ]
  },
  {
   "cell_type": "code",
   "execution_count": 18,
   "metadata": {},
   "outputs": [
    {
     "name": "stdout",
     "output_type": "stream",
     "text": [
      "Enter the input string:Welcome To Python\n",
      "\n",
      "\n",
      "Frequency of all characters in Input string:\n",
      " Counter({'o': 3, 'e': 2, ' ': 2, 't': 2, 'w': 1, 'l': 1, 'c': 1, 'm': 1, 'p': 1, 'y': 1, 'h': 1, 'n': 1})\n"
     ]
    }
   ],
   "source": [
    "# using collections.Counter() to get frequency of each character in string\n",
    "from collections import Counter\n",
    "\n",
    "#casefold() is to ensure that uppercase and lower case charachter is treated same.\n",
    "Input_str = input('Enter the input string:').casefold()\n",
    "print('\\n')\n",
    "res = Counter(Input_str)\n",
    "print('Frequency of all characters in Input string:\\n',res)"
   ]
  }
 ],
 "metadata": {
  "kernelspec": {
   "display_name": "Python 3",
   "language": "python",
   "name": "python3"
  },
  "language_info": {
   "codemirror_mode": {
    "name": "ipython",
    "version": 3
   },
   "file_extension": ".py",
   "mimetype": "text/x-python",
   "name": "python",
   "nbconvert_exporter": "python",
   "pygments_lexer": "ipython3",
   "version": "3.8.5"
  }
 },
 "nbformat": 4,
 "nbformat_minor": 4
}
