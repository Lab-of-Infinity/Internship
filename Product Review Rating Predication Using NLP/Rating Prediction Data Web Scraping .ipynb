{
 "cells": [
  {
   "cell_type": "markdown",
   "metadata": {},
   "source": [
    "> ### **Web Scraping for Rating Review Prediction Project**\n",
    "***\n",
    "**By: Lokesh Baviskar**\n",
    "\n",
    "**Batch : Internship 20**"
   ]
  },
  {
   "cell_type": "markdown",
   "metadata": {},
   "source": [
    "#### **Web Scraping details**:\n",
    "- **Data for this project is Scrap from Amazon & Flipkart.**\n",
    "- **Around 50000 Reviews are scrap for this project.**\n",
    "- **Part 1 - Scraping data from Amazon.in**\n",
    "- **Part 2 - Scraping data from flipkart**"
   ]
  },
  {
   "cell_type": "code",
   "execution_count": 1,
   "metadata": {},
   "outputs": [],
   "source": [
    "#Importing required libraries\n",
    "import pandas as pd\n",
    "import selenium\n",
    "from selenium import webdriver\n",
    "from selenium.common.exceptions import NoSuchElementException , StaleElementReferenceException\n",
    "import time\n",
    "import warnings\n",
    "warnings.filterwarnings('ignore')"
   ]
  },
  {
   "cell_type": "markdown",
   "metadata": {},
   "source": [
    "### **Part 1- Scrapping data from Amazon**"
   ]
  },
  {
   "cell_type": "markdown",
   "metadata": {},
   "source": [
    "#### **1.1.Headphones**"
   ]
  },
  {
   "cell_type": "code",
   "execution_count": 2,
   "metadata": {},
   "outputs": [],
   "source": [
    "#Connect to web driver\n",
    "driver =webdriver.Chrome(r\"C:\\chromedriver.exe\")"
   ]
  },
  {
   "cell_type": "code",
   "execution_count": 3,
   "metadata": {},
   "outputs": [],
   "source": [
    "# Opening the Amazon.in\n",
    "driver.get('https://www.amazon.in/')"
   ]
  },
  {
   "cell_type": "code",
   "execution_count": 4,
   "metadata": {},
   "outputs": [],
   "source": [
    "# Searching headphones in the search bar and clicking the search button\n",
    "search_bar=driver.find_element_by_id('twotabsearchtextbox')\n",
    "search_bar.send_keys(\"headphones\")\n",
    "driver.find_element_by_id('nav-search-submit-button').click()"
   ]
  },
  {
   "cell_type": "code",
   "execution_count": 5,
   "metadata": {},
   "outputs": [],
   "source": [
    "# Creating empty lists\n",
    "Product_URL=[]\n",
    "Ratings=[]\n",
    "Review=[]\n",
    "\n",
    "#Getting URLs of the product\n",
    "for i in range(1,4):\n",
    "    URL = driver.find_elements_by_xpath(\"//div[@class='a-section a-spacing-medium']/div[2]/div[2]/div/div/h2/a\")\n",
    "    for i in URL:\n",
    "        Product_URL.append(i.get_attribute('href'))\n",
    "      \n",
    "    try:\n",
    "        next_btn=driver.find_element_by_xpath(\"//li[@class='a-last']/a\").click()\n",
    "    except NoSuchElementException:\n",
    "        pass\n",
    "    \n",
    "for i in Product_URL:\n",
    "    driver.get(i)\n",
    "    \n",
    "    # Clicking the rating\n",
    "    try:\n",
    "        driver.find_element_by_xpath(\"//a[1][@id='acrCustomerReviewLink']\").click()\n",
    "    except NoSuchElementException:\n",
    "        print(\"No rating\")\n",
    "        pass\n",
    "    \n",
    "    #Clicking to see all reviews\n",
    "    try:\n",
    "        driver.find_element_by_xpath(\"//a[@class='a-link-emphasis a-text-bold']\").click()\n",
    "    except NoSuchElementException:\n",
    "        pass\n",
    "    \n",
    "    #Scrapping the details\n",
    "    Start_page=1\n",
    "    End_page=50\n",
    "    for page in range(Start_page,End_page+1):\n",
    "        try:\n",
    "            Reviews=driver.find_elements_by_xpath(\"//div[@class='a-row a-spacing-small review-data']/span/span\")\n",
    "            for r in Reviews:\n",
    "                Review.append(r.text.replace('\\n',''))\n",
    "        except NoSuchElementException:\n",
    "            Review.append(\"Not Available\")\n",
    "        try:\n",
    "            Rating=driver.find_elements_by_xpath(\"//div[@class='a-section celwidget']/div[2]/a[1]\")\n",
    "            for i in Rating:\n",
    "                rating=i.get_attribute('title')\n",
    "                Ratings.append(rating[:3])\n",
    "        except NoSuchElementException:\n",
    "            Ratings.append(\"Not available\")      \n",
    "        \n",
    "        #Looping for going to next page automatically\n",
    "        try:\n",
    "            next_page=driver.find_element_by_xpath(\"//div[@id='cm_cr-pagination_bar']/ul/li[2]/a\")\n",
    "            if next_page.text=='Next Page':\n",
    "                next_page.click()\n",
    "                time.sleep(2)\n",
    "        except NoSuchElementException:\n",
    "            pass"
   ]
  },
  {
   "cell_type": "code",
   "execution_count": 6,
   "metadata": {},
   "outputs": [
    {
     "name": "stdout",
     "output_type": "stream",
     "text": [
      "9000 9000\n"
     ]
    }
   ],
   "source": [
    "#Checking the length of data extracted\n",
    "print(len(Review),len(Ratings))"
   ]
  },
  {
   "cell_type": "code",
   "execution_count": 7,
   "metadata": {},
   "outputs": [],
   "source": [
    "#Saving in dataframe\n",
    "headphones=pd.DataFrame({'Product_Review':Review[:9000],'Ratings':Ratings[:9000]})"
   ]
  },
  {
   "cell_type": "markdown",
   "metadata": {},
   "source": [
    "#### **1.2.Laptops** "
   ]
  },
  {
   "cell_type": "code",
   "execution_count": 24,
   "metadata": {},
   "outputs": [],
   "source": [
    "# Getting the website to driver\n",
    "driver.get('https://www.amazon.in/')"
   ]
  },
  {
   "cell_type": "code",
   "execution_count": 25,
   "metadata": {},
   "outputs": [],
   "source": [
    "# Searching laptops in the search bar and clicking the search button\n",
    "search_bar=driver.find_element_by_id('twotabsearchtextbox')\n",
    "search_bar.send_keys(\"laptops\")\n",
    "driver.find_element_by_id('nav-search-submit-button').click()"
   ]
  },
  {
   "cell_type": "code",
   "execution_count": 26,
   "metadata": {},
   "outputs": [],
   "source": [
    "#Creating empty lists\n",
    "Product_URL=[]\n",
    "Ratings=[]\n",
    "Review=[]\n",
    "\n",
    "#Getting URLs of the product\n",
    "for i in range(1,4):\n",
    "    URL = driver.find_elements_by_xpath(\"//div[@class='a-section a-spacing-medium']/div[2]/div[2]/div/div/h2/a\")\n",
    "    for i in URL:\n",
    "        Product_URL.append(i.get_attribute('href'))\n",
    "    try:\n",
    "        next_btn=driver.find_element_by_xpath(\"//li[@class='a-last']/a\").click()\n",
    "    except NoSuchElementException:\n",
    "        pass\n",
    "    \n",
    "for i in Product_URL:\n",
    "    driver.get(i)\n",
    "    \n",
    "    #Clicking the rating\n",
    "    try:\n",
    "        driver.find_element_by_xpath(\"//a[1][@id='acrCustomerReviewLink']\").click()\n",
    "    except NoSuchElementException:\n",
    "        print(\"No rating\")\n",
    "        pass\n",
    "    \n",
    "    #Clicking to see all reviews\n",
    "    try:\n",
    "        driver.find_element_by_xpath(\"//a[@class='a-link-emphasis a-text-bold']\").click()\n",
    "    except NoSuchElementException:\n",
    "        pass\n",
    "    \n",
    "    #Scrapping the details\n",
    "    Start_page=1\n",
    "    End_page=80\n",
    "    for page in range(Start_page,End_page+1):\n",
    "        try:\n",
    "            Reviews=driver.find_elements_by_xpath(\"//div[@class='a-row a-spacing-small review-data']/span/span\")\n",
    "            for r in Reviews:\n",
    "                Review.append(r.text.replace('\\n',''))\n",
    "        except NoSuchElementException:\n",
    "            Review.append(\"Not Available\")\n",
    "        try:\n",
    "            Rating=driver.find_elements_by_xpath(\"//div[@class='a-section celwidget']/div[2]/a[1]\")\n",
    "            for i in Rating:\n",
    "                rating=i.get_attribute('title')\n",
    "                Ratings.append(rating[:3])\n",
    "        except NoSuchElementException:\n",
    "            Ratings.append(\"Not available\")      \n",
    "                   \n",
    "        # Looping for going to next page automatically\n",
    "        try:\n",
    "            next_page=driver.find_element_by_xpath(\"//div[@id='cm_cr-pagination_bar']/ul/li[2]/a\")\n",
    "            if next_page.text=='Next Page':\n",
    "                next_page.click()\n",
    "                time.sleep(2)\n",
    "        except NoSuchElementException:\n",
    "            pass"
   ]
  },
  {
   "cell_type": "code",
   "execution_count": 27,
   "metadata": {},
   "outputs": [
    {
     "name": "stdout",
     "output_type": "stream",
     "text": [
      "11000 11000\n"
     ]
    }
   ],
   "source": [
    "# Checking the length of data extracted\n",
    "print(len(Review),len(Ratings))"
   ]
  },
  {
   "cell_type": "code",
   "execution_count": 28,
   "metadata": {},
   "outputs": [],
   "source": [
    "#Saving in dataframe\n",
    "laptops=pd.DataFrame({'Product_Review':Review[:11000],'Ratings':Ratings[:11000]})"
   ]
  },
  {
   "cell_type": "markdown",
   "metadata": {},
   "source": [
    "#### **1.3.Camera**"
   ]
  },
  {
   "cell_type": "code",
   "execution_count": 33,
   "metadata": {},
   "outputs": [],
   "source": [
    "# Getting the website to driver\n",
    "driver.get('https://www.amazon.in/')"
   ]
  },
  {
   "cell_type": "code",
   "execution_count": 34,
   "metadata": {},
   "outputs": [],
   "source": [
    "#Searching dslr in the search bar and clicking the search button\n",
    "search_bar=driver.find_element_by_id('twotabsearchtextbox')\n",
    "search_bar.send_keys(\"dslr\")\n",
    "driver.find_element_by_id('nav-search-submit-button').click()"
   ]
  },
  {
   "cell_type": "code",
   "execution_count": 35,
   "metadata": {},
   "outputs": [],
   "source": [
    "#Creating empty lists\n",
    "Product_URL=[]\n",
    "Ratings=[]\n",
    "Review=[]\n",
    "\n",
    "#Getting URLs of the product\n",
    "for i in range(1,4):\n",
    "    URL = driver.find_elements_by_xpath(\"//div[@class='a-section a-spacing-medium']/div[2]/div[2]/div/div/h2/a\")\n",
    "    for i in URL:\n",
    "        Product_URL.append(i.get_attribute('href'))\n",
    "    try:\n",
    "        next_btn=driver.find_element_by_xpath(\"//li[@class='a-last']/a\").click()\n",
    "    except NoSuchElementException:\n",
    "        pass\n",
    "    \n",
    "for i in Product_URL:\n",
    "    driver.get(i)\n",
    "    \n",
    "    #Clicking the rating\n",
    "    try:\n",
    "        driver.find_element_by_xpath(\"//a[1][@id='acrCustomerReviewLink']\").click()\n",
    "    except NoSuchElementException:\n",
    "        print(\"No rating\")\n",
    "        pass\n",
    "    \n",
    "    #Clicking to see all reviews\n",
    "    try:\n",
    "        driver.find_element_by_xpath(\"//a[@class='a-link-emphasis a-text-bold']\").click()\n",
    "    except NoSuchElementException:\n",
    "        pass\n",
    "    \n",
    "    #Scrapping the details\n",
    "    Start_page=1\n",
    "    End_page=100\n",
    "    for page in range(Start_page,End_page+1):\n",
    "        try:\n",
    "            Reviews=driver.find_elements_by_xpath(\"//div[@class='a-row a-spacing-small review-data']/span/span\")\n",
    "            for r in Reviews:\n",
    "                Review.append(r.text.replace('\\n',''))\n",
    "        except NoSuchElementException:\n",
    "            Review.append(\"Not Available\")\n",
    "        try:\n",
    "            Rating=driver.find_elements_by_xpath(\"//div[@class='a-section celwidget']/div[2]/a[1]\")\n",
    "            for i in Rating:\n",
    "                rating=i.get_attribute('title')\n",
    "                Ratings.append(rating[:3])\n",
    "        except NoSuchElementException:\n",
    "            Ratings.append(\"Not available\")      \n",
    "          \n",
    "        #Looping for going to next page automatically\n",
    "        try:\n",
    "            next_page=driver.find_element_by_xpath(\"//div[@id='cm_cr-pagination_bar']/ul/li[2]/a\")\n",
    "            if next_page.text=='Next Page':\n",
    "                next_page.click()\n",
    "                time.sleep(2)\n",
    "        except NoSuchElementException:\n",
    "            pass"
   ]
  },
  {
   "cell_type": "code",
   "execution_count": 36,
   "metadata": {},
   "outputs": [
    {
     "name": "stdout",
     "output_type": "stream",
     "text": [
      "10000 10000\n"
     ]
    }
   ],
   "source": [
    "#Checking the length of data extracted\n",
    "print(len(Review),len(Ratings))"
   ]
  },
  {
   "cell_type": "code",
   "execution_count": 37,
   "metadata": {},
   "outputs": [],
   "source": [
    "#Saving in dataframe\n",
    "camera=pd.DataFrame({'Product_Review':Review[:10000],'Ratings':Ratings[:10000]})"
   ]
  },
  {
   "cell_type": "markdown",
   "metadata": {},
   "source": [
    "#### **1.4.Smartphones**"
   ]
  },
  {
   "cell_type": "code",
   "execution_count": 42,
   "metadata": {},
   "outputs": [],
   "source": [
    "#Getting the website to driver\n",
    "driver.get('https://www.amazon.in/')"
   ]
  },
  {
   "cell_type": "code",
   "execution_count": 43,
   "metadata": {},
   "outputs": [],
   "source": [
    "#Searching phones in the search bar and clicking the search button\n",
    "search_bar=driver.find_element_by_id('twotabsearchtextbox')\n",
    "search_bar.send_keys(\"phones\")\n",
    "driver.find_element_by_id('nav-search-submit-button').click()"
   ]
  },
  {
   "cell_type": "code",
   "execution_count": 44,
   "metadata": {},
   "outputs": [],
   "source": [
    "#Creating empty lists\n",
    "Product_URL=[]\n",
    "Ratings=[]\n",
    "Review=[]\n",
    "\n",
    "#Getting URLs of the product\n",
    "for i in range(1,4):\n",
    "    URL = driver.find_elements_by_xpath(\"//div[@class='a-section a-spacing-medium']/div[2]/div[2]/div/div/h2/a\")\n",
    "    for i in URL:\n",
    "        Product_URL.append(i.get_attribute('href'))\n",
    "    try:\n",
    "        next_btn=driver.find_element_by_xpath(\"//li[@class='a-last']/a\").click()\n",
    "    except NoSuchElementException:\n",
    "        pass\n",
    "    \n",
    "for i in Product_URL:\n",
    "    driver.get(i)\n",
    "    \n",
    "    #Clicking the rating\n",
    "    try:\n",
    "        driver.find_element_by_xpath(\"//a[1][@id='acrCustomerReviewLink']\").click()\n",
    "    except NoSuchElementException:\n",
    "        print(\"No rating\")\n",
    "        pass\n",
    "    \n",
    "    #Clicking to see all reviews\n",
    "    try:\n",
    "        driver.find_element_by_xpath(\"//a[@class='a-link-emphasis a-text-bold']\").click()\n",
    "    except NoSuchElementException:\n",
    "        pass\n",
    "    \n",
    "    #Scrapping the details\n",
    "    Start_page=1\n",
    "    End_page=60\n",
    "    for page in range(Start_page,End_page+1):\n",
    "        try:\n",
    "            Reviews=driver.find_elements_by_xpath(\"//div[@class='a-row a-spacing-small review-data']/span/span\")\n",
    "            for r in Reviews:\n",
    "                Review.append(r.text.replace('\\n',''))\n",
    "        except NoSuchElementException:\n",
    "            Review.append(\"Not Available\")\n",
    "        try:\n",
    "            Rating=driver.find_elements_by_xpath(\"//div[@class='a-section celwidget']/div[2]/a[1]\")\n",
    "            for i in Rating:\n",
    "                rating=i.get_attribute('title')\n",
    "                Ratings.append(rating[:3])\n",
    "        except NoSuchElementException:\n",
    "            Ratings.append(\"Not available\")      \n",
    "        \n",
    "        #Looping for going to next page automatically\n",
    "        try:\n",
    "            next_page=driver.find_element_by_xpath(\"//div[@id='cm_cr-pagination_bar']/ul/li[2]/a\")\n",
    "            if next_page.text=='Next Page':\n",
    "                next_page.click()\n",
    "                time.sleep(2)\n",
    "        except NoSuchElementException:\n",
    "            pass"
   ]
  },
  {
   "cell_type": "code",
   "execution_count": 45,
   "metadata": {},
   "outputs": [
    {
     "name": "stdout",
     "output_type": "stream",
     "text": [
      "10000 10000\n"
     ]
    }
   ],
   "source": [
    "#Checking the length of data extracted\n",
    "print(len(Review),len(Ratings))"
   ]
  },
  {
   "cell_type": "code",
   "execution_count": 46,
   "metadata": {},
   "outputs": [],
   "source": [
    "#Saving in dataframe\n",
    "phones=pd.DataFrame({'Product_Review':Review[:10000],'Ratings':Ratings[:10000]})"
   ]
  },
  {
   "cell_type": "code",
   "execution_count": 49,
   "metadata": {},
   "outputs": [],
   "source": [
    "# Closing the driver\n",
    "driver.close()"
   ]
  },
  {
   "cell_type": "markdown",
   "metadata": {},
   "source": [
    "### **Part 2 - Scrapping data from Flipkart**"
   ]
  },
  {
   "cell_type": "markdown",
   "metadata": {},
   "source": [
    "#### **2.1. I-Phone**"
   ]
  },
  {
   "cell_type": "code",
   "execution_count": 50,
   "metadata": {},
   "outputs": [],
   "source": [
    "# Connect to web driver\n",
    "driver =webdriver.Chrome(r\"C:\\chromedriver.exe \")"
   ]
  },
  {
   "cell_type": "code",
   "execution_count": 51,
   "metadata": {},
   "outputs": [],
   "source": [
    "#Getting the website to driver\n",
    "driver.get('https://www.flipkart.com/apple-iphone-11-black-64-gb/product-reviews/itm4e5041ba101fd?pid=MOBFWQ6BXGJCEYNY&lid=LSTMOBFWQ6BXGJCEYNYZXSHRJ&marketplace=FLIPKART')"
   ]
  },
  {
   "cell_type": "code",
   "execution_count": 52,
   "metadata": {},
   "outputs": [],
   "source": [
    "#Taking the empty lists\n",
    "Ratings=[]\n",
    "Review=[]\n",
    "\n",
    "#As there are nearly 10 reviews per page, we will check for 400+ pages and scrap the required data\n",
    "#Now we will take a for loop and scrap\n",
    "for i in range(0,410):\n",
    "    for j in driver.find_elements_by_xpath(\"//div[@class='_3LWZlK _1BLPMq']\"):\n",
    "        Ratings.append(j.text)\n",
    "    for j in driver.find_elements_by_xpath(\"//div[@class='t-ZTKy']\"):\n",
    "        Review.append(j.text)\n",
    "        \n",
    "    #Path for next page as it changes for every page. We are appending numbers as pages change  \n",
    "    k=i+1\n",
    "    next_page=\"https://www.flipkart.com/apple-iphone-11-black-64-gb/product-reviews/itm4e5041ba101fd?pid=MOBFWQ6BXGJCEYNY&lid=LSTMOBFWQ6BXGJCEYNYZXSHRJ&marketplace=FLIPKART&page=\"+str(k) \n",
    "    driver.get(next_page)"
   ]
  },
  {
   "cell_type": "code",
   "execution_count": 53,
   "metadata": {},
   "outputs": [
    {
     "name": "stdout",
     "output_type": "stream",
     "text": [
      "3734 3988\n"
     ]
    }
   ],
   "source": [
    "#Checking the length of the data scraped\n",
    "print(len(Ratings),len(Review))"
   ]
  },
  {
   "cell_type": "code",
   "execution_count": 55,
   "metadata": {},
   "outputs": [],
   "source": [
    "#Saving in dataframe\n",
    "f_phones=pd.DataFrame({'Product_Review':Review[:3700],'Ratings':Ratings[:3700]})"
   ]
  },
  {
   "cell_type": "code",
   "execution_count": 56,
   "metadata": {},
   "outputs": [
    {
     "data": {
      "text/html": [
       "<div>\n",
       "<style scoped>\n",
       "    .dataframe tbody tr th:only-of-type {\n",
       "        vertical-align: middle;\n",
       "    }\n",
       "\n",
       "    .dataframe tbody tr th {\n",
       "        vertical-align: top;\n",
       "    }\n",
       "\n",
       "    .dataframe thead th {\n",
       "        text-align: right;\n",
       "    }\n",
       "</style>\n",
       "<table border=\"1\" class=\"dataframe\">\n",
       "  <thead>\n",
       "    <tr style=\"text-align: right;\">\n",
       "      <th></th>\n",
       "      <th>Product_Review</th>\n",
       "      <th>Ratings</th>\n",
       "    </tr>\n",
       "  </thead>\n",
       "  <tbody>\n",
       "    <tr>\n",
       "      <th>0</th>\n",
       "      <td>The Best Phone for the Money\\n\\nThe iPhone 11 ...</td>\n",
       "      <td>5</td>\n",
       "    </tr>\n",
       "    <tr>\n",
       "      <th>1</th>\n",
       "      <td>Really satisfied with the Product I received.....</td>\n",
       "      <td>5</td>\n",
       "    </tr>\n",
       "    <tr>\n",
       "      <th>2</th>\n",
       "      <td>Great iPhone very snappy experience as apple k...</td>\n",
       "      <td>5</td>\n",
       "    </tr>\n",
       "    <tr>\n",
       "      <th>3</th>\n",
       "      <td>Amazing phone with great cameras and better ba...</td>\n",
       "      <td>5</td>\n",
       "    </tr>\n",
       "    <tr>\n",
       "      <th>4</th>\n",
       "      <td>Previously I was using one plus 3t it was a gr...</td>\n",
       "      <td>5</td>\n",
       "    </tr>\n",
       "  </tbody>\n",
       "</table>\n",
       "</div>"
      ],
      "text/plain": [
       "                                      Product_Review Ratings\n",
       "0  The Best Phone for the Money\\n\\nThe iPhone 11 ...       5\n",
       "1  Really satisfied with the Product I received.....       5\n",
       "2  Great iPhone very snappy experience as apple k...       5\n",
       "3  Amazing phone with great cameras and better ba...       5\n",
       "4  Previously I was using one plus 3t it was a gr...       5"
      ]
     },
     "execution_count": 56,
     "metadata": {},
     "output_type": "execute_result"
    }
   ],
   "source": [
    "#Checking first 5 data of the dataframe\n",
    "f_phones.head()"
   ]
  },
  {
   "cell_type": "code",
   "execution_count": 57,
   "metadata": {},
   "outputs": [
    {
     "data": {
      "text/html": [
       "<div>\n",
       "<style scoped>\n",
       "    .dataframe tbody tr th:only-of-type {\n",
       "        vertical-align: middle;\n",
       "    }\n",
       "\n",
       "    .dataframe tbody tr th {\n",
       "        vertical-align: top;\n",
       "    }\n",
       "\n",
       "    .dataframe thead th {\n",
       "        text-align: right;\n",
       "    }\n",
       "</style>\n",
       "<table border=\"1\" class=\"dataframe\">\n",
       "  <thead>\n",
       "    <tr style=\"text-align: right;\">\n",
       "      <th></th>\n",
       "      <th>Product_Review</th>\n",
       "      <th>Ratings</th>\n",
       "    </tr>\n",
       "  </thead>\n",
       "  <tbody>\n",
       "    <tr>\n",
       "      <th>3695</th>\n",
       "      <td>Awesome. This is my first iPhone value for money.</td>\n",
       "      <td>5</td>\n",
       "    </tr>\n",
       "    <tr>\n",
       "      <th>3696</th>\n",
       "      <td>good</td>\n",
       "      <td>5</td>\n",
       "    </tr>\n",
       "    <tr>\n",
       "      <th>3697</th>\n",
       "      <td>11 is as close &amp; good as 12, The only downside...</td>\n",
       "      <td>5</td>\n",
       "    </tr>\n",
       "    <tr>\n",
       "      <th>3698</th>\n",
       "      <td>Mind-blowing 😍🥳</td>\n",
       "      <td>5</td>\n",
       "    </tr>\n",
       "    <tr>\n",
       "      <th>3699</th>\n",
       "      <td>Amazing product at best price</td>\n",
       "      <td>5</td>\n",
       "    </tr>\n",
       "  </tbody>\n",
       "</table>\n",
       "</div>"
      ],
      "text/plain": [
       "                                         Product_Review Ratings\n",
       "3695  Awesome. This is my first iPhone value for money.       5\n",
       "3696                                               good       5\n",
       "3697  11 is as close & good as 12, The only downside...       5\n",
       "3698                                    Mind-blowing 😍🥳       5\n",
       "3699                      Amazing product at best price       5"
      ]
     },
     "execution_count": 57,
     "metadata": {},
     "output_type": "execute_result"
    }
   ],
   "source": [
    "#Checking last 5 data of the dataframe\n",
    "f_phones.tail()"
   ]
  },
  {
   "cell_type": "code",
   "execution_count": 58,
   "metadata": {},
   "outputs": [],
   "source": [
    "#Closing the driver\n",
    "driver.close()"
   ]
  },
  {
   "cell_type": "markdown",
   "metadata": {},
   "source": [
    "#### **2.2. Poco Mobiles**"
   ]
  },
  {
   "cell_type": "code",
   "execution_count": 59,
   "metadata": {},
   "outputs": [],
   "source": [
    "# Connect to web driver\n",
    "driver =webdriver.Chrome(r\"C:\\Users\\Femina\\Downloads\\chromedriver_win32 (1)\\chromedriver.exe \")"
   ]
  },
  {
   "cell_type": "code",
   "execution_count": 60,
   "metadata": {},
   "outputs": [],
   "source": [
    "# Getting the website to driver\n",
    "driver.get('https://www.flipkart.com/poco-m3-power-black-64-gb/product-reviews/itmb49cc10841be2?pid=MOBFZTCUTAYPJHHR&lid=LSTMOBFZTCUTAYPJHHR2ZVC1N&marketplace=FLIPKART')"
   ]
  },
  {
   "cell_type": "code",
   "execution_count": 61,
   "metadata": {},
   "outputs": [],
   "source": [
    "#Taking the empty lists\n",
    "Ratings=[]\n",
    "Review=[]\n",
    "\n",
    "#As there are nearly 10 reviews per page, we will check for 400+ pages and scrap the required data\n",
    "#Now we will take a for loop and scrap\n",
    "for i in range(0,650):\n",
    "    for j in driver.find_elements_by_xpath(\"//div[@class='_3LWZlK _1BLPMq']\"):\n",
    "        Ratings.append(j.text)\n",
    "    for j in driver.find_elements_by_xpath(\"//div[@class='t-ZTKy']\"):\n",
    "        Review.append(j.text)\n",
    "        \n",
    "    #Path for next page as it changes for every page. We are appending numbers as pages change  \n",
    "    k=i+1\n",
    "    next_page=\"https://www.flipkart.com/poco-m3-power-black-64-gb/product-reviews/itmb49cc10841be2?pid=MOBFZTCUTAYPJHHR&lid=LSTMOBFZTCUTAYPJHHR2ZVC1N&marketplace=FLIPKART&page=\"+str(k) \n",
    "    driver.get(next_page)"
   ]
  },
  {
   "cell_type": "code",
   "execution_count": 62,
   "metadata": {},
   "outputs": [
    {
     "name": "stdout",
     "output_type": "stream",
     "text": [
      "6411 5408\n"
     ]
    }
   ],
   "source": [
    "#Checking the length of the data scraped\n",
    "print(len(Review),len(Ratings))"
   ]
  },
  {
   "cell_type": "code",
   "execution_count": 63,
   "metadata": {},
   "outputs": [],
   "source": [
    "#Saving in dataframe\n",
    "f_poco=pd.DataFrame({'Product_Review':Review[:5200],'Ratings':Ratings[:5200]})"
   ]
  },
  {
   "cell_type": "code",
   "execution_count": 64,
   "metadata": {},
   "outputs": [
    {
     "data": {
      "text/html": [
       "<div>\n",
       "<style scoped>\n",
       "    .dataframe tbody tr th:only-of-type {\n",
       "        vertical-align: middle;\n",
       "    }\n",
       "\n",
       "    .dataframe tbody tr th {\n",
       "        vertical-align: top;\n",
       "    }\n",
       "\n",
       "    .dataframe thead th {\n",
       "        text-align: right;\n",
       "    }\n",
       "</style>\n",
       "<table border=\"1\" class=\"dataframe\">\n",
       "  <thead>\n",
       "    <tr style=\"text-align: right;\">\n",
       "      <th></th>\n",
       "      <th>Product_Review</th>\n",
       "      <th>Ratings</th>\n",
       "    </tr>\n",
       "  </thead>\n",
       "  <tbody>\n",
       "    <tr>\n",
       "      <th>0</th>\n",
       "      <td>Great Phone at this Price point. Superb cool D...</td>\n",
       "      <td>5</td>\n",
       "    </tr>\n",
       "    <tr>\n",
       "      <th>1</th>\n",
       "      <td>Good mobile poco m3\\nPros:\\nFullhd display,\\ns...</td>\n",
       "      <td>4</td>\n",
       "    </tr>\n",
       "    <tr>\n",
       "      <th>2</th>\n",
       "      <td>Good phone battery🔋 And camera This price poin...</td>\n",
       "      <td>5</td>\n",
       "    </tr>\n",
       "    <tr>\n",
       "      <th>3</th>\n",
       "      <td>U will never get this specs for this price...d...</td>\n",
       "      <td>5</td>\n",
       "    </tr>\n",
       "    <tr>\n",
       "      <th>4</th>\n",
       "      <td>One word review \" Value for Money\"\\nIt has the...</td>\n",
       "      <td>5</td>\n",
       "    </tr>\n",
       "  </tbody>\n",
       "</table>\n",
       "</div>"
      ],
      "text/plain": [
       "                                      Product_Review Ratings\n",
       "0  Great Phone at this Price point. Superb cool D...       5\n",
       "1  Good mobile poco m3\\nPros:\\nFullhd display,\\ns...       4\n",
       "2  Good phone battery🔋 And camera This price poin...       5\n",
       "3  U will never get this specs for this price...d...       5\n",
       "4  One word review \" Value for Money\"\\nIt has the...       5"
      ]
     },
     "execution_count": 64,
     "metadata": {},
     "output_type": "execute_result"
    }
   ],
   "source": [
    "#Checking first 5 data of the dataframe\n",
    "f_poco.head()"
   ]
  },
  {
   "cell_type": "code",
   "execution_count": 65,
   "metadata": {},
   "outputs": [
    {
     "data": {
      "text/html": [
       "<div>\n",
       "<style scoped>\n",
       "    .dataframe tbody tr th:only-of-type {\n",
       "        vertical-align: middle;\n",
       "    }\n",
       "\n",
       "    .dataframe tbody tr th {\n",
       "        vertical-align: top;\n",
       "    }\n",
       "\n",
       "    .dataframe thead th {\n",
       "        text-align: right;\n",
       "    }\n",
       "</style>\n",
       "<table border=\"1\" class=\"dataframe\">\n",
       "  <thead>\n",
       "    <tr style=\"text-align: right;\">\n",
       "      <th></th>\n",
       "      <th>Product_Review</th>\n",
       "      <th>Ratings</th>\n",
       "    </tr>\n",
       "  </thead>\n",
       "  <tbody>\n",
       "    <tr>\n",
       "      <th>5195</th>\n",
       "      <td>Good</td>\n",
       "      <td>5</td>\n",
       "    </tr>\n",
       "    <tr>\n",
       "      <th>5196</th>\n",
       "      <td>Best</td>\n",
       "      <td>5</td>\n",
       "    </tr>\n",
       "    <tr>\n",
       "      <th>5197</th>\n",
       "      <td>Good phone</td>\n",
       "      <td>4</td>\n",
       "    </tr>\n",
       "    <tr>\n",
       "      <th>5198</th>\n",
       "      <td>It's awesome... Thank you Flipkart every year ...</td>\n",
       "      <td>3</td>\n",
       "    </tr>\n",
       "    <tr>\n",
       "      <th>5199</th>\n",
       "      <td>Wow 😍😍😍😍 I am so happy very good tq Flipkart 😍😍😍😍</td>\n",
       "      <td>5</td>\n",
       "    </tr>\n",
       "  </tbody>\n",
       "</table>\n",
       "</div>"
      ],
      "text/plain": [
       "                                         Product_Review Ratings\n",
       "5195                                               Good       5\n",
       "5196                                               Best       5\n",
       "5197                                         Good phone       4\n",
       "5198  It's awesome... Thank you Flipkart every year ...       3\n",
       "5199  Wow 😍😍😍😍 I am so happy very good tq Flipkart 😍😍😍😍       5"
      ]
     },
     "execution_count": 65,
     "metadata": {},
     "output_type": "execute_result"
    }
   ],
   "source": [
    "#Checking last 5 data of the dataframe\n",
    "f_poco.tail()"
   ]
  },
  {
   "cell_type": "code",
   "execution_count": 66,
   "metadata": {},
   "outputs": [],
   "source": [
    "#Closing the driver\n",
    "driver.close()"
   ]
  },
  {
   "cell_type": "markdown",
   "metadata": {},
   "source": [
    "#### **2.3. Routers**"
   ]
  },
  {
   "cell_type": "code",
   "execution_count": 67,
   "metadata": {},
   "outputs": [],
   "source": [
    "# Connect to web driver\n",
    "driver =webdriver.Chrome(r\"C:\\Users\\Femina\\Downloads\\chromedriver_win32 (1)\\chromedriver.exe \")"
   ]
  },
  {
   "cell_type": "code",
   "execution_count": 68,
   "metadata": {},
   "outputs": [],
   "source": [
    "# Getting the website to driver\n",
    "driver.get('https://www.flipkart.com/tp-link-tl-wr841n-300mbps-wireless-n-router/product-reviews/itmf48vgyfyx8m4f?pid=RTRD7HN3JJYF6WN2&lid=LSTRTRD7HN3JJYF6WN20ZITXQ&marketplace=FLIPKART')"
   ]
  },
  {
   "cell_type": "code",
   "execution_count": 69,
   "metadata": {},
   "outputs": [],
   "source": [
    "#Taking the empty lists\n",
    "Ratings=[]\n",
    "Review=[]\n",
    "\n",
    "#As there are nearly 10 reviews per page, we will check for 400+ pages and scrap the required data\n",
    "#Now we will take a for loop and scrap\n",
    "for i in range(0,150):\n",
    "    for j in driver.find_elements_by_xpath(\"//div[@class='_3LWZlK _1BLPMq']\"):\n",
    "        Ratings.append(j.text)\n",
    "    for j in driver.find_elements_by_xpath(\"//div[@class='t-ZTKy']\"):\n",
    "        Review.append(j.text)\n",
    "        \n",
    "    #Path for next page as it changes for every page. We are appending numbers as pages change  \n",
    "    k=i+1\n",
    "    next_page=\"https://www.flipkart.com/tp-link-tl-wr841n-300mbps-wireless-n-router/product-reviews/itmf48vgyfyx8m4f?pid=RTRD7HN3JJYF6WN2&lid=LSTRTRD7HN3JJYF6WN20ZITXQ&marketplace=FLIPKART&page=\"+str(k) \n",
    "    driver.get(next_page)"
   ]
  },
  {
   "cell_type": "code",
   "execution_count": 70,
   "metadata": {},
   "outputs": [
    {
     "name": "stdout",
     "output_type": "stream",
     "text": [
      "1500 1457\n"
     ]
    }
   ],
   "source": [
    "# Checking the length of the data scraped\n",
    "print(len(Review),len(Ratings))"
   ]
  },
  {
   "cell_type": "code",
   "execution_count": 71,
   "metadata": {},
   "outputs": [],
   "source": [
    "# Saving in dataframe\n",
    "router=pd.DataFrame({'Product_Review':Review[:1000],'Ratings':Ratings[:1000]})"
   ]
  },
  {
   "cell_type": "code",
   "execution_count": 72,
   "metadata": {},
   "outputs": [
    {
     "data": {
      "text/html": [
       "<div>\n",
       "<style scoped>\n",
       "    .dataframe tbody tr th:only-of-type {\n",
       "        vertical-align: middle;\n",
       "    }\n",
       "\n",
       "    .dataframe tbody tr th {\n",
       "        vertical-align: top;\n",
       "    }\n",
       "\n",
       "    .dataframe thead th {\n",
       "        text-align: right;\n",
       "    }\n",
       "</style>\n",
       "<table border=\"1\" class=\"dataframe\">\n",
       "  <thead>\n",
       "    <tr style=\"text-align: right;\">\n",
       "      <th></th>\n",
       "      <th>Product_Review</th>\n",
       "      <th>Ratings</th>\n",
       "    </tr>\n",
       "  </thead>\n",
       "  <tbody>\n",
       "    <tr>\n",
       "      <th>0</th>\n",
       "      <td>*********EDIT: Today is 8th March 2015, more t...</td>\n",
       "      <td>5</td>\n",
       "    </tr>\n",
       "    <tr>\n",
       "      <th>1</th>\n",
       "      <td>I Used this Router for 30 days, Really worth f...</td>\n",
       "      <td>4</td>\n",
       "    </tr>\n",
       "    <tr>\n",
       "      <th>2</th>\n",
       "      <td>Okay, so... my review of this router is going ...</td>\n",
       "      <td>4</td>\n",
       "    </tr>\n",
       "    <tr>\n",
       "      <th>3</th>\n",
       "      <td>Excellent service and great buying experience ...</td>\n",
       "      <td>5</td>\n",
       "    </tr>\n",
       "    <tr>\n",
       "      <th>4</th>\n",
       "      <td>I bought this product on 25/05/2012 at 11.30 a...</td>\n",
       "      <td>5</td>\n",
       "    </tr>\n",
       "  </tbody>\n",
       "</table>\n",
       "</div>"
      ],
      "text/plain": [
       "                                      Product_Review Ratings\n",
       "0  *********EDIT: Today is 8th March 2015, more t...       5\n",
       "1  I Used this Router for 30 days, Really worth f...       4\n",
       "2  Okay, so... my review of this router is going ...       4\n",
       "3  Excellent service and great buying experience ...       5\n",
       "4  I bought this product on 25/05/2012 at 11.30 a...       5"
      ]
     },
     "execution_count": 72,
     "metadata": {},
     "output_type": "execute_result"
    }
   ],
   "source": [
    "# Checking first 5 data of the dataframe\n",
    "router.head()"
   ]
  },
  {
   "cell_type": "code",
   "execution_count": 73,
   "metadata": {},
   "outputs": [
    {
     "data": {
      "text/html": [
       "<div>\n",
       "<style scoped>\n",
       "    .dataframe tbody tr th:only-of-type {\n",
       "        vertical-align: middle;\n",
       "    }\n",
       "\n",
       "    .dataframe tbody tr th {\n",
       "        vertical-align: top;\n",
       "    }\n",
       "\n",
       "    .dataframe thead th {\n",
       "        text-align: right;\n",
       "    }\n",
       "</style>\n",
       "<table border=\"1\" class=\"dataframe\">\n",
       "  <thead>\n",
       "    <tr style=\"text-align: right;\">\n",
       "      <th></th>\n",
       "      <th>Product_Review</th>\n",
       "      <th>Ratings</th>\n",
       "    </tr>\n",
       "  </thead>\n",
       "  <tbody>\n",
       "    <tr>\n",
       "      <th>995</th>\n",
       "      <td>I needed to create a WiFi setup for small offi...</td>\n",
       "      <td>5</td>\n",
       "    </tr>\n",
       "    <tr>\n",
       "      <th>996</th>\n",
       "      <td>its very easy interface to work with and i str...</td>\n",
       "      <td>4</td>\n",
       "    </tr>\n",
       "    <tr>\n",
       "      <th>997</th>\n",
       "      <td>Honest rating for this product is 5/5 . Just f...</td>\n",
       "      <td>5</td>\n",
       "    </tr>\n",
       "    <tr>\n",
       "      <th>998</th>\n",
       "      <td>I have bought 3 of these little guys, for my s...</td>\n",
       "      <td>4</td>\n",
       "    </tr>\n",
       "    <tr>\n",
       "      <th>999</th>\n",
       "      <td>Its a great product. Works really fine. It wil...</td>\n",
       "      <td>5</td>\n",
       "    </tr>\n",
       "  </tbody>\n",
       "</table>\n",
       "</div>"
      ],
      "text/plain": [
       "                                        Product_Review Ratings\n",
       "995  I needed to create a WiFi setup for small offi...       5\n",
       "996  its very easy interface to work with and i str...       4\n",
       "997  Honest rating for this product is 5/5 . Just f...       5\n",
       "998  I have bought 3 of these little guys, for my s...       4\n",
       "999  Its a great product. Works really fine. It wil...       5"
      ]
     },
     "execution_count": 73,
     "metadata": {},
     "output_type": "execute_result"
    }
   ],
   "source": [
    "# Checking last 5 data of the dataframe\n",
    "router.tail()"
   ]
  },
  {
   "cell_type": "code",
   "execution_count": 74,
   "metadata": {},
   "outputs": [],
   "source": [
    "# Closing the driver\n",
    "driver.close()"
   ]
  },
  {
   "cell_type": "markdown",
   "metadata": {},
   "source": [
    "#### Exporting data in CSV file"
   ]
  },
  {
   "cell_type": "code",
   "execution_count": null,
   "metadata": {},
   "outputs": [],
   "source": [
    "# Combining all dataframes into a single dataframe\n",
    "ratings_data=headphones.append([laptops,camera,phones,f_phones,f_poco,router],ignore_index=True)\n",
    "ratings_data"
   ]
  },
  {
   "cell_type": "code",
   "execution_count": 76,
   "metadata": {},
   "outputs": [],
   "source": [
    "# Saving the data into a csv file\n",
    "ratings_data.to_csv('Rating_Prediction_dataset.csv')"
   ]
  },
  {
   "cell_type": "code",
   "execution_count": null,
   "metadata": {},
   "outputs": [],
   "source": []
  }
 ],
 "metadata": {
  "kernelspec": {
   "display_name": "Python 3",
   "language": "python",
   "name": "python3"
  },
  "language_info": {
   "codemirror_mode": {
    "name": "ipython",
    "version": 3
   },
   "file_extension": ".py",
   "mimetype": "text/x-python",
   "name": "python",
   "nbconvert_exporter": "python",
   "pygments_lexer": "ipython3",
   "version": "3.8.5"
  }
 },
 "nbformat": 4,
 "nbformat_minor": 4
}
