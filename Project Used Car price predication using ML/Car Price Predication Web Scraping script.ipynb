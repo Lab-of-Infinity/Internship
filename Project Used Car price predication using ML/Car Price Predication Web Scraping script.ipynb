{
 "cells": [
  {
   "cell_type": "markdown",
   "metadata": {},
   "source": [
    "## **Car Price Prediction Project - Part 1 Web Scraping Data of Used Car**\n",
    "***Author : Mr.Lokesh Baviskar***\n",
    "\n",
    "### **Objective** :\n",
    " **To Scrape data of used car to predict car price**\n",
    "\n",
    "### **Strategy** :\n",
    "1. Selenium will be used for webscraping data from cardheko.com\n",
    "2. In first part Scraping URL of Used car for different location in India.\n",
    "3. Storing Scrap URL in excel file. \n",
    "4. Selecting car feature to be scrap from website.\n",
    "5. In second part Scraping data from indiviual URL in excel file.\n",
    "6. Exporting final data in Excel file."
   ]
  },
  {
   "cell_type": "markdown",
   "metadata": {},
   "source": [
    "### **Part 1 : Scraping URLs of Used car from Cardheko.com**"
   ]
  },
  {
   "cell_type": "markdown",
   "metadata": {},
   "source": [
    "- **Importing libraries require for scraping**"
   ]
  },
  {
   "cell_type": "code",
   "execution_count": 1,
   "metadata": {},
   "outputs": [],
   "source": [
    "import pandas as pd\n",
    "import numpy as pd\n",
    "import time\n",
    "import selenium\n",
    "from selenium import webdriver\n",
    "from selenium.common.exceptions import StaleElementReferenceException, NoSuchElementException"
   ]
  },
  {
   "cell_type": "markdown",
   "metadata": {},
   "source": [
    " - **Importing webdriver**"
   ]
  },
  {
   "cell_type": "code",
   "execution_count": 2,
   "metadata": {},
   "outputs": [],
   "source": [
    "driver=webdriver.Chrome(r'C:\\chromedriver.exe')"
   ]
  },
  {
   "cell_type": "markdown",
   "metadata": {},
   "source": [
    "- **Opening cardheko website in browser**"
   ]
  },
  {
   "cell_type": "code",
   "execution_count": 113,
   "metadata": {},
   "outputs": [],
   "source": [
    "url = \"https://www.cardekho.com/\"\n",
    "driver.get(url)\n",
    "time.sleep(2)"
   ]
  },
  {
   "cell_type": "code",
   "execution_count": 16,
   "metadata": {},
   "outputs": [],
   "source": [
    "Used_cars=driver.find_element_by_xpath('//li[@data-slug=\"/usedCars\"]/a').get_attribute('href')\n",
    "driver.get(Used_cars)\n",
    "time.sleep(2)"
   ]
  },
  {
   "cell_type": "markdown",
   "metadata": {},
   "source": [
    "- **Collecting url of different location/ city for futher scraping**"
   ]
  },
  {
   "cell_type": "markdown",
   "metadata": {},
   "source": [
    "**1. Extracting data for Ahmedabad city**"
   ]
  },
  {
   "cell_type": "code",
   "execution_count": 16,
   "metadata": {},
   "outputs": [],
   "source": [
    "url = \"https://www.cardekho.com/used-cars+in+ahmedabad\"\n",
    "driver.get(url)\n",
    "time.sleep(2)"
   ]
  },
  {
   "cell_type": "code",
   "execution_count": 17,
   "metadata": {},
   "outputs": [
    {
     "name": "stderr",
     "output_type": "stream",
     "text": [
      "100%|██████████| 200/200 [05:42<00:00,  1.71s/it]\n"
     ]
    }
   ],
   "source": [
    "from tqdm import tqdm\n",
    "for _ in tqdm(range(0,200)):\n",
    "    time.sleep(0.5)\n",
    "    driver.execute_script(\"window.scrollBy(0,1000)\",\"\")\n",
    "    time.sleep(1)\n",
    "    driver.execute_script(\"window.scrollBy(0,-350)\")"
   ]
  },
  {
   "cell_type": "code",
   "execution_count": 18,
   "metadata": {},
   "outputs": [
    {
     "name": "stderr",
     "output_type": "stream",
     "text": [
      "100%|██████████| 509/509 [00:04<00:00, 112.64it/s]\n"
     ]
    }
   ],
   "source": [
    "Car_url_ahmedabad = []\n",
    "car_url_ahmedabad = driver.find_elements_by_xpath('//div[@class=\"gsc_col-xs-7  carsName\"]/a')   \n",
    "for j in tqdm(range(len(car_url_ahmedabad))):\n",
    "    Car_url_ahmedabad.append(car_url_ahmedabad[j].get_attribute('href'))\n",
    "time.sleep(2)"
   ]
  },
  {
   "cell_type": "code",
   "execution_count": 20,
   "metadata": {},
   "outputs": [
    {
     "data": {
      "text/plain": [
       "509"
      ]
     },
     "execution_count": 20,
     "metadata": {},
     "output_type": "execute_result"
    }
   ],
   "source": [
    "len(Car_url_ahmedabad)"
   ]
  },
  {
   "cell_type": "markdown",
   "metadata": {},
   "source": [
    "**2. Extracting URL for Bangalore city**"
   ]
  },
  {
   "cell_type": "code",
   "execution_count": 33,
   "metadata": {},
   "outputs": [],
   "source": [
    "url = \"https://www.cardekho.com/used-cars+in+bangalore\"\n",
    "driver.get(url)\n",
    "time.sleep(2)"
   ]
  },
  {
   "cell_type": "code",
   "execution_count": 34,
   "metadata": {},
   "outputs": [
    {
     "name": "stderr",
     "output_type": "stream",
     "text": [
      "100%|██████████| 300/300 [09:45<00:00,  1.95s/it]\n"
     ]
    }
   ],
   "source": [
    "from tqdm import tqdm\n",
    "for _ in tqdm(range(0,300)):\n",
    "    time.sleep(0.75)\n",
    "    driver.execute_script(\"window.scrollBy(0,1000)\",\"\")\n",
    "    time.sleep(1)\n",
    "    driver.execute_script(\"window.scrollBy(0,-350)\")"
   ]
  },
  {
   "cell_type": "code",
   "execution_count": 35,
   "metadata": {},
   "outputs": [
    {
     "name": "stderr",
     "output_type": "stream",
     "text": [
      "100%|██████████| 580/580 [00:05<00:00, 105.58it/s]\n"
     ]
    }
   ],
   "source": [
    "Car_url_bangalore = []\n",
    "car_url_bangalore = driver.find_elements_by_xpath('//div[@class=\"gsc_col-xs-7  carsName\"]/a')   \n",
    "for j in tqdm(range(len(car_url_bangalore))):\n",
    "    Car_url_bangalore.append(car_url_bangalore[j].get_attribute('href'))\n",
    "time.sleep(2)"
   ]
  },
  {
   "cell_type": "code",
   "execution_count": 36,
   "metadata": {},
   "outputs": [
    {
     "data": {
      "text/plain": [
       "580"
      ]
     },
     "execution_count": 36,
     "metadata": {},
     "output_type": "execute_result"
    }
   ],
   "source": [
    "len(Car_url_bangalore)"
   ]
  },
  {
   "cell_type": "markdown",
   "metadata": {},
   "source": [
    "**3. Extracting URL for Chennai**"
   ]
  },
  {
   "cell_type": "code",
   "execution_count": 37,
   "metadata": {},
   "outputs": [],
   "source": [
    "url = \"https://www.cardekho.com/used-cars+in+chennai\"\n",
    "driver.get(url)\n",
    "time.sleep(2)"
   ]
  },
  {
   "cell_type": "code",
   "execution_count": 38,
   "metadata": {},
   "outputs": [
    {
     "name": "stderr",
     "output_type": "stream",
     "text": [
      "100%|██████████| 250/250 [06:35<00:00,  1.58s/it]\n"
     ]
    }
   ],
   "source": [
    "from tqdm import tqdm\n",
    "for _ in tqdm(range(0,250)):\n",
    "    time.sleep(0.5)\n",
    "    driver.execute_script(\"window.scrollBy(0,1000)\",\"\")\n",
    "    time.sleep(1)\n",
    "    driver.execute_script(\"window.scrollBy(0,-350)\")"
   ]
  },
  {
   "cell_type": "code",
   "execution_count": 39,
   "metadata": {},
   "outputs": [
    {
     "name": "stderr",
     "output_type": "stream",
     "text": [
      "100%|██████████| 298/298 [00:02<00:00, 117.45it/s]\n"
     ]
    }
   ],
   "source": [
    "Car_url_chennai = []\n",
    "car_url_chennai = driver.find_elements_by_xpath('//div[@class=\"gsc_col-xs-7  carsName\"]/a')   \n",
    "for j in tqdm(range(len(car_url_chennai))):\n",
    "    Car_url_chennai.append(car_url_chennai[j].get_attribute('href'))\n",
    "time.sleep(2)"
   ]
  },
  {
   "cell_type": "markdown",
   "metadata": {},
   "source": [
    "**4. Extracting URL for Dehli-NCR**"
   ]
  },
  {
   "cell_type": "code",
   "execution_count": 48,
   "metadata": {},
   "outputs": [],
   "source": [
    "url = \"https://www.cardekho.com/used-cars+in+delhi-ncr\"\n",
    "driver.get(url)\n",
    "time.sleep(2)"
   ]
  },
  {
   "cell_type": "code",
   "execution_count": 49,
   "metadata": {},
   "outputs": [
    {
     "name": "stderr",
     "output_type": "stream",
     "text": [
      "100%|██████████| 1100/1100 [53:55<00:00,  2.94s/it]\n"
     ]
    }
   ],
   "source": [
    "from tqdm import tqdm\n",
    "for _ in tqdm(range(0,1100)):\n",
    "    time.sleep(0.5)\n",
    "    driver.execute_script(\"window.scrollBy(0,1500)\",\"\")\n",
    "    time.sleep(1)\n",
    "    driver.execute_script(\"window.scrollBy(0,-500)\")"
   ]
  },
  {
   "cell_type": "code",
   "execution_count": 50,
   "metadata": {},
   "outputs": [
    {
     "name": "stderr",
     "output_type": "stream",
     "text": [
      "100%|██████████| 3141/3141 [01:03<00:00, 49.52it/s]\n"
     ]
    }
   ],
   "source": [
    "Car_url_delhi_ncr = []\n",
    "car_url_delhi_ncr = driver.find_elements_by_xpath('//div[@class=\"gsc_col-xs-7  carsName\"]/a')   \n",
    "for j in tqdm(range(len(car_url_delhi_ncr))):\n",
    "    Car_url_delhi_ncr.append(car_url_delhi_ncr[j].get_attribute('href'))\n",
    "time.sleep(2)"
   ]
  },
  {
   "cell_type": "markdown",
   "metadata": {},
   "source": [
    "**5. Extracting URL for Gurgaon city**"
   ]
  },
  {
   "cell_type": "code",
   "execution_count": 51,
   "metadata": {},
   "outputs": [],
   "source": [
    "url = \"https://www.cardekho.com/used-cars+in+gurgaon\"\n",
    "driver.get(url)\n",
    "time.sleep(2)"
   ]
  },
  {
   "cell_type": "code",
   "execution_count": 52,
   "metadata": {},
   "outputs": [
    {
     "name": "stderr",
     "output_type": "stream",
     "text": [
      "100%|██████████| 600/600 [20:22<00:00,  2.04s/it]\n"
     ]
    }
   ],
   "source": [
    "from tqdm import tqdm\n",
    "for _ in tqdm(range(0,600)):\n",
    "    time.sleep(0.5)\n",
    "    driver.execute_script(\"window.scrollBy(0,1500)\",\"\")\n",
    "    time.sleep(1)\n",
    "    driver.execute_script(\"window.scrollBy(0,-500)\")"
   ]
  },
  {
   "cell_type": "code",
   "execution_count": 53,
   "metadata": {},
   "outputs": [
    {
     "name": "stderr",
     "output_type": "stream",
     "text": [
      "100%|██████████| 1217/1217 [00:12<00:00, 100.96it/s]\n"
     ]
    }
   ],
   "source": [
    "Car_url_gurgaon = []\n",
    "car_url_gurgaon = driver.find_elements_by_xpath('//div[@class=\"gsc_col-xs-7  carsName\"]/a')   \n",
    "for j in tqdm(range(len(car_url_gurgaon))):\n",
    "    Car_url_gurgaon.append(car_url_gurgaon[j].get_attribute('href'))\n",
    "time.sleep(2)"
   ]
  },
  {
   "cell_type": "markdown",
   "metadata": {},
   "source": [
    "**6. Extracting URL for Telangana**"
   ]
  },
  {
   "cell_type": "code",
   "execution_count": 54,
   "metadata": {},
   "outputs": [],
   "source": [
    "url = \"https://www.cardekho.com/used-cars+in+telangana\"\n",
    "driver.get(url)\n",
    "time.sleep(2)"
   ]
  },
  {
   "cell_type": "code",
   "execution_count": 56,
   "metadata": {},
   "outputs": [
    {
     "name": "stderr",
     "output_type": "stream",
     "text": [
      "100%|██████████| 400/400 [17:11<00:00,  2.58s/it]\n"
     ]
    }
   ],
   "source": [
    "from tqdm import tqdm\n",
    "for _ in tqdm(range(0,400)):\n",
    "    time.sleep(0.5)\n",
    "    driver.execute_script(\"window.scrollBy(0,1500)\",\"\")\n",
    "    time.sleep(1)\n",
    "    driver.execute_script(\"window.scrollBy(0,-500)\")"
   ]
  },
  {
   "cell_type": "code",
   "execution_count": 57,
   "metadata": {},
   "outputs": [
    {
     "name": "stderr",
     "output_type": "stream",
     "text": [
      "100%|██████████| 1210/1210 [00:10<00:00, 110.06it/s]\n"
     ]
    }
   ],
   "source": [
    "Car_url_telangana = []\n",
    "car_url_telangana = driver.find_elements_by_xpath('//div[@class=\"gsc_col-xs-7  carsName\"]/a')   \n",
    "for j in tqdm(range(len(car_url_telangana))):\n",
    "    Car_url_telangana.append(car_url_telangana[j].get_attribute('href'))\n",
    "time.sleep(2)"
   ]
  },
  {
   "cell_type": "markdown",
   "metadata": {},
   "source": [
    "**7. Extracting URL for Maharashtra**"
   ]
  },
  {
   "cell_type": "code",
   "execution_count": 61,
   "metadata": {},
   "outputs": [],
   "source": [
    "url = \"https://www.cardekho.com/used-cars+in+maharashtra\"\n",
    "driver.get(url)\n",
    "time.sleep(2)"
   ]
  },
  {
   "cell_type": "code",
   "execution_count": 62,
   "metadata": {},
   "outputs": [
    {
     "name": "stderr",
     "output_type": "stream",
     "text": [
      "100%|██████████| 1000/1000 [09:30<00:00,  1.75it/s]\n"
     ]
    }
   ],
   "source": [
    "from tqdm import tqdm\n",
    "for _ in tqdm(range(0,1000)):\n",
    "    driver.execute_script(\"window.scrollBy(0,1500)\",\"\")\n",
    "    time.sleep(0.5)\n",
    "    driver.execute_script(\"window.scrollBy(0,-500)\")"
   ]
  },
  {
   "cell_type": "code",
   "execution_count": 60,
   "metadata": {},
   "outputs": [
    {
     "name": "stderr",
     "output_type": "stream",
     "text": [
      "100%|██████████| 4526/4526 [01:24<00:00, 53.65it/s] \n"
     ]
    }
   ],
   "source": [
    "Car_url_Maharashtra = []\n",
    "car_url_Maharashtra = driver.find_elements_by_xpath('//div[@class=\"gsc_col-xs-7  carsName\"]/a')   \n",
    "for j in tqdm(range(len(car_url_Maharashtra))):\n",
    "    Car_url_Maharashtra.append(car_url_Maharashtra[j].get_attribute('href'))\n",
    "time.sleep(2)"
   ]
  },
  {
   "cell_type": "markdown",
   "metadata": {},
   "source": [
    "**8. Extracting URL for Karnataka**"
   ]
  },
  {
   "cell_type": "code",
   "execution_count": 63,
   "metadata": {},
   "outputs": [],
   "source": [
    "url = \"https://www.cardekho.com/used-cars+in+karnataka\"\n",
    "driver.get(url)\n",
    "time.sleep(2)"
   ]
  },
  {
   "cell_type": "code",
   "execution_count": 64,
   "metadata": {},
   "outputs": [
    {
     "name": "stderr",
     "output_type": "stream",
     "text": [
      "100%|██████████| 750/750 [08:08<00:00,  1.53it/s] \n"
     ]
    }
   ],
   "source": [
    "from tqdm import tqdm\n",
    "for _ in tqdm(range(0,750)):\n",
    "   \n",
    "    driver.execute_script(\"window.scrollBy(0,1500)\",\"\")\n",
    "    time.sleep(0.4)\n",
    "    driver.execute_script(\"window.scrollBy(0,-500)\")"
   ]
  },
  {
   "cell_type": "code",
   "execution_count": 65,
   "metadata": {},
   "outputs": [
    {
     "name": "stderr",
     "output_type": "stream",
     "text": [
      "100%|██████████| 867/867 [00:07<00:00, 111.79it/s]\n"
     ]
    }
   ],
   "source": [
    "Car_url_Karnataka = []\n",
    "car_url_Karnataka = driver.find_elements_by_xpath('//div[@class=\"gsc_col-xs-7  carsName\"]/a')   \n",
    "for j in tqdm(range(len(car_url_Karnataka))):\n",
    "    Car_url_Karnataka.append(car_url_Karnataka[j].get_attribute('href'))\n",
    "time.sleep(2)"
   ]
  },
  {
   "cell_type": "markdown",
   "metadata": {},
   "source": [
    "**9. Extracting URL for Uttar Pradesh**"
   ]
  },
  {
   "cell_type": "code",
   "execution_count": 66,
   "metadata": {},
   "outputs": [],
   "source": [
    "url = \"https://www.cardekho.com/used-cars+in+uttar-pradesh\"\n",
    "driver.get(url)\n",
    "time.sleep(2)"
   ]
  },
  {
   "cell_type": "code",
   "execution_count": 67,
   "metadata": {},
   "outputs": [
    {
     "name": "stderr",
     "output_type": "stream",
     "text": [
      "100%|██████████| 700/700 [10:19<00:00,  1.13it/s]  \n"
     ]
    }
   ],
   "source": [
    "from tqdm import tqdm\n",
    "for _ in tqdm(range(0,700)):\n",
    "    driver.execute_script(\"window.scrollBy(0,1500)\",\"\")\n",
    "    time.sleep(0.25)\n",
    "    driver.execute_script(\"window.scrollBy(0,-500)\")"
   ]
  },
  {
   "cell_type": "code",
   "execution_count": 68,
   "metadata": {},
   "outputs": [
    {
     "name": "stderr",
     "output_type": "stream",
     "text": [
      "100%|██████████| 1380/1380 [00:15<00:00, 89.31it/s]\n"
     ]
    }
   ],
   "source": [
    "Car_url_UttarPradesh = []\n",
    "car_url_UttarPradesh = driver.find_elements_by_xpath('//div[@class=\"gsc_col-xs-7  carsName\"]/a')   \n",
    "for j in tqdm(range(len(car_url_UttarPradesh))):\n",
    "    Car_url_UttarPradesh.append(car_url_UttarPradesh[j].get_attribute('href'))\n",
    "time.sleep(2)"
   ]
  },
  {
   "cell_type": "markdown",
   "metadata": {},
   "source": [
    "**10. Extracting URL for Tamil Nadu**"
   ]
  },
  {
   "cell_type": "code",
   "execution_count": 69,
   "metadata": {},
   "outputs": [],
   "source": [
    "url = \"https://www.cardekho.com/used-cars+in+tamil-nadu\"\n",
    "driver.get(url)\n",
    "time.sleep(2)"
   ]
  },
  {
   "cell_type": "code",
   "execution_count": null,
   "metadata": {},
   "outputs": [],
   "source": [
    "from tqdm import tqdm\n",
    "for _ in tqdm(range(0,600)):\n",
    "    driver.execute_script(\"window.scrollBy(0,1500)\",\"\")\n",
    "    time.sleep(0.25)\n",
    "    driver.execute_script(\"window.scrollBy(0,-500)\")"
   ]
  },
  {
   "cell_type": "code",
   "execution_count": 73,
   "metadata": {},
   "outputs": [
    {
     "name": "stderr",
     "output_type": "stream",
     "text": [
      "100%|██████████| 1750/1750 [02:35<00:00, 11.24it/s]\n"
     ]
    }
   ],
   "source": [
    "Car_url_TamilNadu = []\n",
    "car_url_TamilNadu = driver.find_elements_by_xpath('//div[@class=\"gsc_col-xs-7  carsName\"]/a')   \n",
    "for j in tqdm(range(len(car_url_TamilNadu))):\n",
    "    Car_url_TamilNadu.append(car_url_TamilNadu[j].get_attribute('href'))\n",
    "time.sleep(2)"
   ]
  },
  {
   "cell_type": "markdown",
   "metadata": {},
   "source": [
    "**11. Extracting URL for Haryana**"
   ]
  },
  {
   "cell_type": "code",
   "execution_count": 75,
   "metadata": {},
   "outputs": [],
   "source": [
    "url = \"https://www.cardekho.com/used-cars+in+haryana\"\n",
    "driver.get(url)\n",
    "time.sleep(2)"
   ]
  },
  {
   "cell_type": "code",
   "execution_count": null,
   "metadata": {},
   "outputs": [],
   "source": [
    "from tqdm import tqdm\n",
    "for _ in tqdm(range(0,600)):\n",
    "    \n",
    "    driver.execute_script(\"window.scrollBy(0,1500)\",\"\")\n",
    "    time.sleep(0.25)\n",
    "    driver.execute_script(\"window.scrollBy(0,-500)\")"
   ]
  },
  {
   "cell_type": "code",
   "execution_count": 79,
   "metadata": {},
   "outputs": [
    {
     "name": "stderr",
     "output_type": "stream",
     "text": [
      "100%|██████████| 1228/1228 [00:12<00:00, 96.30it/s] \n"
     ]
    }
   ],
   "source": [
    "Car_url_Haryana = []\n",
    "car_url_Haryana = driver.find_elements_by_xpath('//div[@class=\"gsc_col-xs-7  carsName\"]/a')   \n",
    "for j in tqdm(range(len(car_url_Haryana))):\n",
    "    Car_url_Haryana.append(car_url_Haryana[j].get_attribute('href'))\n",
    "time.sleep(2)"
   ]
  },
  {
   "cell_type": "code",
   "execution_count": 99,
   "metadata": {},
   "outputs": [
    {
     "data": {
      "text/plain": [
       "1228"
      ]
     },
     "execution_count": 99,
     "metadata": {},
     "output_type": "execute_result"
    }
   ],
   "source": [
    "len(Car_url_Haryana)"
   ]
  },
  {
   "cell_type": "markdown",
   "metadata": {},
   "source": [
    "**12. Extracting URL for Rajasthan**"
   ]
  },
  {
   "cell_type": "code",
   "execution_count": 80,
   "metadata": {},
   "outputs": [],
   "source": [
    "url = \"https://www.cardekho.com/used-cars+in+rajasthan\"\n",
    "driver.get(url)\n",
    "time.sleep(2)"
   ]
  },
  {
   "cell_type": "code",
   "execution_count": 81,
   "metadata": {},
   "outputs": [
    {
     "name": "stderr",
     "output_type": "stream",
     "text": [
      "100%|██████████| 500/500 [04:49<00:00,  1.73it/s]\n"
     ]
    }
   ],
   "source": [
    "from tqdm import tqdm\n",
    "for _ in tqdm(range(0,500)):\n",
    "  \n",
    "    driver.execute_script(\"window.scrollBy(0,1500)\",\"\")\n",
    "    time.sleep(0.25)\n",
    "    driver.execute_script(\"window.scrollBy(0,-500)\")"
   ]
  },
  {
   "cell_type": "code",
   "execution_count": 82,
   "metadata": {},
   "outputs": [
    {
     "name": "stderr",
     "output_type": "stream",
     "text": [
      "100%|██████████| 687/687 [00:06<00:00, 111.65it/s]\n"
     ]
    }
   ],
   "source": [
    "Car_url_Rajasthan = []\n",
    "car_url_Rajasthan = driver.find_elements_by_xpath('//div[@class=\"gsc_col-xs-7  carsName\"]/a')   \n",
    "for j in tqdm(range(len(car_url_Rajasthan))):\n",
    "    Car_url_Rajasthan.append(car_url_Rajasthan[j].get_attribute('href'))\n",
    "time.sleep(2)"
   ]
  },
  {
   "cell_type": "markdown",
   "metadata": {},
   "source": [
    "**13. Extracting URL for Kerala**"
   ]
  },
  {
   "cell_type": "code",
   "execution_count": 83,
   "metadata": {},
   "outputs": [],
   "source": [
    "url = \"https://www.cardekho.com/used-cars+in+kerala\"\n",
    "driver.get(url)\n",
    "time.sleep(2)"
   ]
  },
  {
   "cell_type": "code",
   "execution_count": 84,
   "metadata": {},
   "outputs": [
    {
     "name": "stderr",
     "output_type": "stream",
     "text": [
      "100%|██████████| 400/400 [10:11<00:00,  1.53s/it]\n"
     ]
    }
   ],
   "source": [
    "from tqdm import tqdm\n",
    "for _ in tqdm(range(0,400)):\n",
    "    time.sleep(0.5)\n",
    "    driver.execute_script(\"window.scrollBy(0,1500)\",\"\")\n",
    "    time.sleep(1)\n",
    "    driver.execute_script(\"window.scrollBy(0,-500)\")"
   ]
  },
  {
   "cell_type": "code",
   "execution_count": 85,
   "metadata": {},
   "outputs": [
    {
     "name": "stderr",
     "output_type": "stream",
     "text": [
      "100%|██████████| 18/18 [00:00<00:00, 117.58it/s]\n"
     ]
    }
   ],
   "source": [
    "Car_url_Kerala = []\n",
    "car_url_Kerala = driver.find_elements_by_xpath('//div[@class=\"gsc_col-xs-7  carsName\"]/a')   \n",
    "for j in tqdm(range(len(car_url_Kerala))):\n",
    "    Car_url_Kerala.append(car_url_Kerala[j].get_attribute('href'))\n",
    "time.sleep(2)"
   ]
  },
  {
   "cell_type": "code",
   "execution_count": 87,
   "metadata": {},
   "outputs": [],
   "source": [
    "Car_url = []"
   ]
  },
  {
   "cell_type": "code",
   "execution_count": 89,
   "metadata": {},
   "outputs": [],
   "source": [
    "Car_url = Car_url_Kerala + Car_url_Rajasthan + Car_url_Haryana + Car_url_TamilNadu + Car_url_UttarPradesh + Car_url_Karnataka  + Car_url_telangana + Car_url_gurgaon + Car_url_delhi_ncr + Car_url_chennai + Car_url_ahmedabad"
   ]
  },
  {
   "cell_type": "code",
   "execution_count": 90,
   "metadata": {},
   "outputs": [
    {
     "data": {
      "text/plain": [
       "12305"
      ]
     },
     "execution_count": 90,
     "metadata": {},
     "output_type": "execute_result"
    }
   ],
   "source": [
    "len(Car_url)"
   ]
  },
  {
   "cell_type": "markdown",
   "metadata": {},
   "source": [
    "#### **Creating Excel file of URL for futher webscraping**"
   ]
  },
  {
   "cell_type": "code",
   "execution_count": 3,
   "metadata": {},
   "outputs": [],
   "source": [
    "import pandas as pd"
   ]
  },
  {
   "cell_type": "code",
   "execution_count": 97,
   "metadata": {},
   "outputs": [],
   "source": [
    "Car_URL = pd.DataFrame({})\n",
    "Car_URL['Urls'] = Car_url"
   ]
  },
  {
   "cell_type": "code",
   "execution_count": 98,
   "metadata": {},
   "outputs": [],
   "source": [
    "Car_URL.to_excel('Car_url.xlsx', index = False)"
   ]
  },
  {
   "cell_type": "markdown",
   "metadata": {},
   "source": [
    "## **Part 2 : Scraping features from Indiviudal Link**"
   ]
  },
  {
   "cell_type": "markdown",
   "metadata": {},
   "source": [
    "### **Importing excel file contain URLs.**"
   ]
  },
  {
   "cell_type": "code",
   "execution_count": 6,
   "metadata": {},
   "outputs": [],
   "source": [
    "import pandas as pd"
   ]
  },
  {
   "cell_type": "code",
   "execution_count": 4,
   "metadata": {},
   "outputs": [],
   "source": [
    "df = pd.read_excel('Car_url.xlsx')"
   ]
  },
  {
   "cell_type": "code",
   "execution_count": 5,
   "metadata": {},
   "outputs": [
    {
     "data": {
      "text/plain": [
       "(12305, 1)"
      ]
     },
     "execution_count": 5,
     "metadata": {},
     "output_type": "execute_result"
    }
   ],
   "source": [
    "df.shape"
   ]
  },
  {
   "cell_type": "markdown",
   "metadata": {},
   "source": [
    "#### **As we have scrap around 12035 URL, We Will scrap car details in different batchs.**"
   ]
  },
  {
   "cell_type": "code",
   "execution_count": 6,
   "metadata": {},
   "outputs": [],
   "source": [
    "# Making Empty lists\n",
    "Location = []\n",
    "Model = []\n",
    "Variant = []\n",
    "Price = []\n",
    "Make_year =[]\n",
    "Fuel_Type = []\n",
    "KMs_driven = []\n",
    "Engine_displacement = []\n",
    "Transmission = []\n",
    "Milage = []\n",
    "Max_power = []\n",
    "Torque = []\n",
    "Seats = []\n",
    "Color = []\n",
    "Gear_Box =[]\n",
    "Steering_Type =[]\n",
    "Front_Brake_Type = []\n",
    "Rear_Brake_Type = []\n",
    "Tyre_Volume = []\n",
    "Cargo_volume = []\n",
    "Engine_Type = []\n",
    "No_of_cylinder = []\n",
    "Value_Configuration = []\n",
    "Fuel_Suppy_System = []\n",
    "Turbo_charger = []\n",
    "Super_charger = []\n",
    "Length = []\n",
    "Width =[]\n",
    "Height = []\n",
    "Gross_weight = []"
   ]
  },
  {
   "cell_type": "code",
   "execution_count": 21,
   "metadata": {},
   "outputs": [],
   "source": [
    "driver=webdriver.Chrome(r'C:\\chromedriver.exe')"
   ]
  },
  {
   "cell_type": "markdown",
   "metadata": {},
   "source": [
    "**Extracting details for batch 1 of 500**"
   ]
  },
  {
   "cell_type": "code",
   "execution_count": 16,
   "metadata": {},
   "outputs": [
    {
     "name": "stderr",
     "output_type": "stream",
     "text": [
      "100%|██████████| 100/100 [07:57<00:00,  4.78s/it]\n"
     ]
    }
   ],
   "source": [
    "from tqdm import tqdm\n",
    "for i in tqdm(df['Urls'][9800:9900]):\n",
    "    driver.get(i)\n",
    "    time.sleep(0.5)\n",
    "    \n",
    "    # Extracting Car Model via xpath\n",
    "    try :\n",
    "        model = driver.find_element_by_xpath('//div[@class=\"gsc_col-xs-12\"]/h1')\n",
    "        Model.append(model.text[5:])\n",
    "    except NoSuchElementException:\n",
    "        try :\n",
    "            model = driver.find_element_by_xpath('//div[@class=\"gsc_container_hold\"]/div/h1[2]')\n",
    "            Model.append(model.text)  \n",
    "        except NoSuchElementException:\n",
    "            pass\n",
    "        \n",
    "    #clicking to view all specifications\n",
    "    try:\n",
    "        view_more = driver.find_element_by_xpath(\"//*[text() = 'View All Specifications' or text() = 'View More']\")\n",
    "        driver.execute_script(\"arguments[0].scrollIntoView();\", view_more)\n",
    "        driver.execute_script(\"arguments[0].click();\", view_more)\n",
    "        \n",
    "    except NoSuchElementException:\n",
    "        try:\n",
    "            Button= driver.find_element_by_xpath('//*[@id=\"topspec\"]/div[2]/a')\n",
    "            Button.click()\n",
    "            time.sleep(1)\n",
    "        except NoSuchElementException:\n",
    "            pass\n",
    "    \n",
    "    time.sleep(0.75)\n",
    "    # Extracting Car Price via xpath\n",
    "    try :\n",
    "        price = driver.find_element_by_xpath('//div[@class=\"priceSection\"]/span[2]')\n",
    "        Price.append(price.text)\n",
    "    except NoSuchElementException:\n",
    "        try :\n",
    "            price = driver.find_element_by_xpath('//div[@class=\"gsc_container_hold\"]/span[1]/span')\n",
    "            Price.append(price.text)\n",
    "        except NoSuchElementException:\n",
    "            pass\n",
    "        \n",
    "    # Extracting Car Make Year via xpath\n",
    "    try :\n",
    "        year = driver.find_element_by_xpath('//*[text()=\"Make Year\"]/following-sibling::div')\n",
    "        Make_year.append(year.text)      \n",
    "    except NoSuchElementException:\n",
    "        try :\n",
    "            year = driver.find_element_by_xpath('//div[@class=\"GenDetailBox\"]/ul/li[1]/div/div')\n",
    "            Make_year.append(year.text)\n",
    "        except NoSuchElementException:\n",
    "            pass\n",
    "    \n",
    "    # Extracting Car Fuel Type via xpath\n",
    "    try :\n",
    "        fuel = driver.find_element_by_xpath('//*[text()=\"Fuel\"]/following-sibling::div')\n",
    "        Fuel_Type.append(fuel.text)\n",
    "    except NoSuchElementException:\n",
    "        try :\n",
    "            fuel = driver.find_element_by_xpath('//div[@class=\"GenDetailBox\"]/ul/li[5]/div/div')\n",
    "            Fuel_Type.append(fuel.text)\n",
    "        except NoSuchElementException:\n",
    "            Fuel_Type.append('-')\n",
    "    \n",
    "    # Extracting KMS driven via xpath\n",
    "    try :\n",
    "        kms = driver.find_element_by_xpath('//*[text()=\"KMs Driven\"]/following-sibling::div')\n",
    "        KMs_driven.append(kms.text.replace('Kms',''))\n",
    "    except NoSuchElementException:\n",
    "        try :\n",
    "            kms = driver.find_element_by_xpath('//div[@class=\"GenDetailBox\"]/ul/li[3]/div/div')\n",
    "            KMs_driven.append(kms.text.replace('kms',''))\n",
    "        except NoSuchElementException:\n",
    "            pass\n",
    "    \n",
    "    # Extracting Engine_displacemet via xpath\n",
    "    try :\n",
    "        engine_disp = driver.find_element_by_xpath('//*[text()=\"Engine Displacement\"]/following-sibling::div')\n",
    "        Engine_displacement.append(engine_disp.text.replace('CC',''))   \n",
    "    except NoSuchElementException:\n",
    "        try :\n",
    "            engine_disp = driver.find_element_by_xpath('//*[text()=\"Engine\"]/following-sibling::div')\n",
    "            Engine_displacement.append(engine_disp.text.replace('CC',''))\n",
    "        except NoSuchElementException:\n",
    "            pass\n",
    "    \n",
    "    # Extracting Transmission via xpath\n",
    "    try :\n",
    "        transmission = driver.find_element_by_xpath('//*[text()=\"Transmission\"]/following-sibling::div')\n",
    "        Transmission.append(transmission.text)\n",
    "    except NoSuchElementException:\n",
    "        try :\n",
    "            transmission = driver.find_element_by_xpath('//div[@class=\"GenDetailBox\"]/ul/li[6]/div/div')\n",
    "            Transmission.append(transmission.text)\n",
    "        except NoSuchElementException:\n",
    "            pass\n",
    "    time.sleep(0.25)\n",
    "    # Extracting Milage via xpath\n",
    "    try :\n",
    "        milage = driver.find_element_by_xpath('//*[text()=\"Mileage\"]/following-sibling::div')\n",
    "        Milage.append(milage.text.replace('kmpl',''))\n",
    "        \n",
    "    except NoSuchElementException:\n",
    "        Milage.append('-')\n",
    "    \n",
    "    # Extracting Max_power via xpath\n",
    "    try :\n",
    "        maxbhp = driver.find_element_by_xpath('//*[text()=\"Max Power\"]/following-sibling::div')\n",
    "        Max_power.append(maxbhp.text.replace('bhp',''))\n",
    "        \n",
    "    except NoSuchElementException:\n",
    "        Max_power.append('-')\n",
    "    \n",
    "   # Extracting Torque via xpath\n",
    "    try :\n",
    "        torque = driver.find_element_by_xpath('//*[text()=\"Torque\"]/following-sibling::div')\n",
    "        Torque.append(torque.text.replace('Nm',''))\n",
    "        \n",
    "    except NoSuchElementException:\n",
    "        Torque.append('-') \n",
    "    \n",
    "    # Extracting Seating capacity via xpath\n",
    "    try :\n",
    "        seats = driver.find_element_by_xpath('//*[text()=\"Seating Capacity\"]/following-sibling::div')\n",
    "        Seats.append(seats.text)\n",
    "        \n",
    "    except NoSuchElementException:\n",
    "        Seats.append('-') \n",
    "        \n",
    "    # Extracting color via xpath\n",
    "    try :\n",
    "        color = driver.find_element_by_xpath('//*[text()=\"Color\"]/following-sibling::div')\n",
    "        Color.append(color.text)    \n",
    "    except NoSuchElementException:\n",
    "        Color.append('-')\n",
    "    \n",
    "    # Extracting Gear_Box via xpath\n",
    "    try :\n",
    "        gear_Box = driver.find_element_by_xpath('//*[text()=\"Gear Box\"]/following-sibling::div')\n",
    "        Gear_Box.append(gear_Box.text)\n",
    "        \n",
    "    except NoSuchElementException:\n",
    "        Gear_Box.append('-')\n",
    "    \n",
    "    # Extracting Steering_Type via xpath\n",
    "    try :\n",
    "        steering_Type = driver.find_element_by_xpath('//*[text()=\"Steering Type\"]/following-sibling::div')\n",
    "        Steering_Type.append(steering_Type.text)\n",
    "        \n",
    "    except NoSuchElementException:\n",
    "        Steering_Type.append('-')\n",
    "    \n",
    "    # Extracting Front_Brake_Type via xpath\n",
    "    try :\n",
    "        front_Brake_Type = driver.find_element_by_xpath('//*[text()=\"Front Brake Type\"]/following-sibling::div')\n",
    "        Front_Brake_Type.append(front_Brake_Type.text)\n",
    "        \n",
    "    except NoSuchElementException:\n",
    "        Front_Brake_Type.append('-')\n",
    "    \n",
    "    # Extracting Rear_Brake_Type via xpath\n",
    "    try :\n",
    "        rear_Brake_Type = driver.find_element_by_xpath('//*[text()=\"Rear Brake Type\"]/following-sibling::div')\n",
    "        Rear_Brake_Type.append(rear_Brake_Type.text)\n",
    "        \n",
    "    except NoSuchElementException:\n",
    "        Rear_Brake_Type.append('-')\n",
    "    \n",
    "   # Extracting Tyre_Volume via xpath\n",
    "    try :\n",
    "        tyre_Volume = driver.find_element_by_xpath('//*[text()=\"Tyre Type\"]/following-sibling::div')\n",
    "        Tyre_Volume.append(tyre_Volume.text)\n",
    "        \n",
    "    except NoSuchElementException:\n",
    "        Tyre_Volume.append('-')\n",
    "    \n",
    "    # Extracting Engine_Type via xpath\n",
    "    try :\n",
    "        engine_Type = driver.find_element_by_xpath('//*[text()=\"Engine Type\"]/following-sibling::div')\n",
    "        Engine_Type.append(engine_Type.text)\n",
    "        \n",
    "    except NoSuchElementException:\n",
    "        Engine_Type.append('-')\n",
    "    \n",
    "    # Extracting No_of_cylinder via xpath\n",
    "    try :\n",
    "        no_of_cylinder = driver.find_element_by_xpath('//*[text()=\"No of Cylinder\"]/following-sibling::div')\n",
    "        No_of_cylinder.append(no_of_cylinder.text) \n",
    "    except NoSuchElementException:\n",
    "        try :\n",
    "            no_of_cylinder = driver.find_element_by_xpath('//*[text()=\"No Of Cylinder\"]/following-sibling::div')\n",
    "            No_of_cylinder.append(no_of_cylinder.text)\n",
    "        except NoSuchElementException:\n",
    "            pass\n",
    "    \n",
    "    # Extracting Value_Configuration via xpath\n",
    "    try :\n",
    "        value_Configuration = driver.find_element_by_xpath('//*[text()=\"Value Configuration\"]/following-sibling::div')\n",
    "        Value_Configuration.append(value_Configuration.text)    \n",
    "    except NoSuchElementException:\n",
    "        try :\n",
    "            value_Configuration = driver.find_element_by_xpath('//*[text()=\"Valve Configuration\"]/following-sibling::div')\n",
    "            Value_Configuration.append(value_Configuration.text)  \n",
    "        except NoSuchElementException:\n",
    "            pass\n",
    "        \n",
    "    # Extracting Turbo_charger via xpath\n",
    "    try :\n",
    "        turbo_charger = driver.find_element_by_xpath('//*[text()=\"Turbo Charger\"]/following-sibling::div')\n",
    "        Turbo_charger.append(turbo_charger.text)\n",
    "        \n",
    "    except NoSuchElementException:\n",
    "        Turbo_charger.append('-')\n",
    "    \n",
    "    # Extracting Super_charger via xpath\n",
    "    try :\n",
    "        super_charger = driver.find_element_by_xpath('//*[text()=\"Super Charger\"]/following-sibling::div')\n",
    "        Super_charger.append(super_charger.text)    \n",
    "    except NoSuchElementException:\n",
    "        try :\n",
    "            super_charger = driver.find_element_by_xpath('//*[text()=\"superCharger\"]/following-sibling::div')\n",
    "            Super_charger.append(super_charger.text)   \n",
    "        except NoSuchElementException:\n",
    "            Super_charger.append('-')\n",
    "    \n",
    "    # Extracting Length via xpath\n",
    "    try :\n",
    "        length = driver.find_element_by_xpath('//*[text()=\"Length\"]/following-sibling::div')\n",
    "        Length.append(length.text.replace('mm',''))\n",
    "        \n",
    "    except NoSuchElementException:\n",
    "        Length.append('-')\n",
    "    \n",
    "    # Extracting Width via xpath\n",
    "    try :\n",
    "        width = driver.find_element_by_xpath('//*[text()=\"Width\"]/following-sibling::div')\n",
    "        Width.append(width.text.replace('mm',''))\n",
    "        \n",
    "    except NoSuchElementException:\n",
    "        Width.append('-')\n",
    "    \n",
    "    # Extracting Height via xpath\n",
    "    try :\n",
    "        height = driver.find_element_by_xpath('//*[text()=\"Height\"]/following-sibling::div')\n",
    "        Height.append(height.text.replace('mm',''))\n",
    "        \n",
    "    except NoSuchElementException:\n",
    "        Height.append('-')\n",
    "    "
   ]
  },
  {
   "cell_type": "code",
   "execution_count": 18,
   "metadata": {
    "scrolled": true
   },
   "outputs": [
    {
     "data": {
      "text/html": [
       "<div>\n",
       "<style scoped>\n",
       "    .dataframe tbody tr th:only-of-type {\n",
       "        vertical-align: middle;\n",
       "    }\n",
       "\n",
       "    .dataframe tbody tr th {\n",
       "        vertical-align: top;\n",
       "    }\n",
       "\n",
       "    .dataframe thead th {\n",
       "        text-align: right;\n",
       "    }\n",
       "</style>\n",
       "<table border=\"1\" class=\"dataframe\">\n",
       "  <thead>\n",
       "    <tr style=\"text-align: right;\">\n",
       "      <th></th>\n",
       "      <th>Car Model</th>\n",
       "      <th>Make Year</th>\n",
       "      <th>Fuel Type</th>\n",
       "      <th>KMs driven</th>\n",
       "      <th>Engine Displacement(CC)</th>\n",
       "      <th>Transmission</th>\n",
       "      <th>Milage(kmpl)</th>\n",
       "      <th>Max Power(bhp)</th>\n",
       "      <th>Torque(Nm)</th>\n",
       "      <th>Seating Capacity</th>\n",
       "      <th>Color</th>\n",
       "      <th>Gear Box</th>\n",
       "      <th>Steering Type</th>\n",
       "      <th>Front Brake Type</th>\n",
       "      <th>Rear Brake Type</th>\n",
       "      <th>Tyre Volume</th>\n",
       "      <th>Engine Type</th>\n",
       "      <th>No of Cylinder</th>\n",
       "      <th>Turbo Charger</th>\n",
       "      <th>Super Charger</th>\n",
       "      <th>Length(mm)</th>\n",
       "      <th>Width(mm)</th>\n",
       "      <th>Height(mm)</th>\n",
       "      <th>Price(Rs)</th>\n",
       "    </tr>\n",
       "  </thead>\n",
       "  <tbody>\n",
       "    <tr>\n",
       "      <th>0</th>\n",
       "      <td>BMW 5 Series 520d</td>\n",
       "      <td>2012</td>\n",
       "      <td>Diesel</td>\n",
       "      <td>56,000</td>\n",
       "      <td>1995</td>\n",
       "      <td>Automatic</td>\n",
       "      <td>18.48</td>\n",
       "      <td>177</td>\n",
       "      <td>35.7@ 1,750-3,000(kgm@ rpm)</td>\n",
       "      <td>5</td>\n",
       "      <td>Brown</td>\n",
       "      <td>6 Speed</td>\n",
       "      <td>Power</td>\n",
       "      <td>Ventilated discs</td>\n",
       "      <td>Ventilated discs</td>\n",
       "      <td>Tubeless,Radial</td>\n",
       "      <td>In-Line Engine</td>\n",
       "      <td>4</td>\n",
       "      <td>No</td>\n",
       "      <td>Yes</td>\n",
       "      <td>4841</td>\n",
       "      <td>1846</td>\n",
       "      <td>1468</td>\n",
       "      <td>10.9 Lakh*</td>\n",
       "    </tr>\n",
       "    <tr>\n",
       "      <th>1</th>\n",
       "      <td>Audi Q3 35 TDI Quattro Premium Plus</td>\n",
       "      <td>2016</td>\n",
       "      <td>Diesel</td>\n",
       "      <td>97,000</td>\n",
       "      <td>1968</td>\n",
       "      <td>Automatic</td>\n",
       "      <td>15.73</td>\n",
       "      <td>174.33</td>\n",
       "      <td>380@ 1750-2500rpm</td>\n",
       "      <td>5</td>\n",
       "      <td>Silver</td>\n",
       "      <td>7-Speed S-Tronic</td>\n",
       "      <td>Power</td>\n",
       "      <td>Ventilated Disc</td>\n",
       "      <td>Drum</td>\n",
       "      <td>Tubeless,Radial</td>\n",
       "      <td>TDI Diesel Engine</td>\n",
       "      <td>4</td>\n",
       "      <td>Yes</td>\n",
       "      <td>No</td>\n",
       "      <td>4385</td>\n",
       "      <td>2019</td>\n",
       "      <td>1608</td>\n",
       "      <td>17.5 Lakh*</td>\n",
       "    </tr>\n",
       "    <tr>\n",
       "      <th>2</th>\n",
       "      <td>Hyundai Creta SX Opt Diesel AT</td>\n",
       "      <td>2021</td>\n",
       "      <td>Diesel</td>\n",
       "      <td>800</td>\n",
       "      <td>1493</td>\n",
       "      <td>Automatic</td>\n",
       "      <td>18.5</td>\n",
       "      <td>113.42</td>\n",
       "      <td>250nm@ 1500-2750rpm</td>\n",
       "      <td>5</td>\n",
       "      <td>Grey</td>\n",
       "      <td>6-Speed</td>\n",
       "      <td>Power</td>\n",
       "      <td>Disc</td>\n",
       "      <td>Disc</td>\n",
       "      <td>Tubeless,Radial</td>\n",
       "      <td>1.5L CRDi Diesel</td>\n",
       "      <td>4</td>\n",
       "      <td>Yes</td>\n",
       "      <td>-</td>\n",
       "      <td>4300</td>\n",
       "      <td>1790</td>\n",
       "      <td>1635</td>\n",
       "      <td>20.25 Lakh*</td>\n",
       "    </tr>\n",
       "    <tr>\n",
       "      <th>3</th>\n",
       "      <td>Maruti Baleno Alpha CVT</td>\n",
       "      <td>2020</td>\n",
       "      <td>Petrol</td>\n",
       "      <td>13,800</td>\n",
       "      <td>1197</td>\n",
       "      <td>Automatic</td>\n",
       "      <td>19.56</td>\n",
       "      <td>81.80</td>\n",
       "      <td>113@ 4200rpm</td>\n",
       "      <td>5</td>\n",
       "      <td>Blue</td>\n",
       "      <td>CVT</td>\n",
       "      <td>Electric</td>\n",
       "      <td>Disc</td>\n",
       "      <td>Drum</td>\n",
       "      <td>Tubeless,Radial</td>\n",
       "      <td>1.2L VVT Engine</td>\n",
       "      <td>4</td>\n",
       "      <td>No</td>\n",
       "      <td>No</td>\n",
       "      <td>3995</td>\n",
       "      <td>1745</td>\n",
       "      <td>1510</td>\n",
       "      <td>9 Lakh*</td>\n",
       "    </tr>\n",
       "    <tr>\n",
       "      <th>4</th>\n",
       "      <td>Tata Tiago 1.2 Revotron XZ</td>\n",
       "      <td>2018</td>\n",
       "      <td>Petrol</td>\n",
       "      <td>20,463</td>\n",
       "      <td>1199</td>\n",
       "      <td>Manual</td>\n",
       "      <td>23.84</td>\n",
       "      <td>84</td>\n",
       "      <td>114@ 3500rpm</td>\n",
       "      <td></td>\n",
       "      <td>White</td>\n",
       "      <td>5 Speed</td>\n",
       "      <td></td>\n",
       "      <td></td>\n",
       "      <td></td>\n",
       "      <td></td>\n",
       "      <td></td>\n",
       "      <td></td>\n",
       "      <td></td>\n",
       "      <td></td>\n",
       "      <td></td>\n",
       "      <td></td>\n",
       "      <td></td>\n",
       "      <td>4.3 Lakh*</td>\n",
       "    </tr>\n",
       "  </tbody>\n",
       "</table>\n",
       "</div>"
      ],
      "text/plain": [
       "                             Car Model Make Year Fuel Type KMs driven  \\\n",
       "0                    BMW 5 Series 520d      2012    Diesel    56,000    \n",
       "1  Audi Q3 35 TDI Quattro Premium Plus      2016    Diesel    97,000    \n",
       "2       Hyundai Creta SX Opt Diesel AT      2021    Diesel       800    \n",
       "3              Maruti Baleno Alpha CVT      2020    Petrol    13,800    \n",
       "4           Tata Tiago 1.2 Revotron XZ      2018    Petrol    20,463    \n",
       "\n",
       "  Engine Displacement(CC) Transmission Milage(kmpl) Max Power(bhp)  \\\n",
       "0                   1995     Automatic       18.48            177    \n",
       "1                   1968     Automatic       15.73         174.33    \n",
       "2                   1493     Automatic        18.5         113.42    \n",
       "3                   1197     Automatic       19.56          81.80    \n",
       "4                   1199        Manual       23.84             84    \n",
       "\n",
       "                    Torque(Nm) Seating Capacity   Color          Gear Box  \\\n",
       "0  35.7@ 1,750-3,000(kgm@ rpm)                5   Brown           6 Speed   \n",
       "1            380@ 1750-2500rpm                5  Silver  7-Speed S-Tronic   \n",
       "2          250nm@ 1500-2750rpm                5    Grey           6-Speed   \n",
       "3                 113@ 4200rpm                5    Blue               CVT   \n",
       "4                 114@ 3500rpm                    White           5 Speed   \n",
       "\n",
       "  Steering Type  Front Brake Type   Rear Brake Type      Tyre Volume  \\\n",
       "0         Power  Ventilated discs  Ventilated discs  Tubeless,Radial   \n",
       "1         Power   Ventilated Disc              Drum  Tubeless,Radial   \n",
       "2         Power              Disc              Disc  Tubeless,Radial   \n",
       "3      Electric              Disc              Drum  Tubeless,Radial   \n",
       "4                                                                      \n",
       "\n",
       "         Engine Type No of Cylinder Turbo Charger Super Charger Length(mm)  \\\n",
       "0     In-Line Engine              4            No           Yes       4841   \n",
       "1  TDI Diesel Engine              4           Yes            No       4385   \n",
       "2   1.5L CRDi Diesel              4           Yes             -       4300   \n",
       "3    1.2L VVT Engine              4            No            No       3995   \n",
       "4                                                                            \n",
       "\n",
       "  Width(mm) Height(mm)    Price(Rs)  \n",
       "0      1846       1468   10.9 Lakh*  \n",
       "1      2019       1608   17.5 Lakh*  \n",
       "2      1790       1635  20.25 Lakh*  \n",
       "3      1745       1510      9 Lakh*  \n",
       "4                         4.3 Lakh*  "
      ]
     },
     "execution_count": 18,
     "metadata": {},
     "output_type": "execute_result"
    }
   ],
   "source": [
    "data = list(zip(Model, Make_year, Fuel_Type, KMs_driven, Engine_displacement, Transmission, Milage,\n",
    "              Max_power, Torque, Seats, Color, Gear_Box, Steering_Type, Front_Brake_Type, Rear_Brake_Type,\n",
    "              Tyre_Volume, Engine_Type, No_of_cylinder,\n",
    "              Turbo_charger, Super_charger, Length, Width, Height, Price))\n",
    "Batch7 = pd.DataFrame(data, columns=['Car Model', 'Make Year', 'Fuel Type', 'KMs driven', 'Engine Displacement(CC)',\n",
    "                                   'Transmission', 'Milage(kmpl)', 'Max Power(bhp)', 'Torque(Nm)', 'Seating Capacity',\n",
    "                                   'Color', 'Gear Box', 'Steering Type', 'Front Brake Type', 'Rear Brake Type',\n",
    "                                    'Tyre Volume', 'Engine Type', 'No of Cylinder', \n",
    "                                    'Turbo Charger', 'Super Charger', 'Length(mm)', 'Width(mm)',\n",
    "                                   'Height(mm)', 'Price(Rs)'])\n",
    "\n",
    "pd.set_option('display.max_columns', None)\n",
    "Batch7.head(5)"
   ]
  },
  {
   "cell_type": "code",
   "execution_count": 198,
   "metadata": {},
   "outputs": [
    {
     "data": {
      "text/plain": [
       "500"
      ]
     },
     "execution_count": 198,
     "metadata": {},
     "output_type": "execute_result"
    }
   ],
   "source": [
    "len(Batch1)"
   ]
  },
  {
   "cell_type": "markdown",
   "metadata": {},
   "source": [
    "### **For Next Batches same code of batch 1 is Re-Run again & again.**"
   ]
  },
  {
   "cell_type": "code",
   "execution_count": 14,
   "metadata": {},
   "outputs": [
    {
     "data": {
      "text/plain": [
       "994"
      ]
     },
     "execution_count": 14,
     "metadata": {},
     "output_type": "execute_result"
    }
   ],
   "source": [
    "len(Batch2)"
   ]
  },
  {
   "cell_type": "code",
   "execution_count": 22,
   "metadata": {},
   "outputs": [
    {
     "data": {
      "text/plain": [
       "1457"
      ]
     },
     "execution_count": 22,
     "metadata": {},
     "output_type": "execute_result"
    }
   ],
   "source": [
    "len(Batch3)"
   ]
  },
  {
   "cell_type": "code",
   "execution_count": 27,
   "metadata": {},
   "outputs": [
    {
     "data": {
      "text/plain": [
       "3436"
      ]
     },
     "execution_count": 27,
     "metadata": {},
     "output_type": "execute_result"
    }
   ],
   "source": [
    "len(Batch4)"
   ]
  },
  {
   "cell_type": "code",
   "execution_count": 16,
   "metadata": {},
   "outputs": [
    {
     "data": {
      "text/plain": [
       "2430"
      ]
     },
     "execution_count": 16,
     "metadata": {},
     "output_type": "execute_result"
    }
   ],
   "source": [
    "len(Batch5)"
   ]
  },
  {
   "cell_type": "code",
   "execution_count": 24,
   "metadata": {},
   "outputs": [
    {
     "data": {
      "text/plain": [
       "740"
      ]
     },
     "execution_count": 24,
     "metadata": {},
     "output_type": "execute_result"
    }
   ],
   "source": [
    "len(Batch6)"
   ]
  },
  {
   "cell_type": "code",
   "execution_count": 19,
   "metadata": {},
   "outputs": [
    {
     "data": {
      "text/plain": [
       "1612"
      ]
     },
     "execution_count": 19,
     "metadata": {},
     "output_type": "execute_result"
    }
   ],
   "source": [
    "len(Batch7)"
   ]
  },
  {
   "cell_type": "markdown",
   "metadata": {},
   "source": [
    "#### **Exporting Batch wise data in Excel file.**"
   ]
  },
  {
   "cell_type": "code",
   "execution_count": 199,
   "metadata": {},
   "outputs": [],
   "source": [
    "# Saving Batch1 data in excel file\n",
    "Batch1.to_excel('Batch1 (0-500).xlsx', index = False)"
   ]
  },
  {
   "cell_type": "code",
   "execution_count": 15,
   "metadata": {},
   "outputs": [],
   "source": [
    "# Saving batch 2 data in excel \n",
    "Batch2.to_excel('Batch1 (500-1500).xlsx', index = False)"
   ]
  },
  {
   "cell_type": "code",
   "execution_count": 23,
   "metadata": {},
   "outputs": [],
   "source": [
    "# Saving batch 3 data in excel \n",
    "Batch3.to_excel('Batch3 (1500-3000).xlsx', index = False)"
   ]
  },
  {
   "cell_type": "code",
   "execution_count": 28,
   "metadata": {},
   "outputs": [],
   "source": [
    "# Saving Batch4 data in excel file 3000-5000\n",
    "Batch4.to_excel('Batch 4 (3000 - 5000).xlsx', index = False)"
   ]
  },
  {
   "cell_type": "code",
   "execution_count": 17,
   "metadata": {},
   "outputs": [],
   "source": [
    "# Saving Batch5 data in excel file 5000 - 7500\n",
    "Batch5.to_excel('Batch 5 (5000).xlsx', index = False)"
   ]
  },
  {
   "cell_type": "code",
   "execution_count": 25,
   "metadata": {},
   "outputs": [],
   "source": [
    "# Saving Batch6 data in excel file 7500 - 8500\n",
    "Batch6.to_excel('Batch 6 (7500-8250).xlsx', index = False)"
   ]
  },
  {
   "cell_type": "code",
   "execution_count": 20,
   "metadata": {},
   "outputs": [],
   "source": [
    "# Saving Batch7 data in excel file 7500 - 8500\n",
    "Batch7.to_excel('Batch 7 (8250-9800).xlsx', index = False)"
   ]
  },
  {
   "cell_type": "code",
   "execution_count": 21,
   "metadata": {},
   "outputs": [
    {
     "data": {
      "text/plain": [
       "(1612, 24)"
      ]
     },
     "execution_count": 21,
     "metadata": {},
     "output_type": "execute_result"
    }
   ],
   "source": [
    "Batch7.shape"
   ]
  },
  {
   "cell_type": "markdown",
   "metadata": {},
   "source": [
    "## **Summary** :\n",
    "- **We have scrape more than 11000 cars details with 24 features.**"
   ]
  },
  {
   "cell_type": "code",
   "execution_count": null,
   "metadata": {},
   "outputs": [],
   "source": []
  }
 ],
 "metadata": {
  "kernelspec": {
   "display_name": "Python 3",
   "language": "python",
   "name": "python3"
  },
  "language_info": {
   "codemirror_mode": {
    "name": "ipython",
    "version": 3
   },
   "file_extension": ".py",
   "mimetype": "text/x-python",
   "name": "python",
   "nbconvert_exporter": "python",
   "pygments_lexer": "ipython3",
   "version": "3.8.5"
  }
 },
 "nbformat": 4,
 "nbformat_minor": 4
}
