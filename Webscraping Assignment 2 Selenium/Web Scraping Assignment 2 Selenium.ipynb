{
 "cells": [
  {
   "cell_type": "markdown",
   "metadata": {},
   "source": [
    "## Q1: Write a python program to scrape data for “Data Analyst” Job position in “Bangalore” location. You have to scrape the job-title, job-location, company_name, experience_required. You have to scrape first 10 jobs data. This task will be done in following steps:\n",
    "\n",
    "1. first get the webpage https://www.naukri.com/\n",
    "\n",
    "2. Enter “Data Analyst” in “Skill,Designations,Companies” field and enter “Bangalore” in “enter the location” field.\n",
    "\n",
    "3. Then click the search button.\n",
    "\n",
    "4. Then scrape the data for the first 10 jobs results you get.\n",
    "\n",
    "5. Finally create a dataframe of the scraped data.\n",
    "\n",
    "Note- All of the above steps have to be done in code. No step is to be done manually."
   ]
  },
  {
   "cell_type": "code",
   "execution_count": 3,
   "metadata": {},
   "outputs": [],
   "source": [
    "import selenium\n",
    "import pandas as pd\n",
    "from selenium import webdriver\n",
    "import time\n",
    "from selenium.common.exceptions import NoSuchElementException"
   ]
  },
  {
   "cell_type": "code",
   "execution_count": 4,
   "metadata": {},
   "outputs": [
    {
     "data": {
      "text/plain": [
       "<selenium.webdriver.chrome.webdriver.WebDriver (session=\"d2b406822e6522e3c4c40b2afee316d4\")>"
      ]
     },
     "execution_count": 4,
     "metadata": {},
     "output_type": "execute_result"
    }
   ],
   "source": [
    "# connecting Webdriver\n",
    "driver = webdriver.Chrome(r'C:\\chromedriver.exe')\n",
    "driver"
   ]
  },
  {
   "cell_type": "code",
   "execution_count": 5,
   "metadata": {},
   "outputs": [],
   "source": [
    "# Opening naukri.com\n",
    "url ='https://www.naukri.com/'\n",
    "driver.get(url)"
   ]
  },
  {
   "cell_type": "markdown",
   "metadata": {},
   "source": [
    "##### Sending Input as “Data Analyst” in “Skill,Designations,Companies” field and  “Bangalore” in “enter the location” field."
   ]
  },
  {
   "cell_type": "code",
   "execution_count": 6,
   "metadata": {},
   "outputs": [],
   "source": [
    "driver.find_element_by_xpath('//*[@id=\"qsb-keyword-sugg\"]').send_keys('Data Analyst')\n",
    "driver.find_element_by_xpath('//*[@id=\"qsb-location-sugg\"]').send_keys('Bangalore')\n",
    "driver.find_element_by_xpath('//*[@id=\"root\"]/div[3]/div[2]/section/div/form/div[3]/button').click()"
   ]
  },
  {
   "cell_type": "code",
   "execution_count": 62,
   "metadata": {},
   "outputs": [],
   "source": [
    "# Creating empty lists to store job title, job location, company name, experiecne require\n",
    "job_title =[]\n",
    "job_location=[]\n",
    "company =[]\n",
    "experienced=[]"
   ]
  },
  {
   "cell_type": "markdown",
   "metadata": {},
   "source": [
    "##### Scraping job title, job location, company name, experiecne require from Naukri website"
   ]
  },
  {
   "cell_type": "code",
   "execution_count": 61,
   "metadata": {},
   "outputs": [],
   "source": [
    "titles=driver.find_elements_by_xpath('//div[@class=\"info fleft\"]/a')[:10]\n",
    "company_title=driver.find_elements_by_xpath('//a[@class=\"subTitle ellipsis fleft\"]')[:10]\n",
    "company_location= driver.find_elements_by_xpath('//li[@class=\"fleft grey-text br2 placeHolderLi location\"]')[:10]\n",
    "experience_require=driver.find_elements_by_xpath(\"//li[@class='fleft grey-text br2 placeHolderLi experience']/span[1]\")[0:10]"
   ]
  },
  {
   "cell_type": "markdown",
   "metadata": {},
   "source": [
    "##### appending scrap data in lists"
   ]
  },
  {
   "cell_type": "code",
   "execution_count": 64,
   "metadata": {},
   "outputs": [],
   "source": [
    "for i in titles:\n",
    "    job_title.append(i.text)\n",
    "for i in company_title:\n",
    "    company.append(i.text)\n",
    "for i in company_location:\n",
    "    job_location.append(i.text)\n",
    "for i in experience_require:\n",
    "    experience=i.text\n",
    "    experienced.append(experience)"
   ]
  },
  {
   "cell_type": "code",
   "execution_count": 66,
   "metadata": {},
   "outputs": [
    {
     "name": "stdout",
     "output_type": "stream",
     "text": [
      "/033[1mTop 10 Data Analyst Job at Bangrole :/033[0m\n"
     ]
    },
    {
     "data": {
      "text/html": [
       "<div>\n",
       "<style scoped>\n",
       "    .dataframe tbody tr th:only-of-type {\n",
       "        vertical-align: middle;\n",
       "    }\n",
       "\n",
       "    .dataframe tbody tr th {\n",
       "        vertical-align: top;\n",
       "    }\n",
       "\n",
       "    .dataframe thead th {\n",
       "        text-align: right;\n",
       "    }\n",
       "</style>\n",
       "<table border=\"1\" class=\"dataframe\">\n",
       "  <thead>\n",
       "    <tr style=\"text-align: right;\">\n",
       "      <th></th>\n",
       "      <th>JOB TITLE</th>\n",
       "      <th>COMPANY</th>\n",
       "      <th>JOB LOCATION</th>\n",
       "      <th>Experience Require</th>\n",
       "    </tr>\n",
       "  </thead>\n",
       "  <tbody>\n",
       "    <tr>\n",
       "      <th>0</th>\n",
       "      <td>Data Analyst - Marketing</td>\n",
       "      <td>Byjus - Transforming Education using Technology</td>\n",
       "      <td>Bangalore/Bengaluru</td>\n",
       "      <td>0-2 Yrs</td>\n",
       "    </tr>\n",
       "    <tr>\n",
       "      <th>1</th>\n",
       "      <td>Business Data Analyst</td>\n",
       "      <td>INDIAVIDUAL LEARNING LIMITED</td>\n",
       "      <td>Bangalore/Bengaluru</td>\n",
       "      <td>2-6 Yrs</td>\n",
       "    </tr>\n",
       "    <tr>\n",
       "      <th>2</th>\n",
       "      <td>Lead Data Analyst / Data Engineer</td>\n",
       "      <td>Huawei Technologies</td>\n",
       "      <td>Bangalore/Bengaluru</td>\n",
       "      <td>5-10 Yrs</td>\n",
       "    </tr>\n",
       "    <tr>\n",
       "      <th>3</th>\n",
       "      <td>Data Analyst / Business Analyst (Demand Planning)</td>\n",
       "      <td>Flipkart</td>\n",
       "      <td>Bangalore/Bengaluru</td>\n",
       "      <td>1-4 Yrs</td>\n",
       "    </tr>\n",
       "    <tr>\n",
       "      <th>4</th>\n",
       "      <td>Senior Data Analyst</td>\n",
       "      <td>Scienaptic Systems</td>\n",
       "      <td>Bangalore/Bengaluru</td>\n",
       "      <td>5-10 Yrs</td>\n",
       "    </tr>\n",
       "    <tr>\n",
       "      <th>5</th>\n",
       "      <td>Data Analyst</td>\n",
       "      <td>Applied Materials</td>\n",
       "      <td>Bangalore/Bengaluru</td>\n",
       "      <td>0-3 Yrs</td>\n",
       "    </tr>\n",
       "    <tr>\n",
       "      <th>6</th>\n",
       "      <td>Business Data Analyst</td>\n",
       "      <td>RANDSTAD INDIA PVT LTD</td>\n",
       "      <td>Bangalore/Bengaluru</td>\n",
       "      <td>8-12 Yrs</td>\n",
       "    </tr>\n",
       "    <tr>\n",
       "      <th>7</th>\n",
       "      <td>Data Analyst - I/II</td>\n",
       "      <td>Philips India Limited</td>\n",
       "      <td>Bangalore/Bengaluru</td>\n",
       "      <td>3-6 Yrs</td>\n",
       "    </tr>\n",
       "    <tr>\n",
       "      <th>8</th>\n",
       "      <td>Data Analyst (BI) - I/II</td>\n",
       "      <td>Philips India Limited</td>\n",
       "      <td>Bangalore/Bengaluru</td>\n",
       "      <td>3-6 Yrs</td>\n",
       "    </tr>\n",
       "    <tr>\n",
       "      <th>9</th>\n",
       "      <td>Openings For Data Analyst</td>\n",
       "      <td>Allegis Services India Pvt. Ltd.</td>\n",
       "      <td>Bangalore/Bengaluru</td>\n",
       "      <td>0-3 Yrs</td>\n",
       "    </tr>\n",
       "  </tbody>\n",
       "</table>\n",
       "</div>"
      ],
      "text/plain": [
       "                                           JOB TITLE  \\\n",
       "0                           Data Analyst - Marketing   \n",
       "1                              Business Data Analyst   \n",
       "2                  Lead Data Analyst / Data Engineer   \n",
       "3  Data Analyst / Business Analyst (Demand Planning)   \n",
       "4                                Senior Data Analyst   \n",
       "5                                       Data Analyst   \n",
       "6                              Business Data Analyst   \n",
       "7                                Data Analyst - I/II   \n",
       "8                           Data Analyst (BI) - I/II   \n",
       "9                          Openings For Data Analyst   \n",
       "\n",
       "                                           COMPANY         JOB LOCATION  \\\n",
       "0  Byjus - Transforming Education using Technology  Bangalore/Bengaluru   \n",
       "1                     INDIAVIDUAL LEARNING LIMITED  Bangalore/Bengaluru   \n",
       "2                              Huawei Technologies  Bangalore/Bengaluru   \n",
       "3                                         Flipkart  Bangalore/Bengaluru   \n",
       "4                               Scienaptic Systems  Bangalore/Bengaluru   \n",
       "5                                Applied Materials  Bangalore/Bengaluru   \n",
       "6                           RANDSTAD INDIA PVT LTD  Bangalore/Bengaluru   \n",
       "7                            Philips India Limited  Bangalore/Bengaluru   \n",
       "8                            Philips India Limited  Bangalore/Bengaluru   \n",
       "9                 Allegis Services India Pvt. Ltd.  Bangalore/Bengaluru   \n",
       "\n",
       "  Experience Require  \n",
       "0            0-2 Yrs  \n",
       "1            2-6 Yrs  \n",
       "2           5-10 Yrs  \n",
       "3            1-4 Yrs  \n",
       "4           5-10 Yrs  \n",
       "5            0-3 Yrs  \n",
       "6           8-12 Yrs  \n",
       "7            3-6 Yrs  \n",
       "8            3-6 Yrs  \n",
       "9            0-3 Yrs  "
      ]
     },
     "execution_count": 66,
     "metadata": {},
     "output_type": "execute_result"
    }
   ],
   "source": [
    "Data_analyst=pd.DataFrame({})\n",
    "Data_analyst['JOB TITLE']=job_title\n",
    "Data_analyst['COMPANY']=company\n",
    "Data_analyst['JOB LOCATION']=job_location\n",
    "Data_analyst['Experience Require']=experienced\n",
    "print('/033[1m'+'Top 10 Data Analyst Job at Bangrole :'+'/033[0m')\n",
    "Data_analyst[:10]"
   ]
  },
  {
   "cell_type": "markdown",
   "metadata": {},
   "source": [
    "## Q2: Write a python program to scrape data for “Data Scientist” Job position in “Bangalore” location. You have to scrape the job-title, job-location,company_name, full job-description. You have to scrape first 10 jobs data.\n",
    "\n",
    "This task will be done in following steps:\n",
    "\n",
    "1. first get the webpage https://www.naukri.com/\n",
    "\n",
    "2. Enter “Data Scientist” in “Skill,Designations,Companies” field and enter “Bangalore” in “enter the location” field.\n",
    "\n",
    "3. Then click the search button.\n",
    "\n",
    "4. Then scrape the data for the first 10 jobs results you get.\n",
    "\n",
    "5. Finally create a dataframe of the scraped data.\n",
    "\n",
    "Note- 1. All of the above steps have to be done in code. No step is to be done manually."
   ]
  },
  {
   "cell_type": "code",
   "execution_count": 147,
   "metadata": {},
   "outputs": [],
   "source": [
    "import selenium\n",
    "import pandas as pd\n",
    "from selenium import webdriver\n",
    "import time\n",
    "from selenium.common.exceptions import NoSuchElementException\n",
    "\n",
    "# connecting Webdriver\n",
    "driver = webdriver.Chrome(r'C:\\chromedriver.exe')\n",
    "driver\n",
    "\n",
    "# Opening naukri.com\n",
    "url ='https://www.naukri.com/'\n",
    "driver.get(url)"
   ]
  },
  {
   "cell_type": "markdown",
   "metadata": {},
   "source": [
    "##### Sending Input as “Data Scientist” in “Skill,Designations,Companies” field and  “Bangalore” in “enter the location” field."
   ]
  },
  {
   "cell_type": "code",
   "execution_count": 148,
   "metadata": {},
   "outputs": [],
   "source": [
    "driver.find_element_by_xpath('//*[@id=\"qsb-keyword-sugg\"]').send_keys('Data Scientist')\n",
    "driver.find_element_by_xpath('//*[@id=\"qsb-location-sugg\"]').send_keys('Bangalore')\n",
    "driver.find_element_by_xpath('//*[@id=\"root\"]/div[3]/div[2]/section/div/form/div[3]/button').click()"
   ]
  },
  {
   "cell_type": "code",
   "execution_count": 151,
   "metadata": {},
   "outputs": [],
   "source": [
    "#creating the empty lists\n",
    "job_title=[]\n",
    "job_location=[]\n",
    "company_name=[]\n",
    "job_description=[]"
   ]
  },
  {
   "cell_type": "markdown",
   "metadata": {},
   "source": [
    "#### Scraping data "
   ]
  },
  {
   "cell_type": "code",
   "execution_count": 149,
   "metadata": {},
   "outputs": [],
   "source": [
    "#getting the list of url of first 10 data scientist jobs\n",
    "\n",
    "URL=[]\n",
    "job_tags=driver.find_elements_by_xpath(\"//a[@class='title fw500 ellipsis']\")[0:10]\n",
    "for i in job_tags:\n",
    "    URL.append(i.get_attribute('href'))"
   ]
  },
  {
   "cell_type": "code",
   "execution_count": 152,
   "metadata": {},
   "outputs": [],
   "source": [
    "for i in URL:\n",
    "    driver.get(i)\n",
    "    try:\n",
    "        job_title.append((driver.find_element_by_xpath('//*[@id=\"root\"]/main/div[2]/div[2]/section[1]/div[1]/div[1]/header/h1')).text)\n",
    "        job_location.append((driver.find_element_by_xpath('//*[@id=\"root\"]/main/div[2]/div[2]/section[1]/div[1]/div[2]/div[3]/span')).text)\n",
    "        company_name.append((driver.find_element_by_xpath('//*[@id=\"root\"]/main/div[2]/div[2]/section[1]/div[1]/div[1]/div/a')).text)\n",
    "        job_description.append((driver.find_element_by_xpath('//*[@id=\"root\"]/main/div[2]/div[2]/section[2]')).text.replace(\"\\n\",\"\"))\n",
    "    except NoSuchElementException:\n",
    "        job_title.append(\"Nan\")\n",
    "        job_location.append(\"Nan\")\n",
    "        company_name.append(\"Nan\")\n",
    "        job_description.append(\"Nan\")"
   ]
  },
  {
   "cell_type": "code",
   "execution_count": 154,
   "metadata": {},
   "outputs": [],
   "source": [
    "Data_scientist=pd.DataFrame({})\n",
    "Data_scientist['job_title']=job_title\n",
    "Data_scientist['job_location']=job_location\n",
    "Data_scientist['company_name']=company_name\n",
    "Data_scientist['job_description']=job_description"
   ]
  },
  {
   "cell_type": "code",
   "execution_count": 158,
   "metadata": {},
   "outputs": [
    {
     "name": "stdout",
     "output_type": "stream",
     "text": [
      "\u001b[1mTop 10 Data Analyst Job at Bangrole :\u001b[0m\n"
     ]
    },
    {
     "data": {
      "text/html": [
       "<div>\n",
       "<style scoped>\n",
       "    .dataframe tbody tr th:only-of-type {\n",
       "        vertical-align: middle;\n",
       "    }\n",
       "\n",
       "    .dataframe tbody tr th {\n",
       "        vertical-align: top;\n",
       "    }\n",
       "\n",
       "    .dataframe thead th {\n",
       "        text-align: right;\n",
       "    }\n",
       "</style>\n",
       "<table border=\"1\" class=\"dataframe\">\n",
       "  <thead>\n",
       "    <tr style=\"text-align: right;\">\n",
       "      <th></th>\n",
       "      <th>job_title</th>\n",
       "      <th>job_location</th>\n",
       "      <th>company_name</th>\n",
       "      <th>job_description</th>\n",
       "    </tr>\n",
       "  </thead>\n",
       "  <tbody>\n",
       "    <tr>\n",
       "      <th>0</th>\n",
       "      <td>Lead Data Scientist</td>\n",
       "      <td>Bangalore/Bengaluru</td>\n",
       "      <td>Huawei Technologies</td>\n",
       "      <td>Job descriptionWe are looking for a Lead data ...</td>\n",
       "    </tr>\n",
       "    <tr>\n",
       "      <th>1</th>\n",
       "      <td>Sr. Data Scientist / Data Scientist For Bangal...</td>\n",
       "      <td>Kolkata, Bangalore/Bengaluru</td>\n",
       "      <td>mPokket</td>\n",
       "      <td>Job descriptionJob Description:1. Must havea. ...</td>\n",
       "    </tr>\n",
       "    <tr>\n",
       "      <th>2</th>\n",
       "      <td>Senior Data Scientist</td>\n",
       "      <td>Noida, Bangalore/Bengaluru</td>\n",
       "      <td>InnovAccer</td>\n",
       "      <td>Job description  A day in the life at Innovacc...</td>\n",
       "    </tr>\n",
       "    <tr>\n",
       "      <th>3</th>\n",
       "      <td>Senior Data Scientist - Python/Machine Learnin...</td>\n",
       "      <td>Mumbai, Hyderabad/Secunderabad, Pune, Bangalor...</td>\n",
       "      <td>Altimax Business Solutions</td>\n",
       "      <td>Job descriptionAbout The Job :- You will archi...</td>\n",
       "    </tr>\n",
       "    <tr>\n",
       "      <th>4</th>\n",
       "      <td>Data Scientist/Senior Data Scientist - IT Serv...</td>\n",
       "      <td>Hyderabad/Secunderabad, Pune, Gurgaon/Gurugram...</td>\n",
       "      <td>Pylon Management Consulting Pvt Ltd</td>\n",
       "      <td>Job descriptionResponsibilities :- Analytics l...</td>\n",
       "    </tr>\n",
       "    <tr>\n",
       "      <th>5</th>\n",
       "      <td>SDE2 Data Scientist</td>\n",
       "      <td>Bangalore/Bengaluru</td>\n",
       "      <td>Multi Recruit</td>\n",
       "      <td>Job descriptionUse data to develop machine lea...</td>\n",
       "    </tr>\n",
       "    <tr>\n",
       "      <th>6</th>\n",
       "      <td>SDE1 Data Scientist</td>\n",
       "      <td>Bangalore/Bengaluru</td>\n",
       "      <td>Multi Recruit</td>\n",
       "      <td>Job descriptionUse data to develop machine lea...</td>\n",
       "    </tr>\n",
       "    <tr>\n",
       "      <th>7</th>\n",
       "      <td>Data Scientist</td>\n",
       "      <td>Bangalore/Bengaluru</td>\n",
       "      <td>epiFi Technologies</td>\n",
       "      <td>Job descriptionAt epiFi you will :Research and...</td>\n",
       "    </tr>\n",
       "    <tr>\n",
       "      <th>8</th>\n",
       "      <td>Data Scientist</td>\n",
       "      <td>Pune, Bangalore/Bengaluru</td>\n",
       "      <td>Nutanix India Technologies Private Limited</td>\n",
       "      <td>Job descriptionObjectives of this RoleCollabor...</td>\n",
       "    </tr>\n",
       "    <tr>\n",
       "      <th>9</th>\n",
       "      <td>Nan</td>\n",
       "      <td>Nan</td>\n",
       "      <td>Nan</td>\n",
       "      <td>Nan</td>\n",
       "    </tr>\n",
       "  </tbody>\n",
       "</table>\n",
       "</div>"
      ],
      "text/plain": [
       "                                           job_title  \\\n",
       "0                                Lead Data Scientist   \n",
       "1  Sr. Data Scientist / Data Scientist For Bangal...   \n",
       "2                              Senior Data Scientist   \n",
       "3  Senior Data Scientist - Python/Machine Learnin...   \n",
       "4  Data Scientist/Senior Data Scientist - IT Serv...   \n",
       "5                                SDE2 Data Scientist   \n",
       "6                                SDE1 Data Scientist   \n",
       "7                                     Data Scientist   \n",
       "8                                     Data Scientist   \n",
       "9                                                Nan   \n",
       "\n",
       "                                        job_location  \\\n",
       "0                                Bangalore/Bengaluru   \n",
       "1                       Kolkata, Bangalore/Bengaluru   \n",
       "2                         Noida, Bangalore/Bengaluru   \n",
       "3  Mumbai, Hyderabad/Secunderabad, Pune, Bangalor...   \n",
       "4  Hyderabad/Secunderabad, Pune, Gurgaon/Gurugram...   \n",
       "5                                Bangalore/Bengaluru   \n",
       "6                                Bangalore/Bengaluru   \n",
       "7                                Bangalore/Bengaluru   \n",
       "8                          Pune, Bangalore/Bengaluru   \n",
       "9                                                Nan   \n",
       "\n",
       "                                 company_name  \\\n",
       "0                         Huawei Technologies   \n",
       "1                                     mPokket   \n",
       "2                                  InnovAccer   \n",
       "3                  Altimax Business Solutions   \n",
       "4         Pylon Management Consulting Pvt Ltd   \n",
       "5                               Multi Recruit   \n",
       "6                               Multi Recruit   \n",
       "7                          epiFi Technologies   \n",
       "8  Nutanix India Technologies Private Limited   \n",
       "9                                         Nan   \n",
       "\n",
       "                                     job_description  \n",
       "0  Job descriptionWe are looking for a Lead data ...  \n",
       "1  Job descriptionJob Description:1. Must havea. ...  \n",
       "2  Job description  A day in the life at Innovacc...  \n",
       "3  Job descriptionAbout The Job :- You will archi...  \n",
       "4  Job descriptionResponsibilities :- Analytics l...  \n",
       "5  Job descriptionUse data to develop machine lea...  \n",
       "6  Job descriptionUse data to develop machine lea...  \n",
       "7  Job descriptionAt epiFi you will :Research and...  \n",
       "8  Job descriptionObjectives of this RoleCollabor...  \n",
       "9                                                Nan  "
      ]
     },
     "execution_count": 158,
     "metadata": {},
     "output_type": "execute_result"
    }
   ],
   "source": [
    "print('\\033[1m'+'Top 10 Data Analyst Job at Bangrole :'+'\\033[0m')\n",
    "Data_scientist"
   ]
  },
  {
   "cell_type": "markdown",
   "metadata": {},
   "source": [
    "## Q3: In this question you have to scrape data using the filters available on thewebpage as shown below: You have to use the location and salary filter. You have to scrape data for “Data Scientist” designation for first 10 job results. You have to scrape the job-title, job-location, company_name, experience_required. The location filter to be used is “Delhi/NCR” . The salary filter to be used is “3-6” lakhs.\n",
    "\n",
    "The task will be done as shown in the below steps:\n",
    "\n",
    "1. first get the webpage https://www.naukri.com/\n",
    "\n",
    "2. Enter “Data Scientist” in “Skill,Designations,Companies” field.\n",
    "\n",
    "3. Then click the search button.\n",
    "\n",
    "4. Then apply the location filter and salary filter by checking the respective boxes\n",
    "\n",
    "4. Then scrape the data for the first 10 jobs results you get.\n",
    "\n",
    "5. Finally create a dataframe of the scraped data.\n",
    "\n",
    "Note- All of the above steps have to be done in code. No step is to be done manually.\n"
   ]
  },
  {
   "cell_type": "code",
   "execution_count": 50,
   "metadata": {},
   "outputs": [],
   "source": [
    "import selenium\n",
    "import pandas as pd\n",
    "from selenium import webdriver\n",
    "import time\n",
    "from selenium.common.exceptions import NoSuchElementException\n",
    "\n",
    "# connecting Webdriver\n",
    "driver = webdriver.Chrome(r'C:\\chromedriver.exe')\n",
    "driver\n",
    "\n",
    "# Opening naukri.com\n",
    "url ='https://www.naukri.com/'\n",
    "driver.get(url)"
   ]
  },
  {
   "cell_type": "code",
   "execution_count": 51,
   "metadata": {},
   "outputs": [],
   "source": [
    "driver.find_element_by_xpath('//*[@id=\"qsb-keyword-sugg\"]').send_keys('Data Scientist')\n",
    "driver.find_element_by_xpath('//*[@id=\"root\"]/div[3]/div[2]/section/div/form/div[3]/button').click()"
   ]
  },
  {
   "cell_type": "code",
   "execution_count": 52,
   "metadata": {},
   "outputs": [],
   "source": [
    "# Ticking on Delhi/NCR \n",
    "driver.find_element_by_xpath('//*[@id=\"root\"]/div[3]/div[2]/section[1]/div[2]/div[3]/div[2]/div[3]/label/p/span[1]').click()"
   ]
  },
  {
   "cell_type": "code",
   "execution_count": 53,
   "metadata": {},
   "outputs": [],
   "source": [
    "# Ticking on 3-6 lakhs Salary\n",
    "driver.find_element_by_xpath('//*[@id=\"root\"]/div[3]/div[2]/section[1]/div[2]/div[4]/div[2]/div[2]/label/p/span[1]').click()"
   ]
  },
  {
   "cell_type": "code",
   "execution_count": 54,
   "metadata": {},
   "outputs": [],
   "source": [
    "# Creating empty lists to store job title, job location, company name, experiecne require\n",
    "job_title =[]\n",
    "job_location=[]\n",
    "company =[]\n",
    "experienced=[]"
   ]
  },
  {
   "cell_type": "markdown",
   "metadata": {},
   "source": [
    "##### Scraping job title, job location, company name, experiecne require from Naukri website"
   ]
  },
  {
   "cell_type": "code",
   "execution_count": 58,
   "metadata": {},
   "outputs": [],
   "source": [
    "titles=driver.find_elements_by_xpath('//a[@class=\"title fw500 ellipsis\"]')[:10]\n",
    "company_title=driver.find_elements_by_xpath('//a[@class=\"subTitle ellipsis fleft\"]')[:10]\n",
    "company_location= driver.find_elements_by_xpath('//li[@class=\"fleft grey-text br2 placeHolderLi location\"]')[:10]\n",
    "experience_require=driver.find_elements_by_xpath(\"//li[@class='fleft grey-text br2 placeHolderLi experience']/span[1]\")[0:10]"
   ]
  },
  {
   "cell_type": "code",
   "execution_count": 59,
   "metadata": {},
   "outputs": [],
   "source": [
    "for i in titles:\n",
    "    job_title.append(i.text)\n",
    "for i in company_title:\n",
    "    company.append(i.text)\n",
    "for i in company_location:\n",
    "    job_location.append(i.text)\n",
    "for i in experience_require:\n",
    "    experience=i.text\n",
    "    experienced.append(experience)\n",
    "    "
   ]
  },
  {
   "cell_type": "code",
   "execution_count": 61,
   "metadata": {},
   "outputs": [
    {
     "name": "stdout",
     "output_type": "stream",
     "text": [
      "/033[1mTop 10 Data Analyst Job at Bangrole :/033[0m\n"
     ]
    },
    {
     "data": {
      "text/html": [
       "<div>\n",
       "<style scoped>\n",
       "    .dataframe tbody tr th:only-of-type {\n",
       "        vertical-align: middle;\n",
       "    }\n",
       "\n",
       "    .dataframe tbody tr th {\n",
       "        vertical-align: top;\n",
       "    }\n",
       "\n",
       "    .dataframe thead th {\n",
       "        text-align: right;\n",
       "    }\n",
       "</style>\n",
       "<table border=\"1\" class=\"dataframe\">\n",
       "  <thead>\n",
       "    <tr style=\"text-align: right;\">\n",
       "      <th></th>\n",
       "      <th>JOB TITLE</th>\n",
       "      <th>COMPANY</th>\n",
       "      <th>JOB LOCATION</th>\n",
       "      <th>Experience Require</th>\n",
       "    </tr>\n",
       "  </thead>\n",
       "  <tbody>\n",
       "    <tr>\n",
       "      <th>0</th>\n",
       "      <td>Job Opportunity || Data Scientist || HCL Techn...</td>\n",
       "      <td>HCL Technologies</td>\n",
       "      <td>Delhi / NCR</td>\n",
       "      <td>4-7 Yrs</td>\n",
       "    </tr>\n",
       "    <tr>\n",
       "      <th>1</th>\n",
       "      <td>Associate Data Scientist</td>\n",
       "      <td>Optum Global Solutions (India) Private Limited</td>\n",
       "      <td>Noida</td>\n",
       "      <td>2-7 Yrs</td>\n",
       "    </tr>\n",
       "    <tr>\n",
       "      <th>2</th>\n",
       "      <td>Data Scientist I/II/III</td>\n",
       "      <td>OLX India Pvt Ltd</td>\n",
       "      <td>Gurgaon/Gurugram</td>\n",
       "      <td>3-6 Yrs</td>\n",
       "    </tr>\n",
       "    <tr>\n",
       "      <th>3</th>\n",
       "      <td>Academic Counsellor - Data Scientist</td>\n",
       "      <td>GreatLearning</td>\n",
       "      <td>Gurgaon/Gurugram, Bangalore/Bengaluru</td>\n",
       "      <td>1-4 Yrs</td>\n",
       "    </tr>\n",
       "    <tr>\n",
       "      <th>4</th>\n",
       "      <td>Data Scientist</td>\n",
       "      <td>lericon infomatics pvt.ltd</td>\n",
       "      <td>Mumbai, Delhi / NCR</td>\n",
       "      <td>3-5 Yrs</td>\n",
       "    </tr>\n",
       "    <tr>\n",
       "      <th>5</th>\n",
       "      <td>Data Scientist</td>\n",
       "      <td>Optum Global Solutions (India) Private Limited</td>\n",
       "      <td>Noida, Gurgaon/Gurugram</td>\n",
       "      <td>2-6 Yrs</td>\n",
       "    </tr>\n",
       "    <tr>\n",
       "      <th>6</th>\n",
       "      <td>Data Scientist</td>\n",
       "      <td>Milliman India Pvt Ltd</td>\n",
       "      <td>Gurgaon/Gurugram</td>\n",
       "      <td>2-5 Yrs</td>\n",
       "    </tr>\n",
       "    <tr>\n",
       "      <th>7</th>\n",
       "      <td>Data Scientist</td>\n",
       "      <td>Fractal Analytics</td>\n",
       "      <td>Mumbai, Gurgaon/Gurugram, Bangalore/Bengaluru</td>\n",
       "      <td>3-7 Yrs</td>\n",
       "    </tr>\n",
       "    <tr>\n",
       "      <th>8</th>\n",
       "      <td>Data Scientist Internship</td>\n",
       "      <td>iHackers Inc</td>\n",
       "      <td>New Delhi</td>\n",
       "      <td>0-1 Yrs</td>\n",
       "    </tr>\n",
       "    <tr>\n",
       "      <th>9</th>\n",
       "      <td>Data Scientist</td>\n",
       "      <td>NatWest Group</td>\n",
       "      <td>Gurgaon/Gurugram</td>\n",
       "      <td>2-7 Yrs</td>\n",
       "    </tr>\n",
       "  </tbody>\n",
       "</table>\n",
       "</div>"
      ],
      "text/plain": [
       "                                           JOB TITLE  \\\n",
       "0  Job Opportunity || Data Scientist || HCL Techn...   \n",
       "1                           Associate Data Scientist   \n",
       "2                            Data Scientist I/II/III   \n",
       "3               Academic Counsellor - Data Scientist   \n",
       "4                                     Data Scientist   \n",
       "5                                     Data Scientist   \n",
       "6                                     Data Scientist   \n",
       "7                                     Data Scientist   \n",
       "8                          Data Scientist Internship   \n",
       "9                                     Data Scientist   \n",
       "\n",
       "                                          COMPANY  \\\n",
       "0                                HCL Technologies   \n",
       "1  Optum Global Solutions (India) Private Limited   \n",
       "2                               OLX India Pvt Ltd   \n",
       "3                                   GreatLearning   \n",
       "4                      lericon infomatics pvt.ltd   \n",
       "5  Optum Global Solutions (India) Private Limited   \n",
       "6                          Milliman India Pvt Ltd   \n",
       "7                               Fractal Analytics   \n",
       "8                                    iHackers Inc   \n",
       "9                                   NatWest Group   \n",
       "\n",
       "                                    JOB LOCATION Experience Require  \n",
       "0                                    Delhi / NCR            4-7 Yrs  \n",
       "1                                          Noida            2-7 Yrs  \n",
       "2                               Gurgaon/Gurugram            3-6 Yrs  \n",
       "3          Gurgaon/Gurugram, Bangalore/Bengaluru            1-4 Yrs  \n",
       "4                            Mumbai, Delhi / NCR            3-5 Yrs  \n",
       "5                        Noida, Gurgaon/Gurugram            2-6 Yrs  \n",
       "6                               Gurgaon/Gurugram            2-5 Yrs  \n",
       "7  Mumbai, Gurgaon/Gurugram, Bangalore/Bengaluru            3-7 Yrs  \n",
       "8                                      New Delhi            0-1 Yrs  \n",
       "9                               Gurgaon/Gurugram            2-7 Yrs  "
      ]
     },
     "execution_count": 61,
     "metadata": {},
     "output_type": "execute_result"
    }
   ],
   "source": [
    "Data_scientist=pd.DataFrame({})\n",
    "Data_scientist['JOB TITLE']=job_title\n",
    "Data_scientist['COMPANY']=company\n",
    "Data_scientist['JOB LOCATION']=job_location\n",
    "Data_scientist['Experience Require']=experienced\n",
    "print('/033[1m'+'Top 10 Data Analyst Job at Bangrole :'+'/033[0m')\n",
    "Data_scientist"
   ]
  },
  {
   "cell_type": "markdown",
   "metadata": {},
   "source": [
    "## Q4: Write a python program to scrape data for first 10 job results for Data scientist Designation in Noida location. You have to scrape company_name, No. of days ago when job was posted, Rating of the company.\n",
    "This task will be done in following steps:\n",
    "\n",
    "1. first get the webpage https://www.glassdoor.co.in/index.htm\n",
    "\n",
    "2. Enter “Data Scientist” in “Job Title,Keyword,Company” field and enter “Noida” in “location” field.\n",
    "\n",
    "3. Then click the search button. You will land up in the below page:\n",
    "\n",
    "4. Then scrape the data for the first 10 jobs results you get in the above shown page.\n",
    "\n",
    "5. Finally create a dataframe of the scraped data.\n",
    "\n",
    "Note- All of the above steps have to be done in code. No step is to be done manually."
   ]
  },
  {
   "cell_type": "code",
   "execution_count": 105,
   "metadata": {},
   "outputs": [],
   "source": [
    "import selenium\n",
    "import pandas as pd\n",
    "from selenium import webdriver\n",
    "import time\n",
    "from selenium.common.exceptions import NoSuchElementException\n",
    "\n",
    "# connecting Webdriver\n",
    "driver = webdriver.Chrome(r'C:\\chromedriver.exe')\n",
    "driver\n",
    "\n",
    "# Opening naukri.com\n",
    "url ='https://www.glassdoor.co.in/index.htm'\n",
    "driver.get(url)"
   ]
  },
  {
   "cell_type": "markdown",
   "metadata": {},
   "source": [
    "#### Sign In Glassdoor account"
   ]
  },
  {
   "cell_type": "code",
   "execution_count": 126,
   "metadata": {},
   "outputs": [],
   "source": [
    "sign_In = driver.find_element_by_xpath('//button[@class=\"d-flex align-items-center justify-content-center order-1 order-md-2 mr-auto mr-md-0 p-0 LockedHomeHeaderStyles__signInButton\"]')\n",
    "sign_In.click()"
   ]
  },
  {
   "cell_type": "code",
   "execution_count": 127,
   "metadata": {},
   "outputs": [],
   "source": [
    "E_id=driver.find_element_by_id(\"userEmail\").send_keys('lokeshbaviskar4@gmail.com')\n",
    "P_id=driver.find_element_by_id(\"userPassword\").send_keys('Welcome@123')"
   ]
  },
  {
   "cell_type": "code",
   "execution_count": 128,
   "metadata": {},
   "outputs": [],
   "source": [
    "Click1=driver.find_element_by_xpath('//button[@class=\"gd-ui-button minWidthBtn css-8i7bc2\"]')\n",
    "Click1.click()"
   ]
  },
  {
   "cell_type": "markdown",
   "metadata": {},
   "source": [
    "##### Sending Input as “Data Scientist” in “Skill,Designations,Companies” field and  “Noida” in “enter the location” field."
   ]
  },
  {
   "cell_type": "code",
   "execution_count": 110,
   "metadata": {},
   "outputs": [],
   "source": [
    "driver.find_element_by_id(\"sc.keyword\").send_keys(\"Data Scientist\")\n",
    "driver.find_element_by_xpath('//*[@id=\"sc.location\"]').send_keys(\"Noida\")\n",
    "driver.find_element_by_xpath('//*[@id=\"scBar\"]/div/button/span').click()"
   ]
  },
  {
   "cell_type": "code",
   "execution_count": 111,
   "metadata": {},
   "outputs": [],
   "source": [
    "company=[]\n",
    "date =[]\n",
    "URL=[]\n",
    "company_rating=[]"
   ]
  },
  {
   "cell_type": "markdown",
   "metadata": {},
   "source": [
    "#### Scraping data from glassdoor"
   ]
  },
  {
   "cell_type": "code",
   "execution_count": 112,
   "metadata": {},
   "outputs": [],
   "source": [
    "time.sleep(3)\n",
    "company_name=driver.find_elements_by_xpath('//div[@class=\"d-flex justify-content-between align-items-start\"]/a/span')\n",
    "time.sleep(5)\n",
    "date_post=driver.find_elements_by_xpath('//div[@class=\"d-flex align-items-end pl-std css-17n8uzw\"]')\n",
    "time.sleep(5)\n",
    "url_extract=driver.find_elements_by_xpath('//a[@class=\"jobLink job-search-key-1rd3saf eigr9kq1\"]')\n",
    "time.sleep(5)"
   ]
  },
  {
   "cell_type": "code",
   "execution_count": 114,
   "metadata": {},
   "outputs": [],
   "source": [
    "for i in company_name:\n",
    "    a=i.text\n",
    "    company.append(a)\n",
    "    time.sleep(2)\n",
    "for i in date_post:\n",
    "    b=i.text\n",
    "    date.append(b)\n",
    "    time.sleep(2)\n",
    "for i in url_extract:\n",
    "    URL.append(i.get_attribute('href'))\n",
    "    time.sleep(2)"
   ]
  },
  {
   "cell_type": "code",
   "execution_count": 123,
   "metadata": {},
   "outputs": [],
   "source": [
    "for i in URL[:10]:\n",
    "    driver.get(i)\n",
    "    time.sleep(1)\n",
    "    try:\n",
    "        company_rating.append((driver.find_element_by_xpath('//span[@class=\"css-1pmc6te e11nt52q4\"]')).text[:3])\n",
    "    except NoSuchElementException:\n",
    "        company_rating.append('NaN')"
   ]
  },
  {
   "cell_type": "code",
   "execution_count": 124,
   "metadata": {},
   "outputs": [
    {
     "name": "stdout",
     "output_type": "stream",
     "text": [
      "/033[1mTop Data Scientist Job at Noida :/033[0m\n"
     ]
    },
    {
     "data": {
      "text/html": [
       "<div>\n",
       "<style scoped>\n",
       "    .dataframe tbody tr th:only-of-type {\n",
       "        vertical-align: middle;\n",
       "    }\n",
       "\n",
       "    .dataframe tbody tr th {\n",
       "        vertical-align: top;\n",
       "    }\n",
       "\n",
       "    .dataframe thead th {\n",
       "        text-align: right;\n",
       "    }\n",
       "</style>\n",
       "<table border=\"1\" class=\"dataframe\">\n",
       "  <thead>\n",
       "    <tr style=\"text-align: right;\">\n",
       "      <th></th>\n",
       "      <th>COMPANY</th>\n",
       "      <th>Posted Ago</th>\n",
       "      <th>Rating</th>\n",
       "    </tr>\n",
       "  </thead>\n",
       "  <tbody>\n",
       "    <tr>\n",
       "      <th>0</th>\n",
       "      <td>Instrovate Technologies</td>\n",
       "      <td>30d+</td>\n",
       "      <td>NaN</td>\n",
       "    </tr>\n",
       "    <tr>\n",
       "      <th>1</th>\n",
       "      <td>Pixel Vision</td>\n",
       "      <td>2d</td>\n",
       "      <td>NaN</td>\n",
       "    </tr>\n",
       "    <tr>\n",
       "      <th>2</th>\n",
       "      <td>2COMS Consulting Private Limited</td>\n",
       "      <td>13d</td>\n",
       "      <td>NaN</td>\n",
       "    </tr>\n",
       "    <tr>\n",
       "      <th>3</th>\n",
       "      <td>Innovacer</td>\n",
       "      <td>2d</td>\n",
       "      <td>NaN</td>\n",
       "    </tr>\n",
       "    <tr>\n",
       "      <th>4</th>\n",
       "      <td>HDFC Bank</td>\n",
       "      <td>3d</td>\n",
       "      <td>NaN</td>\n",
       "    </tr>\n",
       "    <tr>\n",
       "      <th>5</th>\n",
       "      <td>UnitedHealth Group</td>\n",
       "      <td>6d</td>\n",
       "      <td>NaN</td>\n",
       "    </tr>\n",
       "    <tr>\n",
       "      <th>6</th>\n",
       "      <td>Crowe</td>\n",
       "      <td>12d</td>\n",
       "      <td>NaN</td>\n",
       "    </tr>\n",
       "    <tr>\n",
       "      <th>7</th>\n",
       "      <td>AIIMS, Delhi</td>\n",
       "      <td>1d</td>\n",
       "      <td>NaN</td>\n",
       "    </tr>\n",
       "    <tr>\n",
       "      <th>8</th>\n",
       "      <td>Salasar New Age Technologies</td>\n",
       "      <td>30d+</td>\n",
       "      <td>NaN</td>\n",
       "    </tr>\n",
       "    <tr>\n",
       "      <th>9</th>\n",
       "      <td>AlgoScale Technologies Private Limited</td>\n",
       "      <td>30d+</td>\n",
       "      <td>NaN</td>\n",
       "    </tr>\n",
       "  </tbody>\n",
       "</table>\n",
       "</div>"
      ],
      "text/plain": [
       "                                  COMPANY Posted Ago Rating\n",
       "0                 Instrovate Technologies       30d+    NaN\n",
       "1                            Pixel Vision         2d    NaN\n",
       "2        2COMS Consulting Private Limited        13d    NaN\n",
       "3                               Innovacer         2d    NaN\n",
       "4                               HDFC Bank         3d    NaN\n",
       "5                      UnitedHealth Group         6d    NaN\n",
       "6                                   Crowe        12d    NaN\n",
       "7                            AIIMS, Delhi         1d    NaN\n",
       "8            Salasar New Age Technologies       30d+    NaN\n",
       "9  AlgoScale Technologies Private Limited       30d+    NaN"
      ]
     },
     "execution_count": 124,
     "metadata": {},
     "output_type": "execute_result"
    }
   ],
   "source": [
    "Data_scientist=pd.DataFrame({})\n",
    "Data_scientist['COMPANY']=company[:10]\n",
    "Data_scientist['Posted Ago']=date[:10]\n",
    "Data_scientist['Rating']=company_rating[:10]\n",
    "print('\\033[1m'+'Top Data Scientist Job at Noida :'+'\\033[0m')\n",
    "Data_scientist"
   ]
  },
  {
   "cell_type": "markdown",
   "metadata": {},
   "source": [
    "## Q5: Write a python program to scrape the salary data for Data Scientist designation in Noida location. You have to scrape Company name, Number of salaries, Average salary, Min salary, Max Salary.\n",
    "\n",
    "The above task will be, done as shown in the below steps:\n",
    "\n",
    "1. first get the webpage https://www.glassdoor.co.in/Salaries/index.htm\n",
    "\n",
    "2. Enter “Data Scientist” in Job title field and “Noida” in location field.\n",
    "\n",
    "3. Click the search button.\n",
    "\n",
    "4. After that you will land on the below page. You have to scrape whole data from this webpage.\n",
    "\n",
    "5. Scrape data for first 10 companies. Scrape the min salary, max salary, company name, Average salary and rating of the company.\n",
    "\n",
    "6. Store the data in a dataframe.\n",
    "\n",
    "Note that all of the above steps have to be done by coding only and not manually.\n"
   ]
  },
  {
   "cell_type": "code",
   "execution_count": 159,
   "metadata": {},
   "outputs": [],
   "source": [
    "import selenium\n",
    "import pandas as pd\n",
    "from selenium import webdriver\n",
    "import time\n",
    "from selenium.common.exceptions import NoSuchElementException\n",
    "\n",
    "# connecting Webdriver\n",
    "driver = webdriver.Chrome(r'C:\\chromedriver.exe')\n",
    "driver\n",
    "\n",
    "# Opening naukri.com\n",
    "url ='https://www.glassdoor.co.in/Salaries/index.htm'\n",
    "driver.get(url)"
   ]
  },
  {
   "cell_type": "markdown",
   "metadata": {},
   "source": [
    "#### Sign In Glassdoor"
   ]
  },
  {
   "cell_type": "code",
   "execution_count": 160,
   "metadata": {},
   "outputs": [],
   "source": [
    "sign_In = driver.find_element_by_xpath('//div[@class=\"d-flex order-0 order-lg-6\"]')\n",
    "sign_In.click()"
   ]
  },
  {
   "cell_type": "code",
   "execution_count": 161,
   "metadata": {},
   "outputs": [],
   "source": [
    "E_id=driver.find_element_by_id(\"userEmail\").send_keys('lokeshbaviskar4@gmail.com')\n",
    "P_id=driver.find_element_by_id(\"userPassword\").send_keys('Welcome@123')"
   ]
  },
  {
   "cell_type": "code",
   "execution_count": 162,
   "metadata": {},
   "outputs": [],
   "source": [
    "Click1=driver.find_element_by_xpath('//button[@class=\"gd-ui-button minWidthBtn css-8i7bc2\"]')\n",
    "Click1.click()"
   ]
  },
  {
   "cell_type": "markdown",
   "metadata": {},
   "source": [
    "#### Giving Input as Data Scientist and Noida"
   ]
  },
  {
   "cell_type": "code",
   "execution_count": 163,
   "metadata": {},
   "outputs": [],
   "source": [
    "driver.find_element_by_xpath('//*[@id=\"KeywordSearch\"]').send_keys(\"Data Scientist\")\n",
    "driver.find_element_by_xpath('//*[@id=\"LocationSearch\"]').send_keys(\"Noida\")\n",
    "driver.find_element_by_xpath('//*[@id=\"HeroSearchButton\"]').click()"
   ]
  },
  {
   "cell_type": "markdown",
   "metadata": {},
   "source": [
    "#### Creating Empty list"
   ]
  },
  {
   "cell_type": "code",
   "execution_count": 161,
   "metadata": {},
   "outputs": [],
   "source": [
    "company_name=[]\n",
    "min_salary=[]\n",
    "max_salary=[]\n",
    "Avg_salary=[]"
   ]
  },
  {
   "cell_type": "markdown",
   "metadata": {},
   "source": [
    "#### Extracting Data"
   ]
  },
  {
   "cell_type": "code",
   "execution_count": 162,
   "metadata": {},
   "outputs": [],
   "source": [
    "name_tag=driver.find_elements_by_xpath('//a[@class=\"css-f3vw95 e1aj7ssy3\"]')\n",
    "time.sleep(5)"
   ]
  },
  {
   "cell_type": "code",
   "execution_count": 164,
   "metadata": {},
   "outputs": [
    {
     "data": {
      "text/plain": [
       "['Tata Consultancy Services',\n",
       " 'IBM',\n",
       " 'Accenture',\n",
       " 'Ericsson-Worldwide',\n",
       " 'Delhivery',\n",
       " 'UnitedHealth Group',\n",
       " 'EXL Service',\n",
       " 'Optum',\n",
       " 'ZS Associates',\n",
       " 'Optum Global Solutions']"
      ]
     },
     "execution_count": 164,
     "metadata": {},
     "output_type": "execute_result"
    }
   ],
   "source": [
    "for i in name_tag:\n",
    "    name=i.text\n",
    "    company_name.append(name)\n",
    "company_name[0:10]"
   ]
  },
  {
   "cell_type": "code",
   "execution_count": 173,
   "metadata": {},
   "outputs": [],
   "source": [
    "min_tag=driver.find_elements_by_xpath('//div[@class=\"d-flex mt-xxsm css-79elbk epuxyqn0\"]/p')"
   ]
  },
  {
   "cell_type": "code",
   "execution_count": 175,
   "metadata": {},
   "outputs": [
    {
     "data": {
      "text/plain": [
       "['₹4L', '₹13L', '₹1L', '₹28L', '₹6L', '₹23L', '₹4L', '₹17L', '₹5L', '₹1Cr']"
      ]
     },
     "execution_count": 175,
     "metadata": {},
     "output_type": "execute_result"
    }
   ],
   "source": [
    "for i in min_tag:\n",
    "    min=i.text\n",
    "    min_salary.append(min)\n",
    "min_salary[0:10]"
   ]
  },
  {
   "cell_type": "code",
   "execution_count": 176,
   "metadata": {},
   "outputs": [],
   "source": [
    "max_tag=driver.find_elements_by_xpath('//div[@class=\"d-flex mt-xxsm css-79elbk epuxyqn0\"]/p[2]')"
   ]
  },
  {
   "cell_type": "code",
   "execution_count": 178,
   "metadata": {},
   "outputs": [
    {
     "data": {
      "text/plain": [
       "['₹13L',\n",
       " '₹28L',\n",
       " '₹23L',\n",
       " '₹17L',\n",
       " '₹1Cr',\n",
       " '₹16L',\n",
       " '₹20L',\n",
       " '₹20L',\n",
       " '₹22L',\n",
       " '₹18L']"
      ]
     },
     "execution_count": 178,
     "metadata": {},
     "output_type": "execute_result"
    }
   ],
   "source": [
    "for i in max_tag:\n",
    "    max=i.text\n",
    "    max_salary.append(max)\n",
    "max_salary[0:10]"
   ]
  },
  {
   "cell_type": "code",
   "execution_count": 167,
   "metadata": {},
   "outputs": [],
   "source": [
    "avg_tag=driver.find_elements_by_xpath('//div[@class=\"col-12 col-lg-4 px-lg-0 d-flex align-items-baseline\"]/h3')\n",
    "time.sleep(5)"
   ]
  },
  {
   "cell_type": "code",
   "execution_count": 169,
   "metadata": {},
   "outputs": [
    {
     "data": {
      "text/plain": [
       "['₹6,31,184',\n",
       " '₹9,08,246',\n",
       " '₹12,13,338',\n",
       " '₹7,61,766',\n",
       " '₹12,49,716',\n",
       " '₹12,80,000',\n",
       " '₹12,42,519',\n",
       " '₹12,70,000',\n",
       " '₹11,71,868',\n",
       " '₹14,55,430']"
      ]
     },
     "execution_count": 169,
     "metadata": {},
     "output_type": "execute_result"
    }
   ],
   "source": [
    "for i in avg_tag:\n",
    "    avg=i.text\n",
    "    Avg_salary.append(avg)\n",
    "Avg_salary[0:10]"
   ]
  },
  {
   "cell_type": "code",
   "execution_count": 181,
   "metadata": {},
   "outputs": [
    {
     "data": {
      "text/html": [
       "<div>\n",
       "<style scoped>\n",
       "    .dataframe tbody tr th:only-of-type {\n",
       "        vertical-align: middle;\n",
       "    }\n",
       "\n",
       "    .dataframe tbody tr th {\n",
       "        vertical-align: top;\n",
       "    }\n",
       "\n",
       "    .dataframe thead th {\n",
       "        text-align: right;\n",
       "    }\n",
       "</style>\n",
       "<table border=\"1\" class=\"dataframe\">\n",
       "  <thead>\n",
       "    <tr style=\"text-align: right;\">\n",
       "      <th></th>\n",
       "      <th>Company</th>\n",
       "      <th>Minimum salary</th>\n",
       "      <th>maximum salary</th>\n",
       "      <th>Average salary</th>\n",
       "    </tr>\n",
       "  </thead>\n",
       "  <tbody>\n",
       "    <tr>\n",
       "      <th>0</th>\n",
       "      <td>Tata Consultancy Services</td>\n",
       "      <td>₹4L</td>\n",
       "      <td>₹13L</td>\n",
       "      <td>₹6,31,184</td>\n",
       "    </tr>\n",
       "    <tr>\n",
       "      <th>1</th>\n",
       "      <td>IBM</td>\n",
       "      <td>₹13L</td>\n",
       "      <td>₹28L</td>\n",
       "      <td>₹9,08,246</td>\n",
       "    </tr>\n",
       "    <tr>\n",
       "      <th>2</th>\n",
       "      <td>Accenture</td>\n",
       "      <td>₹1L</td>\n",
       "      <td>₹23L</td>\n",
       "      <td>₹12,13,338</td>\n",
       "    </tr>\n",
       "    <tr>\n",
       "      <th>3</th>\n",
       "      <td>Ericsson-Worldwide</td>\n",
       "      <td>₹28L</td>\n",
       "      <td>₹17L</td>\n",
       "      <td>₹7,61,766</td>\n",
       "    </tr>\n",
       "    <tr>\n",
       "      <th>4</th>\n",
       "      <td>Delhivery</td>\n",
       "      <td>₹6L</td>\n",
       "      <td>₹1Cr</td>\n",
       "      <td>₹12,49,716</td>\n",
       "    </tr>\n",
       "    <tr>\n",
       "      <th>5</th>\n",
       "      <td>UnitedHealth Group</td>\n",
       "      <td>₹23L</td>\n",
       "      <td>₹16L</td>\n",
       "      <td>₹12,80,000</td>\n",
       "    </tr>\n",
       "    <tr>\n",
       "      <th>6</th>\n",
       "      <td>EXL Service</td>\n",
       "      <td>₹4L</td>\n",
       "      <td>₹20L</td>\n",
       "      <td>₹12,42,519</td>\n",
       "    </tr>\n",
       "    <tr>\n",
       "      <th>7</th>\n",
       "      <td>Optum</td>\n",
       "      <td>₹17L</td>\n",
       "      <td>₹20L</td>\n",
       "      <td>₹12,70,000</td>\n",
       "    </tr>\n",
       "    <tr>\n",
       "      <th>8</th>\n",
       "      <td>ZS Associates</td>\n",
       "      <td>₹5L</td>\n",
       "      <td>₹22L</td>\n",
       "      <td>₹11,71,868</td>\n",
       "    </tr>\n",
       "    <tr>\n",
       "      <th>9</th>\n",
       "      <td>Optum Global Solutions</td>\n",
       "      <td>₹1Cr</td>\n",
       "      <td>₹18L</td>\n",
       "      <td>₹14,55,430</td>\n",
       "    </tr>\n",
       "  </tbody>\n",
       "</table>\n",
       "</div>"
      ],
      "text/plain": [
       "                     Company Minimum salary maximum salary Average salary\n",
       "0  Tata Consultancy Services            ₹4L           ₹13L      ₹6,31,184\n",
       "1                        IBM           ₹13L           ₹28L      ₹9,08,246\n",
       "2                  Accenture            ₹1L           ₹23L     ₹12,13,338\n",
       "3         Ericsson-Worldwide           ₹28L           ₹17L      ₹7,61,766\n",
       "4                  Delhivery            ₹6L           ₹1Cr     ₹12,49,716\n",
       "5         UnitedHealth Group           ₹23L           ₹16L     ₹12,80,000\n",
       "6                EXL Service            ₹4L           ₹20L     ₹12,42,519\n",
       "7                      Optum           ₹17L           ₹20L     ₹12,70,000\n",
       "8              ZS Associates            ₹5L           ₹22L     ₹11,71,868\n",
       "9     Optum Global Solutions           ₹1Cr           ₹18L     ₹14,55,430"
      ]
     },
     "execution_count": 181,
     "metadata": {},
     "output_type": "execute_result"
    }
   ],
   "source": [
    "Salary=pd.DataFrame({})\n",
    "Salary['Company']=company_name[:10]\n",
    "Salary['Minimum salary']=min_salary[:10]\n",
    "Salary['maximum salary']=max_salary[:10]\n",
    "Salary['Average salary']=Avg_salary[:10]\n",
    "Salary"
   ]
  },
  {
   "cell_type": "markdown",
   "metadata": {},
   "source": [
    "## Q6 : Scrape data of first 100 sunglasses listings on flipkart.com. You have to scrape four attributes:\n",
    "\n",
    "1. Brand\n",
    "2. Product Description\n",
    "3. Price\n",
    "4. Discount %\n",
    "\n",
    "The attributes which you have to scrape is ticked marked in the below image.\n",
    "\n",
    "To scrape the data you have to go through following steps:\n",
    "\n",
    "1. Go to flipkart webpage by url https://www.flipkart.com/\n",
    "\n",
    "2. Enter “sunglasses” in the search field where “search for products, brands and more” is written and click the search icon\n",
    "\n",
    "3. after that you will reach to a webpage having a lot of sunglasses. From this page you can scrap the required data as usual.\n",
    "\n",
    "4. after scraping data from the first page, go to the “Next” Button at the bottom of the page , then click on it.\n",
    "\n",
    "5. Now scrape data from this page as usual\n",
    "\n",
    "6. repeat this until you get data for 100 sunglasses.\n",
    "\n",
    "Note that all of the above steps have to be done by coding only and not manually.\n"
   ]
  },
  {
   "cell_type": "code",
   "execution_count": 1,
   "metadata": {},
   "outputs": [],
   "source": [
    "import selenium\n",
    "import pandas as pd\n",
    "from selenium import webdriver\n",
    "import time\n",
    "from selenium.common.exceptions import NoSuchElementException\n",
    "\n",
    "# connecting Webdriver\n",
    "driver = webdriver.Chrome(r'C:\\chromedriver.exe')\n",
    "driver\n",
    "\n",
    "# Opening naukri.com\n",
    "url ='https://www.flipkart.com/'\n",
    "driver.get(url)"
   ]
  },
  {
   "cell_type": "markdown",
   "metadata": {},
   "source": [
    "##### Sending Input as 'Sunglasses' in search field field."
   ]
  },
  {
   "cell_type": "code",
   "execution_count": 2,
   "metadata": {},
   "outputs": [],
   "source": [
    "driver.find_element_by_xpath('//div[@class=\"_3OO5Xc\"]/input').send_keys('sunglasses')\n",
    "driver.find_element_by_xpath('//button[@class=\"L0Z3Pu\"]').click()"
   ]
  },
  {
   "cell_type": "code",
   "execution_count": 8,
   "metadata": {},
   "outputs": [],
   "source": [
    "#creating the empty lists\n",
    "Brand=[]\n",
    "Product_Description=[]\n",
    "Price=[]\n",
    "Discount=[]"
   ]
  },
  {
   "cell_type": "code",
   "execution_count": 4,
   "metadata": {},
   "outputs": [],
   "source": [
    "# Scraping URl of 100 Sunglasses\n",
    "URL=[]\n",
    "for i in range(0,3):\n",
    "    S_g_url=driver.find_elements_by_xpath('//a[@class=\"_2UzuFa\"]')\n",
    "    for i in S_g_url:\n",
    "        URL.append(i.get_attribute('href'))\n",
    "    # Clicking on NEXT button at end of page\n",
    "    driver.find_element_by_xpath('//a[@class=\"_1LKTO3\"]').click()\n",
    "    time.sleep(4)"
   ]
  },
  {
   "cell_type": "code",
   "execution_count": 5,
   "metadata": {},
   "outputs": [
    {
     "data": {
      "text/plain": [
       "['https://www.flipkart.com/fastrack-wayfarer-sunglasses/p/itmf79dqjqucq9f3?pid=SGLF79DQR8NQAT2W&lid=LSTSGLF79DQR8NQAT2W0MLSHN&marketplace=FLIPKART&q=sunglasses&store=26x&spotlightTagId=BestsellerId_26x&srno=s_1_1&otracker=search&otracker1=search&fm=SEARCH&iid=f225217c-33c1-44b5-8d64-8537469304a9.SGLF79DQR8NQAT2W.SEARCH&ppt=sp&ppn=sp&ssid=ovoy101kxs0000001634211050396&qH=2cc465e3eef5bff0',\n",
       " 'https://www.flipkart.com/piraso-aviator-sunglasses/p/itm70504d13b7992?pid=SGLFV8YYCEA8RWAC&lid=LSTSGLFV8YYCEA8RWACIACICJ&marketplace=FLIPKART&q=sunglasses&store=26x&srno=s_1_2&otracker=search&otracker1=search&fm=SEARCH&iid=f225217c-33c1-44b5-8d64-8537469304a9.SGLFV8YYCEA8RWAC.SEARCH&ppt=sp&ppn=sp&ssid=ovoy101kxs0000001634211050396&qH=2cc465e3eef5bff0',\n",
       " 'https://www.flipkart.com/piraso-aviator-sunglasses/p/itma9ed6fe9b3b86?pid=SGLFZJQUNAHYUCAS&lid=LSTSGLFZJQUNAHYUCASKDXKTE&marketplace=FLIPKART&q=sunglasses&store=26x&srno=s_1_3&otracker=search&otracker1=search&fm=SEARCH&iid=f225217c-33c1-44b5-8d64-8537469304a9.SGLFZJQUNAHYUCAS.SEARCH&ppt=sp&ppn=sp&ssid=ovoy101kxs0000001634211050396&qH=2cc465e3eef5bff0',\n",
       " 'https://www.flipkart.com/elligator-round-sunglasses/p/itm3c981fc444358?pid=SGLFPHP5BVBJTCDB&lid=LSTSGLFPHP5BVBJTCDB7P4T6G&marketplace=FLIPKART&q=sunglasses&store=26x&srno=s_1_4&otracker=search&otracker1=search&fm=SEARCH&iid=f225217c-33c1-44b5-8d64-8537469304a9.SGLFPHP5BVBJTCDB.SEARCH&ppt=hp&ppn=homepage&ssid=ovoy101kxs0000001634211050396&qH=2cc465e3eef5bff0',\n",
       " 'https://www.flipkart.com/fastrack-wayfarer-sunglasses/p/itm04d9621b98c78?pid=SGLFG94C8PAHZ3SH&lid=LSTSGLFG94C8PAHZ3SHAFCJXO&marketplace=FLIPKART&q=sunglasses&store=26x&srno=s_1_5&otracker=search&otracker1=search&fm=SEARCH&iid=f225217c-33c1-44b5-8d64-8537469304a9.SGLFG94C8PAHZ3SH.SEARCH&ppt=sp&ppn=sp&ssid=ovoy101kxs0000001634211050396&qH=2cc465e3eef5bff0',\n",
       " 'https://www.flipkart.com/shaah-collections-rectangular-sunglasses/p/itm201340b1c3e13?pid=SGLFXWGV5TGFFSPX&lid=LSTSGLFXWGV5TGFFSPXSORUG9&marketplace=FLIPKART&q=sunglasses&store=26x&srno=s_1_6&otracker=search&otracker1=search&fm=SEARCH&iid=f225217c-33c1-44b5-8d64-8537469304a9.SGLFXWGV5TGFFSPX.SEARCH&ppt=sp&ppn=sp&ssid=ovoy101kxs0000001634211050396&qH=2cc465e3eef5bff0',\n",
       " 'https://www.flipkart.com/piraso-aviator-sunglasses/p/itm4210bb67b2728?pid=SGLFPFD7WRNASWSV&lid=LSTSGLFPFD7WRNASWSVJLGDDX&marketplace=FLIPKART&q=sunglasses&store=26x&srno=s_1_7&otracker=search&otracker1=search&fm=SEARCH&iid=f225217c-33c1-44b5-8d64-8537469304a9.SGLFPFD7WRNASWSV.SEARCH&ppt=hp&ppn=homepage&ssid=ovoy101kxs0000001634211050396&qH=2cc465e3eef5bff0',\n",
       " 'https://www.flipkart.com/fastrack-wayfarer-sunglasses/p/itmf79dqxyft72kh?pid=SGLF79DQWYPMFYVY&lid=LSTSGLF79DQWYPMFYVYGNZHDZ&marketplace=FLIPKART&q=sunglasses&store=26x&srno=s_1_8&otracker=search&otracker1=search&fm=SEARCH&iid=f225217c-33c1-44b5-8d64-8537469304a9.SGLF79DQWYPMFYVY.SEARCH&ppt=hp&ppn=homepage&ssid=ovoy101kxs0000001634211050396&qH=2cc465e3eef5bff0',\n",
       " 'https://www.flipkart.com/new-specs-round-sunglasses/p/itm02fdce83770d3?pid=SGLFTDG2NSHTKBFF&lid=LSTSGLFTDG2NSHTKBFFSE7DI7&marketplace=FLIPKART&q=sunglasses&store=26x&srno=s_1_9&otracker=search&otracker1=search&fm=SEARCH&iid=f225217c-33c1-44b5-8d64-8537469304a9.SGLFTDG2NSHTKBFF.SEARCH&ppt=sp&ppn=sp&ssid=ovoy101kxs0000001634211050396&qH=2cc465e3eef5bff0',\n",
       " 'https://www.flipkart.com/fastrack-wayfarer-sunglasses/p/itma9864babc060c?pid=SGLFG94CV3EVXTZE&lid=LSTSGLFG94CV3EVXTZEPQ88ZR&marketplace=FLIPKART&q=sunglasses&store=26x&srno=s_1_10&otracker=search&otracker1=search&fm=SEARCH&iid=f225217c-33c1-44b5-8d64-8537469304a9.SGLFG94CV3EVXTZE.SEARCH&ppt=hp&ppn=homepage&ssid=ovoy101kxs0000001634211050396&qH=2cc465e3eef5bff0',\n",
       " 'https://www.flipkart.com/rozzetta-craft-retro-square-sunglasses/p/itmf248ba5b3a895?pid=SGLFZFZNAQNZHYB7&lid=LSTSGLFZFZNAQNZHYB7GZ3YO5&marketplace=FLIPKART&q=sunglasses&store=26x&srno=s_1_11&otracker=search&otracker1=search&fm=SEARCH&iid=f225217c-33c1-44b5-8d64-8537469304a9.SGLFZFZNAQNZHYB7.SEARCH&ppt=sp&ppn=sp&ssid=ovoy101kxs0000001634211050396&qH=2cc465e3eef5bff0',\n",
       " 'https://www.flipkart.com/fastrack-aviator-sunglasses/p/itmf79dqewt9sf6d?pid=SGLF79DQGP7E4G2P&lid=LSTSGLF79DQGP7E4G2PYP2PGG&marketplace=FLIPKART&q=sunglasses&store=26x&srno=s_1_12&otracker=search&otracker1=search&fm=SEARCH&iid=f225217c-33c1-44b5-8d64-8537469304a9.SGLF79DQGP7E4G2P.SEARCH&ppt=hp&ppn=homepage&ssid=ovoy101kxs0000001634211050396&qH=2cc465e3eef5bff0',\n",
       " 'https://www.flipkart.com/singco-india-aviator-wayfarer-sunglasses/p/itmf5b6c6e88f44a?pid=SGLFF9BTZUQZGZ3H&lid=LSTSGLFF9BTZUQZGZ3HMQDMDM&marketplace=FLIPKART&q=sunglasses&store=26x&srno=s_1_13&otracker=search&otracker1=search&fm=SEARCH&iid=f225217c-33c1-44b5-8d64-8537469304a9.SGLFF9BTZUQZGZ3H.SEARCH&ppt=sp&ppn=sp&ssid=ovoy101kxs0000001634211050396&qH=2cc465e3eef5bff0',\n",
       " 'https://www.flipkart.com/fastrack-wayfarer-sunglasses/p/itm2d3730b4b7d31?pid=SGLFG94CQZ4AYS2F&lid=LSTSGLFG94CQZ4AYS2FQ3AXTH&marketplace=FLIPKART&q=sunglasses&store=26x&srno=s_1_14&otracker=search&otracker1=search&fm=SEARCH&iid=f225217c-33c1-44b5-8d64-8537469304a9.SGLFG94CQZ4AYS2F.SEARCH&ppt=hp&ppn=homepage&ssid=ovoy101kxs0000001634211050396&qH=2cc465e3eef5bff0',\n",
       " 'https://www.flipkart.com/kingsunglasses-wayfarer-sunglasses/p/itm9c7287be7c247?pid=SGLG2ZY9UERPGCZX&lid=LSTSGLG2ZY9UERPGCZXOWQRMA&marketplace=FLIPKART&q=sunglasses&store=26x&srno=s_1_15&otracker=search&otracker1=search&fm=SEARCH&iid=f225217c-33c1-44b5-8d64-8537469304a9.SGLG2ZY9UERPGCZX.SEARCH&ppt=hp&ppn=homepage&ssid=ovoy101kxs0000001634211050396&qH=2cc465e3eef5bff0',\n",
       " 'https://www.flipkart.com/elligator-round-sunglasses/p/itmfbbhpfxzvdhjf?pid=SGLFBB8BZZKGDTMV&lid=LSTSGLFBB8BZZKGDTMVLSTL3V&marketplace=FLIPKART&q=sunglasses&store=26x&srno=s_1_16&otracker=search&otracker1=search&fm=SEARCH&iid=f225217c-33c1-44b5-8d64-8537469304a9.SGLFBB8BZZKGDTMV.SEARCH&ppt=hp&ppn=homepage&ssid=ovoy101kxs0000001634211050396&qH=2cc465e3eef5bff0',\n",
       " 'https://www.flipkart.com/fastrack-shield-sunglasses/p/itmf79dqdqcf4s4c?pid=SGLF79DPUDKZG4WB&lid=LSTSGLF79DPUDKZG4WBV7D6KR&marketplace=FLIPKART&q=sunglasses&store=26x&srno=s_1_17&otracker=search&otracker1=search&fm=SEARCH&iid=f225217c-33c1-44b5-8d64-8537469304a9.SGLF79DPUDKZG4WB.SEARCH&ppt=sp&ppn=sp&ssid=ovoy101kxs0000001634211050396&qH=2cc465e3eef5bff0',\n",
       " 'https://www.flipkart.com/nuvew-sports-sunglasses/p/itm04003d2d64e06?pid=SGLFKJW7TU7YWZFU&lid=LSTSGLFKJW7TU7YWZFUZBVGQU&marketplace=FLIPKART&q=sunglasses&store=26x&srno=s_1_18&otracker=search&otracker1=search&fm=SEARCH&iid=f225217c-33c1-44b5-8d64-8537469304a9.SGLFKJW7TU7YWZFU.SEARCH&ppt=hp&ppn=homepage&ssid=ovoy101kxs0000001634211050396&qH=2cc465e3eef5bff0',\n",
       " 'https://www.flipkart.com/singco-india-aviator-sunglasses/p/itm2bc818fcd5d29?pid=SGLFH5ZGZGPZJ5DP&lid=LSTSGLFH5ZGZGPZJ5DPAYBD27&marketplace=FLIPKART&q=sunglasses&store=26x&srno=s_1_19&otracker=search&otracker1=search&fm=SEARCH&iid=f225217c-33c1-44b5-8d64-8537469304a9.SGLFH5ZGZGPZJ5DP.SEARCH&ppt=sp&ppn=sp&ssid=ovoy101kxs0000001634211050396&qH=2cc465e3eef5bff0',\n",
       " 'https://www.flipkart.com/rich-club-round-sunglasses/p/itmfavty8qfhacxx?pid=SGLFAVKTVBUFNG5Q&lid=LSTSGLFAVKTVBUFNG5QVTPHUI&marketplace=FLIPKART&q=sunglasses&store=26x&srno=s_1_20&otracker=search&otracker1=search&fm=SEARCH&iid=f225217c-33c1-44b5-8d64-8537469304a9.SGLFAVKTVBUFNG5Q.SEARCH&ppt=hp&ppn=homepage&ssid=ovoy101kxs0000001634211050396&qH=2cc465e3eef5bff0',\n",
       " 'https://www.flipkart.com/phenomenal-retro-square-sunglasses/p/itm05605e75ed801?pid=SGLFUXYAXFHYQAK4&lid=LSTSGLFUXYAXFHYQAK4VF4MKG&marketplace=FLIPKART&q=sunglasses&store=26x&srno=s_1_21&otracker=search&otracker1=search&fm=SEARCH&iid=f225217c-33c1-44b5-8d64-8537469304a9.SGLFUXYAXFHYQAK4.SEARCH&ppt=hp&ppn=homepage&ssid=ovoy101kxs0000001634211050396&qH=2cc465e3eef5bff0',\n",
       " 'https://www.flipkart.com/fastrack-aviator-sunglasses/p/itm3d6674f888d98?pid=SGLFKYGHKP4BXEMH&lid=LSTSGLFKYGHKP4BXEMHAL1IED&marketplace=FLIPKART&q=sunglasses&store=26x&srno=s_1_22&otracker=search&otracker1=search&fm=SEARCH&iid=f225217c-33c1-44b5-8d64-8537469304a9.SGLFKYGHKP4BXEMH.SEARCH&ppt=hp&ppn=homepage&ssid=ovoy101kxs0000001634211050396&qH=2cc465e3eef5bff0',\n",
       " 'https://www.flipkart.com/kingsunglasses-wayfarer-wayfarer-sunglasses/p/itm284f3ffbb5a56?pid=SGLFPSNCXVVP78AA&lid=LSTSGLFPSNCXVVP78AAWQUOML&marketplace=FLIPKART&q=sunglasses&store=26x&srno=s_1_23&otracker=search&otracker1=search&fm=SEARCH&iid=f225217c-33c1-44b5-8d64-8537469304a9.SGLFPSNCXVVP78AA.SEARCH&ppt=hp&ppn=homepage&ssid=ovoy101kxs0000001634211050396&qH=2cc465e3eef5bff0',\n",
       " 'https://www.flipkart.com/royal-son-aviator-sunglasses/p/itmd21945d08f83f?pid=SGLFZJVAZQZCZDUX&lid=LSTSGLFZJVAZQZCZDUXH73DBT&marketplace=FLIPKART&q=sunglasses&store=26x&srno=s_1_24&otracker=search&otracker1=search&fm=SEARCH&iid=f225217c-33c1-44b5-8d64-8537469304a9.SGLFZJVAZQZCZDUX.SEARCH&ppt=hp&ppn=homepage&ssid=ovoy101kxs0000001634211050396&qH=2cc465e3eef5bff0',\n",
       " 'https://www.flipkart.com/nuvew-aviator-sunglasses/p/itmc4bf4b6a80fed?pid=SGLFKGRAV5YG5YKZ&lid=LSTSGLFKGRAV5YG5YKZ68LPSR&marketplace=FLIPKART&q=sunglasses&store=26x&spotlightTagId=TrendingId_26x&srno=s_1_25&otracker=search&otracker1=search&fm=SEARCH&iid=f225217c-33c1-44b5-8d64-8537469304a9.SGLFKGRAV5YG5YKZ.SEARCH&ppt=sp&ppn=sp&ssid=ovoy101kxs0000001634211050396&qH=2cc465e3eef5bff0',\n",
       " 'https://www.flipkart.com/sunbee-wayfarer-sunglasses/p/itm36995681f63fb?pid=SGLG3HS7KUH3MSBH&lid=LSTSGLG3HS7KUH3MSBHTMUWXH&marketplace=FLIPKART&q=sunglasses&store=26x&srno=s_1_26&otracker=search&otracker1=search&fm=SEARCH&iid=f225217c-33c1-44b5-8d64-8537469304a9.SGLG3HS7KUH3MSBH.SEARCH&ppt=hp&ppn=homepage&ssid=ovoy101kxs0000001634211050396&qH=2cc465e3eef5bff0',\n",
       " 'https://www.flipkart.com/kingsunglasses-round-sunglasses/p/itmfb9juuhzg79rv?pid=SGLFB9GQVKJZGNDG&lid=LSTSGLFB9GQVKJZGNDGMUY598&marketplace=FLIPKART&q=sunglasses&store=26x&srno=s_1_27&otracker=search&otracker1=search&fm=SEARCH&iid=f225217c-33c1-44b5-8d64-8537469304a9.SGLFB9GQVKJZGNDG.SEARCH&ppt=hp&ppn=homepage&ssid=ovoy101kxs0000001634211050396&qH=2cc465e3eef5bff0',\n",
       " 'https://www.flipkart.com/gansta-aviator-sunglasses/p/itmf7hmfp5r8hcdb?pid=SGLF7HGZKHHSTQ8H&lid=LSTSGLF7HGZKHHSTQ8H5VK4WX&marketplace=FLIPKART&q=sunglasses&store=26x&srno=s_1_28&otracker=search&otracker1=search&fm=SEARCH&iid=f225217c-33c1-44b5-8d64-8537469304a9.SGLF7HGZKHHSTQ8H.SEARCH&ppt=hp&ppn=homepage&ssid=ovoy101kxs0000001634211050396&qH=2cc465e3eef5bff0',\n",
       " 'https://www.flipkart.com/gansta-wayfarer-sunglasses/p/itm58e84823a6ef0?pid=SGLFV5HSGFYEYMVC&lid=LSTSGLFV5HSGFYEYMVCIQJYRJ&marketplace=FLIPKART&q=sunglasses&store=26x&srno=s_1_29&otracker=search&otracker1=search&fm=SEARCH&iid=f225217c-33c1-44b5-8d64-8537469304a9.SGLFV5HSGFYEYMVC.SEARCH&ppt=sp&ppn=sp&ssid=ovoy101kxs0000001634211050396&qH=2cc465e3eef5bff0',\n",
       " 'https://www.flipkart.com/shaah-collections-round-sunglasses/p/itmff9749a242cb7?pid=SGLFSHGW3ZF7QTJZ&lid=LSTSGLFSHGW3ZF7QTJZNP12XI&marketplace=FLIPKART&q=sunglasses&store=26x&srno=s_1_30&otracker=search&otracker1=search&fm=SEARCH&iid=f225217c-33c1-44b5-8d64-8537469304a9.SGLFSHGW3ZF7QTJZ.SEARCH&ppt=hp&ppn=homepage&ssid=ovoy101kxs0000001634211050396&qH=2cc465e3eef5bff0',\n",
       " 'https://www.flipkart.com/gansta-aviator-sunglasses/p/itma841cb28ba5b2?pid=SGLFSFVG8R3XZAMN&lid=LSTSGLFSFVG8R3XZAMNIB8HEQ&marketplace=FLIPKART&q=sunglasses&store=26x&srno=s_1_31&otracker=search&otracker1=search&fm=SEARCH&iid=f225217c-33c1-44b5-8d64-8537469304a9.SGLFSFVG8R3XZAMN.SEARCH&ppt=sp&ppn=sp&ssid=ovoy101kxs0000001634211050396&qH=2cc465e3eef5bff0',\n",
       " 'https://www.flipkart.com/gansta-aviator-sunglasses/p/itm2252e6132a9df?pid=SGLE8H5B7BM8GWZ4&lid=LSTSGLE8H5B7BM8GWZ4HCW20R&marketplace=FLIPKART&q=sunglasses&store=26x&srno=s_1_32&otracker=search&otracker1=search&fm=SEARCH&iid=f225217c-33c1-44b5-8d64-8537469304a9.SGLE8H5B7BM8GWZ4.SEARCH&ppt=hp&ppn=homepage&ssid=ovoy101kxs0000001634211050396&qH=2cc465e3eef5bff0',\n",
       " 'https://www.flipkart.com/silver-kartz-oval-sunglasses/p/itmf0519a6d0669a?pid=SGLFJV3GWTUZSANC&lid=LSTSGLFJV3GWTUZSANCNBLT6O&marketplace=FLIPKART&q=sunglasses&store=26x&srno=s_1_33&otracker=search&otracker1=search&fm=SEARCH&iid=f225217c-33c1-44b5-8d64-8537469304a9.SGLFJV3GWTUZSANC.SEARCH&ppt=sp&ppn=sp&ssid=ovoy101kxs0000001634211050396&qH=2cc465e3eef5bff0',\n",
       " 'https://www.flipkart.com/fastrack-aviator-sunglasses/p/itm286ccd9d7b396?pid=SGLES2WMN7PCAERZ&lid=LSTSGLES2WMN7PCAERZZTPY54&marketplace=FLIPKART&q=sunglasses&store=26x&srno=s_1_34&otracker=search&otracker1=search&fm=SEARCH&iid=f225217c-33c1-44b5-8d64-8537469304a9.SGLES2WMN7PCAERZ.SEARCH&ppt=hp&ppn=homepage&ssid=ovoy101kxs0000001634211050396&qH=2cc465e3eef5bff0',\n",
       " 'https://www.flipkart.com/shaah-collections-rectangular-sunglasses/p/itm98878a113520c?pid=SGLFXXKC3RYXQWFG&lid=LSTSGLFXXKC3RYXQWFGB3OAUU&marketplace=FLIPKART&q=sunglasses&store=26x&srno=s_1_35&otracker=search&otracker1=search&fm=SEARCH&iid=f225217c-33c1-44b5-8d64-8537469304a9.SGLFXXKC3RYXQWFG.SEARCH&ppt=sp&ppn=sp&ssid=ovoy101kxs0000001634211050396&qH=2cc465e3eef5bff0',\n",
       " 'https://www.flipkart.com/fastrack-wayfarer-sunglasses/p/itm21c980ee51600?pid=SGLFG94CXYTBH8XR&lid=LSTSGLFG94CXYTBH8XR0WNU9P&marketplace=FLIPKART&q=sunglasses&store=26x&srno=s_1_36&otracker=search&otracker1=search&fm=SEARCH&iid=f225217c-33c1-44b5-8d64-8537469304a9.SGLFG94CXYTBH8XR.SEARCH&ppt=hp&ppn=homepage&ssid=ovoy101kxs0000001634211050396&qH=2cc465e3eef5bff0',\n",
       " 'https://www.flipkart.com/fastrack-wayfarer-sunglasses/p/itmf79dqptqb2tax?pid=SGLF79DQN6YGVYCQ&lid=LSTSGLF79DQN6YGVYCQMJPSGY&marketplace=FLIPKART&q=sunglasses&store=26x&srno=s_1_37&otracker=search&otracker1=search&fm=SEARCH&iid=f225217c-33c1-44b5-8d64-8537469304a9.SGLF79DQN6YGVYCQ.SEARCH&ppt=sp&ppn=sp&ssid=ovoy101kxs0000001634211050396&qH=2cc465e3eef5bff0',\n",
       " 'https://www.flipkart.com/fastrack-wayfarer-sunglasses/p/itm86ea087ff83c9?pid=SGLF79DQNHPY9N6U&lid=LSTSGLF79DQNHPY9N6UHBMJVE&marketplace=FLIPKART&q=sunglasses&store=26x&srno=s_1_38&otracker=search&otracker1=search&fm=SEARCH&iid=f225217c-33c1-44b5-8d64-8537469304a9.SGLF79DQNHPY9N6U.SEARCH&ppt=hp&ppn=homepage&ssid=ovoy101kxs0000001634211050396&qH=2cc465e3eef5bff0',\n",
       " 'https://www.flipkart.com/silver-kartz-wayfarer-sunglasses/p/itmf3ykz37jypbdd?pid=SGLEXSP4CY6G2ZTY&lid=LSTSGLEXSP4CY6G2ZTYGHVAAN&marketplace=FLIPKART&q=sunglasses&store=26x&srno=s_1_39&otracker=search&otracker1=search&fm=SEARCH&iid=f225217c-33c1-44b5-8d64-8537469304a9.SGLEXSP4CY6G2ZTY.SEARCH&ppt=sp&ppn=sp&ssid=ovoy101kxs0000001634211050396&qH=2cc465e3eef5bff0',\n",
       " 'https://www.flipkart.com/piraso-aviator-sunglasses/p/itm405062704fcc0?pid=SGLFTYY5NWNKSC64&lid=LSTSGLFTYY5NWNKSC64YLGIVW&marketplace=FLIPKART&q=sunglasses&store=26x&srno=s_1_40&otracker=search&otracker1=search&fm=SEARCH&iid=f225217c-33c1-44b5-8d64-8537469304a9.SGLFTYY5NWNKSC64.SEARCH&ppt=sp&ppn=sp&ssid=ovoy101kxs0000001634211050396&qH=2cc465e3eef5bff0',\n",
       " 'https://www.flipkart.com/silver-kartz-wayfarer-sunglasses/p/itmf3ykz37jypbdd?pid=SGLEXSP4CY6G2ZTY&lid=LSTSGLEXSP4CY6G2ZTYGHVAAN&marketplace=FLIPKART&q=sunglasses&store=26x&srno=s_2_41&otracker=search&otracker1=search&fm=SEARCH&iid=12abc4e5-9241-4cb5-88ba-10e2a13b80d6.SGLEXSP4CY6G2ZTY.SEARCH&ppt=sp&ppn=sp&ssid=ovoy101kxs0000001634211050396&qH=2cc465e3eef5bff0',\n",
       " 'https://www.flipkart.com/rozzetta-craft-rectangular-sunglasses/p/itmc07cb7e8aec50?pid=SGLFSZV6PXGZGZGX&lid=LSTSGLFSZV6PXGZGZGXNWELSX&marketplace=FLIPKART&q=sunglasses&store=26x&srno=s_2_42&otracker=search&otracker1=search&fm=SEARCH&iid=12abc4e5-9241-4cb5-88ba-10e2a13b80d6.SGLFSZV6PXGZGZGX.SEARCH&ppt=sp&ppn=sp&ssid=ovoy101kxs0000001634211050396&qH=2cc465e3eef5bff0',\n",
       " 'https://www.flipkart.com/gansta-wayfarer-sunglasses/p/itmfc764f7c32c6d?pid=SGLF926KFNUSZS98&lid=LSTSGLF926KFNUSZS98NBQTJL&marketplace=FLIPKART&q=sunglasses&store=26x&srno=s_2_43&otracker=search&otracker1=search&fm=SEARCH&iid=12abc4e5-9241-4cb5-88ba-10e2a13b80d6.SGLF926KFNUSZS98.SEARCH&ppt=sp&ppn=sp&ssid=ovoy101kxs0000001634211050396&qH=2cc465e3eef5bff0',\n",
       " 'https://www.flipkart.com/idee-aviator-sunglasses/p/itmc7a3fe2c5bfea?pid=SGLG6JFNQKJZDUAZ&lid=LSTSGLG6JFNQKJZDUAZTCS9RR&marketplace=FLIPKART&q=sunglasses&store=26x&srno=s_2_44&otracker=search&otracker1=search&fm=SEARCH&iid=12abc4e5-9241-4cb5-88ba-10e2a13b80d6.SGLG6JFNQKJZDUAZ.SEARCH&ppt=sp&ppn=sp&ssid=ovoy101kxs0000001634211050396&qH=2cc465e3eef5bff0',\n",
       " 'https://www.flipkart.com/fastrack-wayfarer-sunglasses/p/itm4ffafb703dc69?pid=SGLFHBY3NHZNP2QG&lid=LSTSGLFHBY3NHZNP2QGCRX5OV&marketplace=FLIPKART&q=sunglasses&store=26x&srno=s_2_45&otracker=search&otracker1=search&fm=SEARCH&iid=12abc4e5-9241-4cb5-88ba-10e2a13b80d6.SGLFHBY3NHZNP2QG.SEARCH&ppt=sp&ppn=sp&ssid=ovoy101kxs0000001634211050396&qH=2cc465e3eef5bff0',\n",
       " 'https://www.flipkart.com/nuvew-sports-sunglasses/p/itm6386bbdad6558?pid=SGLG4YGYSZDBTAKB&lid=LSTSGLG4YGYSZDBTAKBNWP04R&marketplace=FLIPKART&q=sunglasses&store=26x&srno=s_2_46&otracker=search&otracker1=search&fm=SEARCH&iid=12abc4e5-9241-4cb5-88ba-10e2a13b80d6.SGLG4YGYSZDBTAKB.SEARCH&ppt=sp&ppn=sp&ssid=ovoy101kxs0000001634211050396&qH=2cc465e3eef5bff0',\n",
       " 'https://www.flipkart.com/singco-india-round-sunglasses/p/itm459cf9b987961?pid=SGLFHJXPKEJAZGFM&lid=LSTSGLFHJXPKEJAZGFMJGBJ5M&marketplace=FLIPKART&q=sunglasses&store=26x&srno=s_2_47&otracker=search&otracker1=search&fm=SEARCH&iid=12abc4e5-9241-4cb5-88ba-10e2a13b80d6.SGLFHJXPKEJAZGFM.SEARCH&ppt=sp&ppn=sp&ssid=ovoy101kxs0000001634211050396&qH=2cc465e3eef5bff0',\n",
       " 'https://www.flipkart.com/fastrack-wayfarer-sunglasses/p/itmf3ykr6vywh5tp?pid=SGLES2WMQBQ2GFHT&lid=LSTSGLES2WMQBQ2GFHTQTYINP&marketplace=FLIPKART&q=sunglasses&store=26x&srno=s_2_48&otracker=search&otracker1=search&fm=SEARCH&iid=12abc4e5-9241-4cb5-88ba-10e2a13b80d6.SGLES2WMQBQ2GFHT.SEARCH&ppt=sp&ppn=sp&ssid=ovoy101kxs0000001634211050396&qH=2cc465e3eef5bff0',\n",
       " 'https://www.flipkart.com/idee-wayfarer-sunglasses/p/itmaf51741f80c51?pid=SGLG6JBVQQYXRYHJ&lid=LSTSGLG6JBVQQYXRYHJB56ORL&marketplace=FLIPKART&q=sunglasses&store=26x&srno=s_2_49&otracker=search&otracker1=search&fm=SEARCH&iid=12abc4e5-9241-4cb5-88ba-10e2a13b80d6.SGLG6JBVQQYXRYHJ.SEARCH&ppt=sp&ppn=sp&ssid=ovoy101kxs0000001634211050396&qH=2cc465e3eef5bff0',\n",
       " 'https://www.flipkart.com/idee-aviator-sunglasses/p/itmfe38f020926d4?pid=SGLG6YZZN6PFH94U&lid=LSTSGLG6YZZN6PFH94US0XEHO&marketplace=FLIPKART&q=sunglasses&store=26x&srno=s_2_50&otracker=search&otracker1=search&fm=SEARCH&iid=12abc4e5-9241-4cb5-88ba-10e2a13b80d6.SGLG6YZZN6PFH94U.SEARCH&ppt=sp&ppn=sp&ssid=ovoy101kxs0000001634211050396&qH=2cc465e3eef5bff0',\n",
       " 'https://www.flipkart.com/elligator-round-sunglasses/p/itm898b54b2da721?pid=SGLFMG3YHA3YHB3B&lid=LSTSGLFMG3YHA3YHB3BRLCXLE&marketplace=FLIPKART&q=sunglasses&store=26x&srno=s_2_51&otracker=search&otracker1=search&fm=SEARCH&iid=12abc4e5-9241-4cb5-88ba-10e2a13b80d6.SGLFMG3YHA3YHB3B.SEARCH&ppt=sp&ppn=sp&ssid=ovoy101kxs0000001634211050396&qH=2cc465e3eef5bff0',\n",
       " 'https://www.flipkart.com/phenomenal-retro-square-sunglasses/p/itm1ead9ddbbb3d8?pid=SGLFUBFWNBFEAVD3&lid=LSTSGLFUBFWNBFEAVD31E0HIC&marketplace=FLIPKART&q=sunglasses&store=26x&srno=s_2_52&otracker=search&otracker1=search&fm=SEARCH&iid=12abc4e5-9241-4cb5-88ba-10e2a13b80d6.SGLFUBFWNBFEAVD3.SEARCH&ppt=sp&ppn=sp&ssid=ovoy101kxs0000001634211050396&qH=2cc465e3eef5bff0',\n",
       " 'https://www.flipkart.com/fastrack-wayfarer-sunglasses/p/itm49e515571300b?pid=SGLFG94CJAP7TYFY&lid=LSTSGLFG94CJAP7TYFYMAF3H2&marketplace=FLIPKART&q=sunglasses&store=26x&srno=s_2_53&otracker=search&otracker1=search&fm=SEARCH&iid=12abc4e5-9241-4cb5-88ba-10e2a13b80d6.SGLFG94CJAP7TYFY.SEARCH&ppt=sp&ppn=sp&ssid=ovoy101kxs0000001634211050396&qH=2cc465e3eef5bff0',\n",
       " 'https://www.flipkart.com/fastrack-aviator-sunglasses/p/itmf79dqtjk2zrkj?pid=SGLF79DQH32QQTGS&lid=LSTSGLF79DQH32QQTGSZR2EZE&marketplace=FLIPKART&q=sunglasses&store=26x&srno=s_2_54&otracker=search&otracker1=search&fm=SEARCH&iid=12abc4e5-9241-4cb5-88ba-10e2a13b80d6.SGLF79DQH32QQTGS.SEARCH&ppt=sp&ppn=sp&ssid=ovoy101kxs0000001634211050396&qH=2cc465e3eef5bff0',\n",
       " 'https://www.flipkart.com/povty-wayfarer-sunglasses/p/itmc1b53a685d5c9?pid=SGLFPEWHA3PMGGYU&lid=LSTSGLFPEWHA3PMGGYUESZMPF&marketplace=FLIPKART&q=sunglasses&store=26x&srno=s_2_55&otracker=search&otracker1=search&fm=SEARCH&iid=12abc4e5-9241-4cb5-88ba-10e2a13b80d6.SGLFPEWHA3PMGGYU.SEARCH&ppt=sp&ppn=sp&ssid=ovoy101kxs0000001634211050396&qH=2cc465e3eef5bff0',\n",
       " 'https://www.flipkart.com/wrogn-oval-sunglasses/p/itm7c7c8e9b5d0fb?pid=SGLFVHMBRHYHYURW&lid=LSTSGLFVHMBRHYHYURW1NMVCZ&marketplace=FLIPKART&q=sunglasses&store=26x&srno=s_2_56&otracker=search&otracker1=search&fm=SEARCH&iid=12abc4e5-9241-4cb5-88ba-10e2a13b80d6.SGLFVHMBRHYHYURW.SEARCH&ppt=sp&ppn=sp&ssid=ovoy101kxs0000001634211050396&qH=2cc465e3eef5bff0',\n",
       " 'https://www.flipkart.com/fastrack-round-sunglasses/p/itm1cfcd8481d426?pid=SGLFUR4VMVTP7S3E&lid=LSTSGLFUR4VMVTP7S3EEUZSSH&marketplace=FLIPKART&q=sunglasses&store=26x&srno=s_2_57&otracker=search&otracker1=search&fm=SEARCH&iid=12abc4e5-9241-4cb5-88ba-10e2a13b80d6.SGLFUR4VMVTP7S3E.SEARCH&ppt=sp&ppn=sp&ssid=ovoy101kxs0000001634211050396&qH=2cc465e3eef5bff0',\n",
       " 'https://www.flipkart.com/fastrack-wayfarer-sunglasses/p/itmf79dqhfca7q8t?pid=SGLF79DQWCWEFUNR&lid=LSTSGLF79DQWCWEFUNRB9EV8J&marketplace=FLIPKART&q=sunglasses&store=26x&srno=s_2_58&otracker=search&otracker1=search&fm=SEARCH&iid=12abc4e5-9241-4cb5-88ba-10e2a13b80d6.SGLF79DQWCWEFUNR.SEARCH&ppt=sp&ppn=sp&ssid=ovoy101kxs0000001634211050396&qH=2cc465e3eef5bff0',\n",
       " 'https://www.flipkart.com/royal-son-wayfarer-sunglasses/p/itmfgaf93tm9amaa?pid=SGLFGAYYCQWCN5FH&lid=LSTSGLFGAYYCQWCN5FHJBRXON&marketplace=FLIPKART&q=sunglasses&store=26x&srno=s_2_59&otracker=search&otracker1=search&fm=SEARCH&iid=12abc4e5-9241-4cb5-88ba-10e2a13b80d6.SGLFGAYYCQWCN5FH.SEARCH&ppt=sp&ppn=sp&ssid=ovoy101kxs0000001634211050396&qH=2cc465e3eef5bff0',\n",
       " 'https://www.flipkart.com/royal-son-aviator-sunglasses/p/itme479614d796cc?pid=SGLED3YH6AQQFTJT&lid=LSTSGLED3YH6AQQFTJTD9JARU&marketplace=FLIPKART&q=sunglasses&store=26x&srno=s_2_60&otracker=search&otracker1=search&fm=SEARCH&iid=12abc4e5-9241-4cb5-88ba-10e2a13b80d6.SGLED3YH6AQQFTJT.SEARCH&ppt=sp&ppn=sp&ssid=ovoy101kxs0000001634211050396&qH=2cc465e3eef5bff0',\n",
       " 'https://www.flipkart.com/fastrack-aviator-sunglasses/p/itm71bfd7c0bb72a?pid=SGLFKYGHRDPNJGGG&lid=LSTSGLFKYGHRDPNJGGGVIF0IZ&marketplace=FLIPKART&q=sunglasses&store=26x&srno=s_2_61&otracker=search&otracker1=search&fm=SEARCH&iid=12abc4e5-9241-4cb5-88ba-10e2a13b80d6.SGLFKYGHRDPNJGGG.SEARCH&ppt=sp&ppn=sp&ssid=ovoy101kxs0000001634211050396&qH=2cc465e3eef5bff0',\n",
       " 'https://www.flipkart.com/hipe-round-sunglasses/p/itm05dde0582be36?pid=SGLFQETNDUT4ZRPX&lid=LSTSGLFQETNDUT4ZRPXSFWXQA&marketplace=FLIPKART&q=sunglasses&store=26x&srno=s_2_62&otracker=search&otracker1=search&fm=SEARCH&iid=12abc4e5-9241-4cb5-88ba-10e2a13b80d6.SGLFQETNDUT4ZRPX.SEARCH&ppt=sp&ppn=sp&ssid=ovoy101kxs0000001634211050396&qH=2cc465e3eef5bff0',\n",
       " 'https://www.flipkart.com/united-colors-benetton-aviator-sunglasses/p/itm77de1f770fb00?pid=SGLFUQZ8EZYXUKUJ&lid=LSTSGLFUQZ8EZYXUKUJMONOU1&marketplace=FLIPKART&q=sunglasses&store=26x&srno=s_2_63&otracker=search&otracker1=search&fm=SEARCH&iid=12abc4e5-9241-4cb5-88ba-10e2a13b80d6.SGLFUQZ8EZYXUKUJ.SEARCH&ppt=sp&ppn=sp&ssid=ovoy101kxs0000001634211050396&qH=2cc465e3eef5bff0',\n",
       " 'https://www.flipkart.com/elegante-round-sunglasses/p/itmd95709ca79e87?pid=SGLFKH22YZX6MHEM&lid=LSTSGLFKH22YZX6MHEMMUQXF6&marketplace=FLIPKART&q=sunglasses&store=26x&srno=s_2_64&otracker=search&otracker1=search&fm=SEARCH&iid=12abc4e5-9241-4cb5-88ba-10e2a13b80d6.SGLFKH22YZX6MHEM.SEARCH&ppt=sp&ppn=sp&ssid=ovoy101kxs0000001634211050396&qH=2cc465e3eef5bff0',\n",
       " 'https://www.flipkart.com/gansta-wayfarer-sunglasses/p/itmf4uwfunghyyyq?pid=SGLF4UU97H3GGGTE&lid=LSTSGLF4UU97H3GGGTE2PA56S&marketplace=FLIPKART&q=sunglasses&store=26x&srno=s_2_65&otracker=search&otracker1=search&fm=SEARCH&iid=12abc4e5-9241-4cb5-88ba-10e2a13b80d6.SGLF4UU97H3GGGTE.SEARCH&ppt=sp&ppn=sp&ssid=ovoy101kxs0000001634211050396&qH=2cc465e3eef5bff0',\n",
       " 'https://www.flipkart.com/fastrack-rectangular-sunglasses/p/itm681bed66db239?pid=SGLFG94CAT9VHUWH&lid=LSTSGLFG94CAT9VHUWHJOYJFQ&marketplace=FLIPKART&q=sunglasses&store=26x&srno=s_2_66&otracker=search&otracker1=search&fm=SEARCH&iid=12abc4e5-9241-4cb5-88ba-10e2a13b80d6.SGLFG94CAT9VHUWH.SEARCH&ppt=sp&ppn=sp&ssid=ovoy101kxs0000001634211050396&qH=2cc465e3eef5bff0',\n",
       " 'https://www.flipkart.com/piraso-butterfly-sunglasses/p/itmcfb5620c8ffa0?pid=SGLFTXRFGAHRZEYG&lid=LSTSGLFTXRFGAHRZEYG1LNFS5&marketplace=FLIPKART&q=sunglasses&store=26x&srno=s_2_67&otracker=search&otracker1=search&fm=SEARCH&iid=12abc4e5-9241-4cb5-88ba-10e2a13b80d6.SGLFTXRFGAHRZEYG.SEARCH&ppt=sp&ppn=sp&ssid=ovoy101kxs0000001634211050396&qH=2cc465e3eef5bff0',\n",
       " 'https://www.flipkart.com/rozzetta-craft-rectangular-sunglasses/p/itma3addc61d1d3f?pid=SGLFSUXHJZWKYRHG&lid=LSTSGLFSUXHJZWKYRHGPARCAG&marketplace=FLIPKART&q=sunglasses&store=26x&srno=s_2_68&otracker=search&otracker1=search&fm=SEARCH&iid=12abc4e5-9241-4cb5-88ba-10e2a13b80d6.SGLFSUXHJZWKYRHG.SEARCH&ppt=sp&ppn=sp&ssid=ovoy101kxs0000001634211050396&qH=2cc465e3eef5bff0',\n",
       " 'https://www.flipkart.com/fastrack-sports-sunglasses/p/itm96f2e39ea963b?pid=SGLF79DPDUUZSC2E&lid=LSTSGLF79DPDUUZSC2ELCU1X2&marketplace=FLIPKART&q=sunglasses&store=26x&srno=s_2_69&otracker=search&otracker1=search&fm=SEARCH&iid=12abc4e5-9241-4cb5-88ba-10e2a13b80d6.SGLF79DPDUUZSC2E.SEARCH&ppt=sp&ppn=sp&ssid=ovoy101kxs0000001634211050396&qH=2cc465e3eef5bff0',\n",
       " 'https://www.flipkart.com/hippon-wayfarer-sunglasses/p/itm05550ccebbf7b?pid=SGLFHPMMVHHGWKNG&lid=LSTSGLFHPMMVHHGWKNG1S9QVG&marketplace=FLIPKART&q=sunglasses&store=26x&srno=s_2_70&otracker=search&otracker1=search&fm=SEARCH&iid=12abc4e5-9241-4cb5-88ba-10e2a13b80d6.SGLFHPMMVHHGWKNG.SEARCH&ppt=sp&ppn=sp&ssid=ovoy101kxs0000001634211050396&qH=2cc465e3eef5bff0',\n",
       " 'https://www.flipkart.com/fastrack-wayfarer-sunglasses/p/itm7b47d05062f5f?pid=SGLFG94CMSMFCMPH&lid=LSTSGLFG94CMSMFCMPHNDEZ9C&marketplace=FLIPKART&q=sunglasses&store=26x&srno=s_2_71&otracker=search&otracker1=search&fm=SEARCH&iid=12abc4e5-9241-4cb5-88ba-10e2a13b80d6.SGLFG94CMSMFCMPH.SEARCH&ppt=sp&ppn=sp&ssid=ovoy101kxs0000001634211050396&qH=2cc465e3eef5bff0',\n",
       " 'https://www.flipkart.com/phenomenal-retro-square-sunglasses/p/itm1b6415f32e11d?pid=SGLFMEFJGAVYE9W4&lid=LSTSGLFMEFJGAVYE9W4F3EHOT&marketplace=FLIPKART&q=sunglasses&store=26x&srno=s_2_72&otracker=search&otracker1=search&fm=SEARCH&iid=12abc4e5-9241-4cb5-88ba-10e2a13b80d6.SGLFMEFJGAVYE9W4.SEARCH&ppt=sp&ppn=sp&ssid=ovoy101kxs0000001634211050396&qH=2cc465e3eef5bff0',\n",
       " 'https://www.flipkart.com/fastrack-wayfarer-sunglasses/p/itmf3yhagpqcsmsy?pid=SGLFGWPN4CBGCVC5&lid=LSTSGLFGWPN4CBGCVC5KTIGN6&marketplace=FLIPKART&q=sunglasses&store=26x&srno=s_2_73&otracker=search&otracker1=search&fm=SEARCH&iid=12abc4e5-9241-4cb5-88ba-10e2a13b80d6.SGLFGWPN4CBGCVC5.SEARCH&ppt=sp&ppn=sp&ssid=ovoy101kxs0000001634211050396&qH=2cc465e3eef5bff0',\n",
       " 'https://www.flipkart.com/idee-wayfarer-sunglasses/p/itm96a727c81981b?pid=SGLG6YZZZK8WHEP9&lid=LSTSGLG6YZZZK8WHEP982CAQO&marketplace=FLIPKART&q=sunglasses&store=26x&srno=s_2_74&otracker=search&otracker1=search&fm=SEARCH&iid=12abc4e5-9241-4cb5-88ba-10e2a13b80d6.SGLG6YZZZK8WHEP9.SEARCH&ppt=sp&ppn=sp&ssid=ovoy101kxs0000001634211050396&qH=2cc465e3eef5bff0',\n",
       " 'https://www.flipkart.com/hipe-aviator-sunglasses/p/itm33a43d44704ea?pid=SGLFY7UFDQ3WKZYG&lid=LSTSGLFY7UFDQ3WKZYGIOVRC2&marketplace=FLIPKART&q=sunglasses&store=26x&srno=s_2_75&otracker=search&otracker1=search&fm=SEARCH&iid=12abc4e5-9241-4cb5-88ba-10e2a13b80d6.SGLFY7UFDQ3WKZYG.SEARCH&ppt=sp&ppn=sp&ssid=ovoy101kxs0000001634211050396&qH=2cc465e3eef5bff0',\n",
       " 'https://www.flipkart.com/fastrack-oval-sunglasses/p/itmf7h5mmhvuzaqg?pid=SGLF4TR3ZHXWFANJ&lid=LSTSGLF4TR3ZHXWFANJ6ODUC4&marketplace=FLIPKART&q=sunglasses&store=26x&srno=s_2_76&otracker=search&otracker1=search&fm=SEARCH&iid=12abc4e5-9241-4cb5-88ba-10e2a13b80d6.SGLF4TR3ZHXWFANJ.SEARCH&ppt=sp&ppn=sp&ssid=ovoy101kxs0000001634211050396&qH=2cc465e3eef5bff0',\n",
       " 'https://www.flipkart.com/united-colors-benetton-round-sunglasses/p/itm086abb8829308?pid=SGLFUQZ8M3AFVRQB&lid=LSTSGLFUQZ8M3AFVRQBI0CQ6D&marketplace=FLIPKART&q=sunglasses&store=26x&srno=s_2_77&otracker=search&otracker1=search&fm=SEARCH&iid=12abc4e5-9241-4cb5-88ba-10e2a13b80d6.SGLFUQZ8M3AFVRQB.SEARCH&ppt=sp&ppn=sp&ssid=ovoy101kxs0000001634211050396&qH=2cc465e3eef5bff0',\n",
       " 'https://www.flipkart.com/fastrack-wayfarer-sunglasses/p/itmf8a68vrn22d6d?pid=SGLF8A689P4JGV83&lid=LSTSGLF8A689P4JGV83P0NNWC&marketplace=FLIPKART&q=sunglasses&store=26x&srno=s_2_78&otracker=search&otracker1=search&fm=SEARCH&iid=12abc4e5-9241-4cb5-88ba-10e2a13b80d6.SGLF8A689P4JGV83.SEARCH&ppt=sp&ppn=sp&ssid=ovoy101kxs0000001634211050396&qH=2cc465e3eef5bff0',\n",
       " 'https://www.flipkart.com/wrogn-wayfarer-sunglasses/p/itmf9027f210f437?pid=SGLFVHMBFP9AVXYA&lid=LSTSGLFVHMBFP9AVXYAVXMOHZ&marketplace=FLIPKART&q=sunglasses&store=26x&srno=s_2_79&otracker=search&otracker1=search&fm=SEARCH&iid=12abc4e5-9241-4cb5-88ba-10e2a13b80d6.SGLFVHMBFP9AVXYA.SEARCH&ppt=sp&ppn=sp&ssid=ovoy101kxs0000001634211050396&qH=2cc465e3eef5bff0',\n",
       " 'https://www.flipkart.com/new-specs-rectangular-sunglasses/p/itm3352185f65881?pid=SGLG2ES3AGZX3KG8&lid=LSTSGLG2ES3AGZX3KG8DFEPLG&marketplace=FLIPKART&q=sunglasses&store=26x&srno=s_2_80&otracker=search&otracker1=search&fm=SEARCH&iid=12abc4e5-9241-4cb5-88ba-10e2a13b80d6.SGLG2ES3AGZX3KG8.SEARCH&ppt=sp&ppn=sp&ssid=ovoy101kxs0000001634211050396&qH=2cc465e3eef5bff0',\n",
       " 'https://www.flipkart.com/fastrack-wayfarer-sunglasses/p/itmf79dqjqucq9f3?pid=SGLF79DQR8NQAT2W&lid=LSTSGLF79DQR8NQAT2W0MLSHN&marketplace=FLIPKART&q=sunglasses&store=26x&spotlightTagId=BestsellerId_26x&srno=s_1_1&otracker=search&otracker1=search&fm=SEARCH&iid=78286f1c-1bbc-49a4-b400-372365c7cf02.SGLF79DQR8NQAT2W.SEARCH&ppt=sp&ppn=sp&ssid=ovoy101kxs0000001634211050396&qH=2cc465e3eef5bff0',\n",
       " 'https://www.flipkart.com/piraso-aviator-sunglasses/p/itm70504d13b7992?pid=SGLFV8YYCEA8RWAC&lid=LSTSGLFV8YYCEA8RWACIACICJ&marketplace=FLIPKART&q=sunglasses&store=26x&srno=s_1_2&otracker=search&otracker1=search&fm=SEARCH&iid=78286f1c-1bbc-49a4-b400-372365c7cf02.SGLFV8YYCEA8RWAC.SEARCH&ppt=sp&ppn=sp&ssid=ovoy101kxs0000001634211050396&qH=2cc465e3eef5bff0',\n",
       " 'https://www.flipkart.com/piraso-aviator-sunglasses/p/itma9ed6fe9b3b86?pid=SGLFZJQUNAHYUCAS&lid=LSTSGLFZJQUNAHYUCASKDXKTE&marketplace=FLIPKART&q=sunglasses&store=26x&srno=s_1_3&otracker=search&otracker1=search&fm=SEARCH&iid=78286f1c-1bbc-49a4-b400-372365c7cf02.SGLFZJQUNAHYUCAS.SEARCH&ppt=sp&ppn=sp&ssid=ovoy101kxs0000001634211050396&qH=2cc465e3eef5bff0',\n",
       " 'https://www.flipkart.com/elligator-round-sunglasses/p/itm3c981fc444358?pid=SGLFPHP5BVBJTCDB&lid=LSTSGLFPHP5BVBJTCDB7P4T6G&marketplace=FLIPKART&q=sunglasses&store=26x&srno=s_1_4&otracker=search&otracker1=search&fm=SEARCH&iid=78286f1c-1bbc-49a4-b400-372365c7cf02.SGLFPHP5BVBJTCDB.SEARCH&ppt=sp&ppn=sp&ssid=ovoy101kxs0000001634211050396&qH=2cc465e3eef5bff0',\n",
       " 'https://www.flipkart.com/fastrack-wayfarer-sunglasses/p/itm04d9621b98c78?pid=SGLFG94C8PAHZ3SH&lid=LSTSGLFG94C8PAHZ3SHAFCJXO&marketplace=FLIPKART&q=sunglasses&store=26x&srno=s_1_5&otracker=search&otracker1=search&fm=SEARCH&iid=78286f1c-1bbc-49a4-b400-372365c7cf02.SGLFG94C8PAHZ3SH.SEARCH&ppt=sp&ppn=sp&ssid=ovoy101kxs0000001634211050396&qH=2cc465e3eef5bff0',\n",
       " 'https://www.flipkart.com/shaah-collections-rectangular-sunglasses/p/itm201340b1c3e13?pid=SGLFXWGV5TGFFSPX&lid=LSTSGLFXWGV5TGFFSPXSORUG9&marketplace=FLIPKART&q=sunglasses&store=26x&srno=s_1_6&otracker=search&otracker1=search&fm=SEARCH&iid=78286f1c-1bbc-49a4-b400-372365c7cf02.SGLFXWGV5TGFFSPX.SEARCH&ppt=sp&ppn=sp&ssid=ovoy101kxs0000001634211050396&qH=2cc465e3eef5bff0',\n",
       " 'https://www.flipkart.com/fastrack-shield-sunglasses/p/itmf79dqdqcf4s4c?pid=SGLF79DPUDKZG4WB&lid=LSTSGLF79DPUDKZG4WB0C8PPM&marketplace=FLIPKART&q=sunglasses&store=26x&srno=s_1_7&otracker=search&otracker1=search&fm=SEARCH&iid=78286f1c-1bbc-49a4-b400-372365c7cf02.SGLF79DPUDKZG4WB.SEARCH&ppt=sp&ppn=sp&ssid=ovoy101kxs0000001634211050396&qH=2cc465e3eef5bff0',\n",
       " 'https://www.flipkart.com/piraso-aviator-sunglasses/p/itm4210bb67b2728?pid=SGLFPFD7WRNASWSV&lid=LSTSGLFPFD7WRNASWSVJLGDDX&marketplace=FLIPKART&q=sunglasses&store=26x&srno=s_1_8&otracker=search&otracker1=search&fm=SEARCH&iid=78286f1c-1bbc-49a4-b400-372365c7cf02.SGLFPFD7WRNASWSV.SEARCH&ppt=sp&ppn=sp&ssid=ovoy101kxs0000001634211050396&qH=2cc465e3eef5bff0',\n",
       " 'https://www.flipkart.com/fastrack-wayfarer-sunglasses/p/itmf79dqxyft72kh?pid=SGLF79DQWYPMFYVY&lid=LSTSGLF79DQWYPMFYVYGNZHDZ&marketplace=FLIPKART&q=sunglasses&store=26x&srno=s_1_9&otracker=search&otracker1=search&fm=SEARCH&iid=78286f1c-1bbc-49a4-b400-372365c7cf02.SGLF79DQWYPMFYVY.SEARCH&ppt=sp&ppn=sp&ssid=ovoy101kxs0000001634211050396&qH=2cc465e3eef5bff0',\n",
       " 'https://www.flipkart.com/new-specs-round-sunglasses/p/itm02fdce83770d3?pid=SGLFTDG2NSHTKBFF&lid=LSTSGLFTDG2NSHTKBFFSE7DI7&marketplace=FLIPKART&q=sunglasses&store=26x&srno=s_1_10&otracker=search&otracker1=search&fm=SEARCH&iid=78286f1c-1bbc-49a4-b400-372365c7cf02.SGLFTDG2NSHTKBFF.SEARCH&ppt=sp&ppn=sp&ssid=ovoy101kxs0000001634211050396&qH=2cc465e3eef5bff0',\n",
       " 'https://www.flipkart.com/rozzetta-craft-retro-square-sunglasses/p/itmf248ba5b3a895?pid=SGLFZFZNAQNZHYB7&lid=LSTSGLFZFZNAQNZHYB7GZ3YO5&marketplace=FLIPKART&q=sunglasses&store=26x&srno=s_1_11&otracker=search&otracker1=search&fm=SEARCH&iid=78286f1c-1bbc-49a4-b400-372365c7cf02.SGLFZFZNAQNZHYB7.SEARCH&ppt=sp&ppn=sp&ssid=ovoy101kxs0000001634211050396&qH=2cc465e3eef5bff0',\n",
       " 'https://www.flipkart.com/fastrack-wayfarer-sunglasses/p/itma9864babc060c?pid=SGLFG94CV3EVXTZE&lid=LSTSGLFG94CV3EVXTZEPQ88ZR&marketplace=FLIPKART&q=sunglasses&store=26x&srno=s_1_12&otracker=search&otracker1=search&fm=SEARCH&iid=78286f1c-1bbc-49a4-b400-372365c7cf02.SGLFG94CV3EVXTZE.SEARCH&ppt=sp&ppn=sp&ssid=ovoy101kxs0000001634211050396&qH=2cc465e3eef5bff0',\n",
       " 'https://www.flipkart.com/fastrack-aviator-sunglasses/p/itmf79dqewt9sf6d?pid=SGLF79DQGP7E4G2P&lid=LSTSGLF79DQGP7E4G2PYP2PGG&marketplace=FLIPKART&q=sunglasses&store=26x&srno=s_1_13&otracker=search&otracker1=search&fm=SEARCH&iid=78286f1c-1bbc-49a4-b400-372365c7cf02.SGLF79DQGP7E4G2P.SEARCH&ppt=sp&ppn=sp&ssid=ovoy101kxs0000001634211050396&qH=2cc465e3eef5bff0',\n",
       " 'https://www.flipkart.com/singco-india-aviator-wayfarer-sunglasses/p/itmf5b6c6e88f44a?pid=SGLFF9BTZUQZGZ3H&lid=LSTSGLFF9BTZUQZGZ3HMQDMDM&marketplace=FLIPKART&q=sunglasses&store=26x&srno=s_1_14&otracker=search&otracker1=search&fm=SEARCH&iid=78286f1c-1bbc-49a4-b400-372365c7cf02.SGLFF9BTZUQZGZ3H.SEARCH&ppt=sp&ppn=sp&ssid=ovoy101kxs0000001634211050396&qH=2cc465e3eef5bff0',\n",
       " 'https://www.flipkart.com/fastrack-wayfarer-sunglasses/p/itm2d3730b4b7d31?pid=SGLFG94CQZ4AYS2F&lid=LSTSGLFG94CQZ4AYS2FQ3AXTH&marketplace=FLIPKART&q=sunglasses&store=26x&srno=s_1_15&otracker=search&otracker1=search&fm=SEARCH&iid=78286f1c-1bbc-49a4-b400-372365c7cf02.SGLFG94CQZ4AYS2F.SEARCH&ppt=sp&ppn=sp&ssid=ovoy101kxs0000001634211050396&qH=2cc465e3eef5bff0',\n",
       " 'https://www.flipkart.com/kingsunglasses-wayfarer-sunglasses/p/itm9c7287be7c247?pid=SGLG2ZY9UERPGCZX&lid=LSTSGLG2ZY9UERPGCZXOWQRMA&marketplace=FLIPKART&q=sunglasses&store=26x&srno=s_1_16&otracker=search&otracker1=search&fm=SEARCH&iid=78286f1c-1bbc-49a4-b400-372365c7cf02.SGLG2ZY9UERPGCZX.SEARCH&ppt=sp&ppn=sp&ssid=ovoy101kxs0000001634211050396&qH=2cc465e3eef5bff0',\n",
       " 'https://www.flipkart.com/elligator-round-sunglasses/p/itmfbbhpfxzvdhjf?pid=SGLFBB8BZZKGDTMV&lid=LSTSGLFBB8BZZKGDTMVLSTL3V&marketplace=FLIPKART&q=sunglasses&store=26x&srno=s_1_17&otracker=search&otracker1=search&fm=SEARCH&iid=78286f1c-1bbc-49a4-b400-372365c7cf02.SGLFBB8BZZKGDTMV.SEARCH&ppt=sp&ppn=sp&ssid=ovoy101kxs0000001634211050396&qH=2cc465e3eef5bff0',\n",
       " 'https://www.flipkart.com/nuvew-sports-sunglasses/p/itm04003d2d64e06?pid=SGLFKJW7TU7YWZFU&lid=LSTSGLFKJW7TU7YWZFUZBVGQU&marketplace=FLIPKART&q=sunglasses&store=26x&srno=s_1_18&otracker=search&otracker1=search&fm=SEARCH&iid=78286f1c-1bbc-49a4-b400-372365c7cf02.SGLFKJW7TU7YWZFU.SEARCH&ppt=sp&ppn=sp&ssid=ovoy101kxs0000001634211050396&qH=2cc465e3eef5bff0',\n",
       " 'https://www.flipkart.com/fastrack-rectangular-sunglasses/p/itm3c6e13efc17e0?pid=SGLES2WMF6CH5GYF&lid=LSTSGLES2WMF6CH5GYFXRVSZN&marketplace=FLIPKART&q=sunglasses&store=26x&srno=s_1_19&otracker=search&otracker1=search&fm=SEARCH&iid=78286f1c-1bbc-49a4-b400-372365c7cf02.SGLES2WMF6CH5GYF.SEARCH&ppt=sp&ppn=sp&ssid=ovoy101kxs0000001634211050396&qH=2cc465e3eef5bff0',\n",
       " 'https://www.flipkart.com/rich-club-round-sunglasses/p/itmfavty8qfhacxx?pid=SGLFAVKTVBUFNG5Q&lid=LSTSGLFAVKTVBUFNG5QVTPHUI&marketplace=FLIPKART&q=sunglasses&store=26x&srno=s_1_20&otracker=search&otracker1=search&fm=SEARCH&iid=78286f1c-1bbc-49a4-b400-372365c7cf02.SGLFAVKTVBUFNG5Q.SEARCH&ppt=sp&ppn=sp&ssid=ovoy101kxs0000001634211050396&qH=2cc465e3eef5bff0']"
      ]
     },
     "execution_count": 5,
     "metadata": {},
     "output_type": "execute_result"
    }
   ],
   "source": [
    "URL[:100]"
   ]
  },
  {
   "cell_type": "code",
   "execution_count": 9,
   "metadata": {},
   "outputs": [],
   "source": [
    "for i in URL[:100]:\n",
    "    driver.get(i)\n",
    "    try:\n",
    "        brand=driver.find_element_by_xpath(\"//span[@class='G6XhRU']\").text\n",
    "        Brand.append(brand)\n",
    "        description=driver.find_element_by_xpath(\"//span[@class='B_NuCI']\").text\n",
    "        Product_Description.append(description)\n",
    "        price=driver.find_element_by_xpath(\"//div[@class='_30jeq3 _16Jk6d']\").text\n",
    "        Price.append(price)\n",
    "        discount=driver.find_element_by_xpath(\"//div[@class='_3Ay6Sb _31Dcoz pZkvcx']/span\").text\n",
    "        Discount.append(discount)\n",
    "    except NoSuchElementException:\n",
    "        Brand.append(\"NaN\")\n",
    "        Product_Description.append(\"NaN\")\n",
    "        Price.append(\"NaN\")\n",
    "        Discount.append('NaN')"
   ]
  },
  {
   "cell_type": "markdown",
   "metadata": {},
   "source": [
    "#### 100 Sunglasses from Flipkart"
   ]
  },
  {
   "cell_type": "code",
   "execution_count": 11,
   "metadata": {},
   "outputs": [],
   "source": [
    "Sunglasses=pd.DataFrame({})\n",
    "Sunglasses['Brand']=Brand[:100]\n",
    "Sunglasses['Product_Description']=Product_Description[:100]\n",
    "Sunglasses['Price']=Price[:100]\n",
    "Sunglasses['Discount']=Discount[:100]"
   ]
  },
  {
   "cell_type": "code",
   "execution_count": 12,
   "metadata": {},
   "outputs": [
    {
     "data": {
      "text/html": [
       "<div>\n",
       "<style scoped>\n",
       "    .dataframe tbody tr th:only-of-type {\n",
       "        vertical-align: middle;\n",
       "    }\n",
       "\n",
       "    .dataframe tbody tr th {\n",
       "        vertical-align: top;\n",
       "    }\n",
       "\n",
       "    .dataframe thead th {\n",
       "        text-align: right;\n",
       "    }\n",
       "</style>\n",
       "<table border=\"1\" class=\"dataframe\">\n",
       "  <thead>\n",
       "    <tr style=\"text-align: right;\">\n",
       "      <th></th>\n",
       "      <th>Brand</th>\n",
       "      <th>Product_Description</th>\n",
       "      <th>Price</th>\n",
       "      <th>Discount</th>\n",
       "    </tr>\n",
       "  </thead>\n",
       "  <tbody>\n",
       "    <tr>\n",
       "      <th>0</th>\n",
       "      <td>Fastrack</td>\n",
       "      <td>UV Protection Wayfarer Sunglasses (Free Size) ...</td>\n",
       "      <td>₹758</td>\n",
       "      <td>15% off</td>\n",
       "    </tr>\n",
       "    <tr>\n",
       "      <th>1</th>\n",
       "      <td>PIRASO</td>\n",
       "      <td>UV Protection Aviator Sunglasses (54)  (For Me...</td>\n",
       "      <td>₹200</td>\n",
       "      <td>87% off</td>\n",
       "    </tr>\n",
       "    <tr>\n",
       "      <th>2</th>\n",
       "      <td>PIRASO</td>\n",
       "      <td>UV Protection Aviator Sunglasses (54)  (For Me...</td>\n",
       "      <td>₹200</td>\n",
       "      <td>87% off</td>\n",
       "    </tr>\n",
       "    <tr>\n",
       "      <th>3</th>\n",
       "      <td>Elligator</td>\n",
       "      <td>UV Protection Round Sunglasses (54)  (For Men ...</td>\n",
       "      <td>₹295</td>\n",
       "      <td>88% off</td>\n",
       "    </tr>\n",
       "    <tr>\n",
       "      <th>4</th>\n",
       "      <td>Fastrack</td>\n",
       "      <td>Gradient, UV Protection Wayfarer Sunglasses (F...</td>\n",
       "      <td>₹509</td>\n",
       "      <td>36% off</td>\n",
       "    </tr>\n",
       "    <tr>\n",
       "      <th>...</th>\n",
       "      <td>...</td>\n",
       "      <td>...</td>\n",
       "      <td>...</td>\n",
       "      <td>...</td>\n",
       "    </tr>\n",
       "    <tr>\n",
       "      <th>95</th>\n",
       "      <td>Fastrack</td>\n",
       "      <td>Mirrored, UV Protection Wayfarer Sunglasses (F...</td>\n",
       "      <td>₹738</td>\n",
       "      <td>89% off</td>\n",
       "    </tr>\n",
       "    <tr>\n",
       "      <th>96</th>\n",
       "      <td>Fastrack</td>\n",
       "      <td>UV Protection Aviator Sunglasses (Free Size)  ...</td>\n",
       "      <td>₹689</td>\n",
       "      <td>86% off</td>\n",
       "    </tr>\n",
       "    <tr>\n",
       "      <th>97</th>\n",
       "      <td>Singco India</td>\n",
       "      <td>UV Protection, Riding Glasses, Others Aviator,...</td>\n",
       "      <td>₹229</td>\n",
       "      <td>65% off</td>\n",
       "    </tr>\n",
       "    <tr>\n",
       "      <th>98</th>\n",
       "      <td>Fastrack</td>\n",
       "      <td>Gradient, UV Protection Wayfarer Sunglasses (F...</td>\n",
       "      <td>₹652</td>\n",
       "      <td>35% off</td>\n",
       "    </tr>\n",
       "    <tr>\n",
       "      <th>99</th>\n",
       "      <td>kingsunglasses</td>\n",
       "      <td>Mirrored, UV Protection Wayfarer Sunglasses (F...</td>\n",
       "      <td>₹284</td>\n",
       "      <td>60% off</td>\n",
       "    </tr>\n",
       "  </tbody>\n",
       "</table>\n",
       "<p>100 rows × 4 columns</p>\n",
       "</div>"
      ],
      "text/plain": [
       "              Brand                                Product_Description Price  \\\n",
       "0         Fastrack   UV Protection Wayfarer Sunglasses (Free Size) ...  ₹758   \n",
       "1           PIRASO   UV Protection Aviator Sunglasses (54)  (For Me...  ₹200   \n",
       "2           PIRASO   UV Protection Aviator Sunglasses (54)  (For Me...  ₹200   \n",
       "3        Elligator   UV Protection Round Sunglasses (54)  (For Men ...  ₹295   \n",
       "4         Fastrack   Gradient, UV Protection Wayfarer Sunglasses (F...  ₹509   \n",
       "..              ...                                                ...   ...   \n",
       "95        Fastrack   Mirrored, UV Protection Wayfarer Sunglasses (F...  ₹738   \n",
       "96        Fastrack   UV Protection Aviator Sunglasses (Free Size)  ...  ₹689   \n",
       "97    Singco India   UV Protection, Riding Glasses, Others Aviator,...  ₹229   \n",
       "98        Fastrack   Gradient, UV Protection Wayfarer Sunglasses (F...  ₹652   \n",
       "99  kingsunglasses   Mirrored, UV Protection Wayfarer Sunglasses (F...  ₹284   \n",
       "\n",
       "   Discount  \n",
       "0   15% off  \n",
       "1   87% off  \n",
       "2   87% off  \n",
       "3   88% off  \n",
       "4   36% off  \n",
       "..      ...  \n",
       "95  89% off  \n",
       "96  86% off  \n",
       "97  65% off  \n",
       "98  35% off  \n",
       "99  60% off  \n",
       "\n",
       "[100 rows x 4 columns]"
      ]
     },
     "execution_count": 12,
     "metadata": {},
     "output_type": "execute_result"
    }
   ],
   "source": [
    "Sunglasses"
   ]
  },
  {
   "cell_type": "markdown",
   "metadata": {},
   "source": [
    "## Q7: Scrape 100 reviews data from flipkart.com for iphone11 phone. \n",
    "You have to go the link: https://www.flipkart.com/apple-iphone-11-black-64-gb-includes-earpods-power-adapter/p/itm0f37c2240b217?pid=MOBFKCTSVZAXUHGR&lid=LSTMOBFKCTSVZAXUHGREPBFGI&marketplace.\n",
    "\n",
    "When you will open the above link you will reach to the below shown webpage. As shown in the above page you have to scrape the tick marked attributes.\n",
    "These are\n",
    "1. Rating\n",
    "2. Review_summary\n",
    "3. Full review\n",
    "\n",
    "You have to scrape this data for first 100 reviews."
   ]
  },
  {
   "cell_type": "code",
   "execution_count": 50,
   "metadata": {},
   "outputs": [],
   "source": [
    "import selenium\n",
    "import pandas as pd\n",
    "from selenium import webdriver\n",
    "import time\n",
    "from selenium.common.exceptions import NoSuchElementException\n",
    "\n",
    "# connecting Webdriver\n",
    "driver = webdriver.Chrome(r'C:\\chromedriver.exe')\n",
    "driver\n",
    "\n",
    "# Opening naukri.com\n",
    "url ='https://www.flipkart.com/apple-iphone-11-black-64-gb-includes-earpods-power-adapter/p/itm0f37c2240b217?pid=MOBFKCTSVZAXUHGR&lid=LSTMOBFKCTSVZAXUHGREPBFGI&marketplace'\n",
    "driver.get(url)"
   ]
  },
  {
   "cell_type": "code",
   "execution_count": 51,
   "metadata": {},
   "outputs": [],
   "source": [
    "driver.find_element_by_xpath('//div[@class=\"_3UAT2v _16PBlm\"]/span').click()"
   ]
  },
  {
   "cell_type": "markdown",
   "metadata": {},
   "source": [
    "#### Scraping Data"
   ]
  },
  {
   "cell_type": "code",
   "execution_count": 54,
   "metadata": {},
   "outputs": [],
   "source": [
    "from selenium.common.exceptions import StaleElementReferenceException\n",
    "#creating empty lists\n",
    "Rating=[]\n",
    "Review_summary=[]\n",
    "Full_review=[]"
   ]
  },
  {
   "cell_type": "code",
   "execution_count": 55,
   "metadata": {},
   "outputs": [
    {
     "name": "stdout",
     "output_type": "stream",
     "text": [
      "20\n",
      "30\n",
      "40\n",
      "50\n",
      "60\n",
      "70\n",
      "80\n",
      "90\n",
      "100\n",
      "110\n",
      "120\n"
     ]
    }
   ],
   "source": [
    "for page in range(1,12):\n",
    "        \n",
    "    rat = driver.find_elements_by_xpath('//div[@class=\"_3LWZlK _1BLPMq\"]')\n",
    "    rev = driver.find_elements_by_xpath('//p[@class=\"_2-N8zT\"]')\n",
    "    frev = driver.find_elements_by_xpath('//div[@class=\"t-ZTKy\"]')\n",
    "\n",
    "    for k in rat:\n",
    "        rating.append(k.text)\n",
    "\n",
    "    for i in rev:\n",
    "        review_summary.append(i.text)\n",
    "\n",
    "    for j in frev:\n",
    "        full_review.append(j.text)\n",
    "    time.sleep(3)\n",
    "\n",
    "    print(len(review_summary))\n",
    "    \n",
    "    nxt_page = driver.find_elements_by_xpath('//a[@class=\"_1LKTO3\"]')\n",
    "    try:\n",
    "        driver.get(nxt_page[1].get_attribute('href'))\n",
    "    except:\n",
    "        driver.get(nxt_page[0].get_attribute('href'))"
   ]
  },
  {
   "cell_type": "code",
   "execution_count": 169,
   "metadata": {},
   "outputs": [
    {
     "name": "stdout",
     "output_type": "stream",
     "text": [
      "\u001b[1mIphone 11 Reviews from Flipkart :\u001b[0m\n"
     ]
    }
   ],
   "source": [
    "print('\\033[1m'+'Iphone 11 Reviews from Flipkart :'+'\\033[0m')"
   ]
  },
  {
   "cell_type": "code",
   "execution_count": 60,
   "metadata": {},
   "outputs": [
    {
     "data": {
      "text/html": [
       "<div>\n",
       "<style scoped>\n",
       "    .dataframe tbody tr th:only-of-type {\n",
       "        vertical-align: middle;\n",
       "    }\n",
       "\n",
       "    .dataframe tbody tr th {\n",
       "        vertical-align: top;\n",
       "    }\n",
       "\n",
       "    .dataframe thead th {\n",
       "        text-align: right;\n",
       "    }\n",
       "</style>\n",
       "<table border=\"1\" class=\"dataframe\">\n",
       "  <thead>\n",
       "    <tr style=\"text-align: right;\">\n",
       "      <th></th>\n",
       "      <th>Rating</th>\n",
       "      <th>Review Summary</th>\n",
       "      <th>Full Review</th>\n",
       "    </tr>\n",
       "  </thead>\n",
       "  <tbody>\n",
       "    <tr>\n",
       "      <th>95</th>\n",
       "      <td>3</td>\n",
       "      <td>Terrific purchase</td>\n",
       "      <td>I use a Note10+ and have been using both iOS a...</td>\n",
       "    </tr>\n",
       "    <tr>\n",
       "      <th>96</th>\n",
       "      <td>5</td>\n",
       "      <td>Awesome</td>\n",
       "      <td>The phone is completely good\\nAs far as camera...</td>\n",
       "    </tr>\n",
       "    <tr>\n",
       "      <th>97</th>\n",
       "      <td>5</td>\n",
       "      <td>Decent product</td>\n",
       "      <td>Everything u ll like it when u use this iPhone...</td>\n",
       "    </tr>\n",
       "    <tr>\n",
       "      <th>98</th>\n",
       "      <td>5</td>\n",
       "      <td>Awesome</td>\n",
       "      <td>Can’t beat the software and hardware integrati...</td>\n",
       "    </tr>\n",
       "    <tr>\n",
       "      <th>99</th>\n",
       "      <td>5</td>\n",
       "      <td>Brilliant</td>\n",
       "      <td>A wort full value for money decision it’s . Si...</td>\n",
       "    </tr>\n",
       "  </tbody>\n",
       "</table>\n",
       "</div>"
      ],
      "text/plain": [
       "   Rating     Review Summary  \\\n",
       "95      3  Terrific purchase   \n",
       "96      5            Awesome   \n",
       "97      5     Decent product   \n",
       "98      5            Awesome   \n",
       "99      5          Brilliant   \n",
       "\n",
       "                                          Full Review  \n",
       "95  I use a Note10+ and have been using both iOS a...  \n",
       "96  The phone is completely good\\nAs far as camera...  \n",
       "97  Everything u ll like it when u use this iPhone...  \n",
       "98  Can’t beat the software and hardware integrati...  \n",
       "99  A wort full value for money decision it’s . Si...  "
      ]
     },
     "execution_count": 60,
     "metadata": {},
     "output_type": "execute_result"
    }
   ],
   "source": [
    "Review_Iphone11= pd.DataFrame({})\n",
    "Review_Iphone11['Rating'] = rating[:100]\n",
    "Review_Iphone11['Review Summary'] = review_summary[:100] \n",
    "Review_Iphone11['Full Review'] = full_review[:100]\n",
    "Review_Iphone11.tail()"
   ]
  },
  {
   "cell_type": "markdown",
   "metadata": {},
   "source": [
    "## Q8: Scrape data for first 100 sneakers you find when you visit flipkart.com and search for “sneakers” in the search field.\n",
    "You have to scrape 4 attributes of each sneaker :\n",
    "\n",
    "1. Brand\n",
    "2. Product Description\n",
    "3. Price\n",
    "4. discount %\n",
    "\n",
    "As shown in the below image, you have to scrape the tick marked attributes.Also note that all the steps required during scraping should be done through code only and not manually."
   ]
  },
  {
   "cell_type": "code",
   "execution_count": 68,
   "metadata": {},
   "outputs": [],
   "source": [
    "import selenium\n",
    "import pandas as pd\n",
    "from selenium import webdriver\n",
    "import time\n",
    "from selenium.common.exceptions import NoSuchElementException\n",
    "\n",
    "# connecting Webdriver\n",
    "driver = webdriver.Chrome(r'C:\\chromedriver.exe')\n",
    "driver\n",
    "\n",
    "# Opening naukri.com\n",
    "url ='https://www.flipkart.com/'\n",
    "driver.get(url)"
   ]
  },
  {
   "cell_type": "code",
   "execution_count": 69,
   "metadata": {},
   "outputs": [],
   "source": [
    "driver.find_element_by_xpath('//div[@class=\"_3OO5Xc\"]/input').send_keys('sneakers')\n",
    "driver.find_element_by_xpath('//button[@class=\"L0Z3Pu\"]').click()"
   ]
  },
  {
   "cell_type": "code",
   "execution_count": 168,
   "metadata": {},
   "outputs": [],
   "source": [
    "#creating the empty lists\n",
    "Brand=[]\n",
    "Product_Description=[]\n",
    "Price=[]\n",
    "Discount=[]"
   ]
  },
  {
   "cell_type": "code",
   "execution_count": 71,
   "metadata": {},
   "outputs": [],
   "source": [
    "#getting the list of url of first 100 sneakers\n",
    "URL=[]\n",
    "for i in range(0,4):\n",
    "    sneakers=driver.find_elements_by_xpath(\"//a[@class='IRpwTa']\")\n",
    "    for i in sneakers:\n",
    "        URL.append(i.get_attribute('href'))\n",
    "    driver.find_element_by_xpath('//a[@class=\"ge-49M\"]').click()\n",
    "    time.sleep(3)"
   ]
  },
  {
   "cell_type": "code",
   "execution_count": 72,
   "metadata": {},
   "outputs": [
    {
     "data": {
      "text/plain": [
       "['https://www.flipkart.com/puma-x-ray-2-square-mid-wtr-sneakers-men/p/itm08693b828b711?pid=SHOG4JEYYKGCHMR8&lid=LSTSHOG4JEYYKGCHMR86PJZU7&marketplace=FLIPKART&q=sneakers&store=osp%2Fcil%2Fe1f&srno=s_1_1&otracker=search&otracker1=search&fm=SEARCH&iid=en_BKOv4yTx%2FCoOnHzr853s%2FP%2BtjB21%2F3lAXa5ydha%2FH3UE2Uq8zDWOlu%2FwZkXOcs58hQxcTbf0vPmLUE0NujDTrQ%3D%3D&ppt=sp&ppn=sp&ssid=dha4h3nexc0000001634220234921&qH=a1743c0d39461290',\n",
       " 'https://www.flipkart.com/puma-rebound-joy-sneakers-men/p/itm616f0cfb0fc23?pid=SHOFZFG5PBFDU2BF&lid=LSTSHOFZFG5PBFDU2BFLVLTZW&marketplace=FLIPKART&q=sneakers&store=osp%2Fcil%2Fe1f&srno=s_1_2&otracker=search&otracker1=search&fm=SEARCH&iid=en_BKOv4yTx%2FCoOnHzr853s%2FP%2BtjB21%2F3lAXa5ydha%2FH3XRtwJ48DL9z4zp16d19mgjSO4YnLwkIcwMQXz4rGg6Xg%3D%3D&ppt=sp&ppn=sp&ssid=dha4h3nexc0000001634220234921&qH=a1743c0d39461290',\n",
       " 'https://www.flipkart.com/bruton-modern-trendy-sneakers-shoes-men/p/itmc472111af8e07?pid=SHOG293HVNGZFYYG&lid=LSTSHOG293HVNGZFYYGKWCPDF&marketplace=FLIPKART&q=sneakers&store=osp%2Fcil%2Fe1f&srno=s_1_3&otracker=search&otracker1=search&fm=SEARCH&iid=aef45758-0b42-4241-9ce1-8368af61e271.SHOG293HVNGZFYYG.SEARCH&ppt=sp&ppn=sp&ssid=dha4h3nexc0000001634220234921&qH=a1743c0d39461290',\n",
       " 'https://www.flipkart.com/d-sneakerz-casual-partywear-sneakers-shoes-men-s-boys-white-color-men/p/itmf3xujnyvhbeqh?pid=SHOFFT35TZJFPTA4&lid=LSTSHOFFT35TZJFPTA4GQXUMX&marketplace=FLIPKART&q=sneakers&store=osp%2Fcil%2Fe1f&srno=s_1_4&otracker=search&otracker1=search&fm=SEARCH&iid=aef45758-0b42-4241-9ce1-8368af61e271.SHOFFT35TZJFPTA4.SEARCH&ppt=sp&ppn=sp&ssid=dha4h3nexc0000001634220234921&qH=a1743c0d39461290',\n",
       " 'https://www.flipkart.com/bruton-combo-pack-4-casual-shoes-loafer-sneakers-men/p/itmc6896607b3f0f?pid=SHOFUXXZR2PYKUHT&lid=LSTSHOFUXXZR2PYKUHT8XUL7C&marketplace=FLIPKART&q=sneakers&store=osp%2Fcil%2Fe1f&srno=s_1_5&otracker=search&otracker1=search&fm=SEARCH&iid=aef45758-0b42-4241-9ce1-8368af61e271.SHOFUXXZR2PYKUHT.SEARCH&ppt=sp&ppn=sp&ssid=dha4h3nexc0000001634220234921&qH=a1743c0d39461290',\n",
       " 'https://www.flipkart.com/magnolia-sneakers-men/p/itmb42a681797f2d?pid=SHOGYAACUZJ842YX&lid=LSTSHOGYAACUZJ842YXXWGT2A&marketplace=FLIPKART&q=sneakers&store=osp%2Fcil%2Fe1f&srno=s_1_6&otracker=search&otracker1=search&fm=SEARCH&iid=aef45758-0b42-4241-9ce1-8368af61e271.SHOGYAACUZJ842YX.SEARCH&ppt=sp&ppn=sp&ssid=dha4h3nexc0000001634220234921&qH=a1743c0d39461290',\n",
       " 'https://www.flipkart.com/robbie-jones-casual-sneakers-shoes-men/p/itm5ee18096b212e?pid=SHOFVJG9AWTPN5GJ&lid=LSTSHOFVJG9AWTPN5GJT4JSYQ&marketplace=FLIPKART&q=sneakers&store=osp%2Fcil%2Fe1f&srno=s_1_7&otracker=search&otracker1=search&fm=SEARCH&iid=aef45758-0b42-4241-9ce1-8368af61e271.SHOFVJG9AWTPN5GJ.SEARCH&ppt=sp&ppn=sp&ssid=dha4h3nexc0000001634220234921&qH=a1743c0d39461290',\n",
       " 'https://www.flipkart.com/bruton-men-combo-pack-2-sports-shoes-casual-sneakers/p/itm0912a7a247e97?pid=SHOFMCZZYC8H2BRQ&lid=LSTSHOFMCZZYC8H2BRQTP1LTN&marketplace=FLIPKART&q=sneakers&store=osp%2Fcil%2Fe1f&srno=s_1_8&otracker=search&otracker1=search&fm=SEARCH&iid=en_BKOv4yTx%2FCoOnHzr853s%2FP%2BtjB21%2F3lAXa5ydha%2FH3WuAARtgZ%2FaEVQY2LSo3BO4fSTgqokAsUgDciM5xxH70g%3D%3D&ppt=sp&ppn=sp&ssid=dha4h3nexc0000001634220234921&qH=a1743c0d39461290',\n",
       " 'https://www.flipkart.com/numenzo-411-casual-sneakers-men/p/itm12368ade2be34?pid=SHOG3MZFKCMDKSBG&lid=LSTSHOG3MZFKCMDKSBGNCOMVX&marketplace=FLIPKART&q=sneakers&store=osp%2Fcil%2Fe1f&srno=s_1_9&otracker=search&otracker1=search&fm=SEARCH&iid=aef45758-0b42-4241-9ce1-8368af61e271.SHOG3MZFKCMDKSBG.SEARCH&ppt=sp&ppn=sp&ssid=dha4h3nexc0000001634220234921&qH=a1743c0d39461290',\n",
       " 'https://www.flipkart.com/luxury-fashion-fashionable-casual-snealer-shoes-sneakers-men/p/itma85fe7a0c923b?pid=SHOG7C7SDZCNBQMG&lid=LSTSHOG7C7SDZCNBQMGI7JOQI&marketplace=FLIPKART&q=sneakers&store=osp%2Fcil%2Fe1f&srno=s_1_10&otracker=search&otracker1=search&fm=SEARCH&iid=aef45758-0b42-4241-9ce1-8368af61e271.SHOG7C7SDZCNBQMG.SEARCH&ppt=sp&ppn=sp&ssid=dha4h3nexc0000001634220234921&qH=a1743c0d39461290',\n",
       " 'https://www.flipkart.com/india-hub-sneakers-men/p/itmc8851f2c388ab?pid=SHOG5B7F8GGADNYA&lid=LSTSHOG5B7F8GGADNYAWZ0HM7&marketplace=FLIPKART&q=sneakers&store=osp%2Fcil%2Fe1f&srno=s_1_11&otracker=search&otracker1=search&fm=SEARCH&iid=aef45758-0b42-4241-9ce1-8368af61e271.SHOG5B7F8GGADNYA.SEARCH&ppt=sp&ppn=sp&ssid=dha4h3nexc0000001634220234921&qH=a1743c0d39461290',\n",
       " 'https://www.flipkart.com/bruton-combo-pack-2-casual-shoes-sneakers-men/p/itm8b6e04bfdef49?pid=SHOFXHGXXE6BHZUM&lid=LSTSHOFXHGXXE6BHZUMHM335D&marketplace=FLIPKART&q=sneakers&store=osp%2Fcil%2Fe1f&srno=s_1_12&otracker=search&otracker1=search&fm=SEARCH&iid=en_BKOv4yTx%2FCoOnHzr853s%2FP%2BtjB21%2F3lAXa5ydha%2FH3XcyAp1RA8%2FCFAaWjcEzh%2BDvlJc8UZZxT3xAhI5OHV%2BGg%3D%3D&ppt=sp&ppn=sp&ssid=dha4h3nexc0000001634220234921&qH=a1743c0d39461290',\n",
       " 'https://www.flipkart.com/kraasa-series-7-sneakers-men/p/itmda307099c343b?pid=SHOGF3MZ5VCXD7HG&lid=LSTSHOGF3MZ5VCXD7HGSAF6TP&marketplace=FLIPKART&q=sneakers&store=osp%2Fcil%2Fe1f&srno=s_1_13&otracker=search&otracker1=search&fm=SEARCH&iid=aef45758-0b42-4241-9ce1-8368af61e271.SHOGF3MZ5VCXD7HG.SEARCH&ppt=sp&ppn=sp&ssid=dha4h3nexc0000001634220234921&qH=a1743c0d39461290',\n",
       " 'https://www.flipkart.com/birde-men-s-stylish-casual-shoes-sneakers-men/p/itmaddd925a85737?pid=SHOFYTVEZHGTRNAU&lid=LSTSHOFYTVEZHGTRNAUXO9CC9&marketplace=FLIPKART&q=sneakers&store=osp%2Fcil%2Fe1f&spotlightTagId=TrendingId_osp%2Fcil%2Fe1f&srno=s_1_14&otracker=search&otracker1=search&fm=SEARCH&iid=aef45758-0b42-4241-9ce1-8368af61e271.SHOFYTVEZHGTRNAU.SEARCH&ppt=sp&ppn=sp&ssid=dha4h3nexc0000001634220234921&qH=a1743c0d39461290',\n",
       " 'https://www.flipkart.com/bluemaker-casual-men-sneakers/p/itm02405f7701115?pid=SHOFP4YXJZFGWHAU&lid=LSTSHOFP4YXJZFGWHAUSWYMCO&marketplace=FLIPKART&q=sneakers&store=osp%2Fcil%2Fe1f&srno=s_1_15&otracker=search&otracker1=search&fm=SEARCH&iid=aef45758-0b42-4241-9ce1-8368af61e271.SHOFP4YXJZFGWHAU.SEARCH&ppt=sp&ppn=sp&ssid=dha4h3nexc0000001634220234921&qH=a1743c0d39461290',\n",
       " 'https://www.flipkart.com/khadim-s-sneakers-men/p/itmfeeb2425e484b?pid=SHOFVHYKPABZH76Y&lid=LSTSHOFVHYKPABZH76YQ2VT8L&marketplace=FLIPKART&q=sneakers&store=osp%2Fcil%2Fe1f&srno=s_1_16&otracker=search&otracker1=search&fm=SEARCH&iid=en_BKOv4yTx%2FCoOnHzr853s%2FP%2BtjB21%2F3lAXa5ydha%2FH3W7p2rDoIdzdWvByIhxpuVKmgTbnI0jNBSlcN5G%2BVVgFQ%3D%3D&ppt=sp&ppn=sp&ssid=dha4h3nexc0000001634220234921&qH=a1743c0d39461290',\n",
       " 'https://www.flipkart.com/asteroid-original-luxury-branded-fashionable-men-s-casual-walking-partywear-sneakers-running-white-shoes-men/p/itmadb9562baf1cd?pid=SHOG3F72H9FQDJZ5&lid=LSTSHOG3F72H9FQDJZ5WEOJ96&marketplace=FLIPKART&q=sneakers&store=osp%2Fcil%2Fe1f&srno=s_1_17&otracker=search&otracker1=search&fm=SEARCH&iid=aef45758-0b42-4241-9ce1-8368af61e271.SHOG3F72H9FQDJZ5.SEARCH&ppt=sp&ppn=sp&ssid=dha4h3nexc0000001634220234921&qH=a1743c0d39461290',\n",
       " 'https://www.flipkart.com/hotstyle-sneakers-men/p/itm071be697faf47?pid=SHOG4KJFJZTNGJ67&lid=LSTSHOG4KJFJZTNGJ67AUMQBB&marketplace=FLIPKART&q=sneakers&store=osp%2Fcil%2Fe1f&srno=s_1_18&otracker=search&otracker1=search&fm=SEARCH&iid=aef45758-0b42-4241-9ce1-8368af61e271.SHOG4KJFJZTNGJ67.SEARCH&ppt=sp&ppn=sp&ssid=dha4h3nexc0000001634220234921&qH=a1743c0d39461290',\n",
       " 'https://www.flipkart.com/numenzo-sneakers-men/p/itm072bfb0c5e869?pid=SHOFZ4RGXZGFRJZX&lid=LSTSHOFZ4RGXZGFRJZXKYMBPF&marketplace=FLIPKART&q=sneakers&store=osp%2Fcil%2Fe1f&srno=s_1_19&otracker=search&otracker1=search&fm=SEARCH&iid=aef45758-0b42-4241-9ce1-8368af61e271.SHOFZ4RGXZGFRJZX.SEARCH&ppt=sp&ppn=sp&ssid=dha4h3nexc0000001634220234921&qH=a1743c0d39461290',\n",
       " 'https://www.flipkart.com/khadim-s-sneakers-men/p/itm4ca6595d75089?pid=SHOFVHYKHJFN8W4S&lid=LSTSHOFVHYKHJFN8W4SEQI0KP&marketplace=FLIPKART&q=sneakers&store=osp%2Fcil%2Fe1f&srno=s_1_20&otracker=search&otracker1=search&fm=SEARCH&iid=en_BKOv4yTx%2FCoOnHzr853s%2FP%2BtjB21%2F3lAXa5ydha%2FH3Wemr7Mv00O%2Bhc5U4kLOv%2BTPUVXFwgqcMeDh7CuwJs81A%3D%3D&ppt=sp&ppn=sp&ssid=dha4h3nexc0000001634220234921&qH=a1743c0d39461290',\n",
       " 'https://www.flipkart.com/believe-sneakers-men-black-9-men/p/itmfdyhg8ezwgav9?pid=SHOFDXWHXS5FHUR7&lid=LSTSHOFDXWHXS5FHUR7H7FNT4&marketplace=FLIPKART&q=sneakers&store=osp%2Fcil%2Fe1f&srno=s_1_21&otracker=search&otracker1=search&fm=SEARCH&iid=aef45758-0b42-4241-9ce1-8368af61e271.SHOFDXWHXS5FHUR7.SEARCH&ppt=sp&ppn=sp&ssid=dha4h3nexc0000001634220234921&qH=a1743c0d39461290',\n",
       " 'https://www.flipkart.com/robbie-jones-sneakers-men/p/itmf96edf62c37d8?pid=SHOG6YH4JDYZKGGJ&lid=LSTSHOG6YH4JDYZKGGJQG5RSU&marketplace=FLIPKART&q=sneakers&store=osp%2Fcil%2Fe1f&srno=s_1_22&otracker=search&otracker1=search&fm=SEARCH&iid=aef45758-0b42-4241-9ce1-8368af61e271.SHOG6YH4JDYZKGGJ.SEARCH&ppt=sp&ppn=sp&ssid=dha4h3nexc0000001634220234921&qH=a1743c0d39461290',\n",
       " 'https://www.flipkart.com/edoeviv-luxury-branded-fashionable-men-s-casual-walking-partywear-sneakers-running-white-shoes-men/p/itm507202525ac70?pid=SHOG42Q7UXCSJGKT&lid=LSTSHOG42Q7UXCSJGKTY4XBMJ&marketplace=FLIPKART&q=sneakers&store=osp%2Fcil%2Fe1f&srno=s_1_23&otracker=search&otracker1=search&fm=SEARCH&iid=aef45758-0b42-4241-9ce1-8368af61e271.SHOG42Q7UXCSJGKT.SEARCH&ppt=sp&ppn=sp&ssid=dha4h3nexc0000001634220234921&qH=a1743c0d39461290',\n",
       " 'https://www.flipkart.com/robbie-jones-sneakers-men/p/itmd94e79e694d23?pid=SHOG6YZMMSEF4FG6&lid=LSTSHOG6YZMMSEF4FG6UMTILU&marketplace=FLIPKART&q=sneakers&store=osp%2Fcil%2Fe1f&srno=s_1_25&otracker=search&otracker1=search&fm=SEARCH&iid=aef45758-0b42-4241-9ce1-8368af61e271.SHOG6YZMMSEF4FG6.SEARCH&ppt=sp&ppn=sp&ssid=dha4h3nexc0000001634220234921&qH=a1743c0d39461290',\n",
       " 'https://www.flipkart.com/bruton-lattest-sneakers-shoe-men/p/itm42e4e64429e8b?pid=SHOG293HHXSZ2TQZ&lid=LSTSHOG293HHXSZ2TQZTWXQ9R&marketplace=FLIPKART&q=sneakers&store=osp%2Fcil%2Fe1f&srno=s_1_27&otracker=search&otracker1=search&fm=SEARCH&iid=aef45758-0b42-4241-9ce1-8368af61e271.SHOG293HHXSZ2TQZ.SEARCH&ppt=sp&ppn=sp&ssid=dha4h3nexc0000001634220234921&qH=a1743c0d39461290',\n",
       " 'https://www.flipkart.com/puma-smash-vulc-v3-lo-sneakers-men/p/itme649109fbc78e?pid=SHOG5CGJCSJNVHRE&lid=LSTSHOG5CGJCSJNVHREIUECC4&marketplace=FLIPKART&q=sneakers&store=osp%2Fcil%2Fe1f&srno=s_1_28&otracker=search&otracker1=search&fm=SEARCH&iid=en_BKOv4yTx%2FCoOnHzr853s%2FP%2BtjB21%2F3lAXa5ydha%2FH3UAD8ETh2cJYsiUPLkVObQZdBfvuSNmVD8eWOmZMUhayQ%3D%3D&ppt=sp&ppn=sp&ssid=dha4h3nexc0000001634220234921&qH=a1743c0d39461290',\n",
       " 'https://www.flipkart.com/scatchite-sneakers-men/p/itmc13680b1d9604?pid=SHOFUDSUUG8AAMZZ&lid=LSTSHOFUDSUUG8AAMZZXEJRH6&marketplace=FLIPKART&q=sneakers&store=osp%2Fcil%2Fe1f&spotlightTagId=TrendingId_osp%2Fcil%2Fe1f&srno=s_1_29&otracker=search&otracker1=search&fm=SEARCH&iid=aef45758-0b42-4241-9ce1-8368af61e271.SHOFUDSUUG8AAMZZ.SEARCH&ppt=sp&ppn=sp&ssid=dha4h3nexc0000001634220234921&qH=a1743c0d39461290',\n",
       " 'https://www.flipkart.com/numenzo-black-sneaker-men-sneakers/p/itm472e25e134b1d?pid=SHOG4KFRCZCGYQZ6&lid=LSTSHOG4KFRCZCGYQZ6VZ35FA&marketplace=FLIPKART&q=sneakers&store=osp%2Fcil%2Fe1f&srno=s_1_30&otracker=search&otracker1=search&fm=SEARCH&iid=aef45758-0b42-4241-9ce1-8368af61e271.SHOG4KFRCZCGYQZ6.SEARCH&ppt=sp&ppn=sp&ssid=dha4h3nexc0000001634220234921&qH=a1743c0d39461290',\n",
       " 'https://www.flipkart.com/chevit-perfect-affordable-combo-pack-02-pairs-sneakers-outdoor-loafer-sports-running-rock-climbing-gym-shoes-men/p/itm66ea1242a9ea5?pid=SHOGYRVMYHSC9GDA&lid=LSTSHOGYRVMYHSC9GDAQQTHTH&marketplace=FLIPKART&q=sneakers&store=osp%2Fcil%2Fe1f&srno=s_1_31&otracker=search&otracker1=search&fm=SEARCH&iid=aef45758-0b42-4241-9ce1-8368af61e271.SHOGYRVMYHSC9GDA.SEARCH&ppt=sp&ppn=sp&ssid=dha4h3nexc0000001634220234921&qH=a1743c0d39461290',\n",
       " 'https://www.flipkart.com/fausto-trendy-sneakers-men/p/itmf3xugvvrfu73q?pid=SHOEXBSJSGQ7WWSU&lid=LSTSHOEXBSJSGQ7WWSUSRP5RH&marketplace=FLIPKART&q=sneakers&store=osp%2Fcil%2Fe1f&srno=s_1_32&otracker=search&otracker1=search&fm=SEARCH&iid=en_BKOv4yTx%2FCoOnHzr853s%2FP%2BtjB21%2F3lAXa5ydha%2FH3XTXCyAGwlnZ%2BI5BXJmsxxJGGf2u0F6uWTPPl11Zv2I7w%3D%3D&ppt=sp&ppn=sp&ssid=dha4h3nexc0000001634220234921&qH=a1743c0d39461290',\n",
       " 'https://www.flipkart.com/essence-sneakers-men/p/itmc3d0142b55301?pid=SHOFK4QZX9QGMGNX&lid=LSTSHOFK4QZX9QGMGNXASZOVK&marketplace=FLIPKART&q=sneakers&store=osp%2Fcil%2Fe1f&srno=s_1_33&otracker=search&otracker1=search&fm=SEARCH&iid=aef45758-0b42-4241-9ce1-8368af61e271.SHOFK4QZX9QGMGNX.SEARCH&ppt=sp&ppn=sp&ssid=dha4h3nexc0000001634220234921&qH=a1743c0d39461290',\n",
       " 'https://www.flipkart.com/robbie-jones-sneakers-men/p/itmed5242b75c69f?pid=SHOG5Y5AKNTT8DPC&lid=LSTSHOG5Y5AKNTT8DPCNVIEV5&marketplace=FLIPKART&q=sneakers&store=osp%2Fcil%2Fe1f&srno=s_1_34&otracker=search&otracker1=search&fm=SEARCH&iid=aef45758-0b42-4241-9ce1-8368af61e271.SHOG5Y5AKNTT8DPC.SEARCH&ppt=sp&ppn=sp&ssid=dha4h3nexc0000001634220234921&qH=a1743c0d39461290',\n",
       " 'https://www.flipkart.com/sparx-sm-322-sneakers-men/p/itmf27234d02f4d7?pid=SHOFFTAEFTNJGQ5W&lid=LSTSHOFFTAEFTNJGQ5WQKICS9&marketplace=FLIPKART&q=sneakers&store=osp%2Fcil%2Fe1f&srno=s_1_35&otracker=search&otracker1=search&fm=SEARCH&iid=aef45758-0b42-4241-9ce1-8368af61e271.SHOFFTAEFTNJGQ5W.SEARCH&ppt=sp&ppn=sp&ssid=dha4h3nexc0000001634220234921&qH=a1743c0d39461290',\n",
       " 'https://www.flipkart.com/puma-sneakers-men/p/itm4f25671660d39?pid=SHOFZFGFRVGGH3DP&lid=LSTSHOFZFGFRVGGH3DPMXJKR0&marketplace=FLIPKART&q=sneakers&store=osp%2Fcil%2Fe1f&srno=s_1_36&otracker=search&otracker1=search&fm=SEARCH&iid=en_BKOv4yTx%2FCoOnHzr853s%2FP%2BtjB21%2F3lAXa5ydha%2FH3VRXzrGynubMS7DBueDD%2FNsSCOGGeC2HPOclZN8UL4Alg%3D%3D&ppt=sp&ppn=sp&ssid=dha4h3nexc0000001634220234921&qH=a1743c0d39461290',\n",
       " 'https://www.flipkart.com/bruton-combo-pack-2-latest-stylish-casual-shoes-men-lace-up-lightweight-multicolor-sport-star-casuals-sneakers/p/itm8e0b28cc30bf1?pid=SHOG55RYFSZZMXZD&lid=LSTSHOG55RYFSZZMXZD3E8RIE&marketplace=FLIPKART&q=sneakers&store=osp%2Fcil%2Fe1f&srno=s_1_37&otracker=search&otracker1=search&fm=SEARCH&iid=aef45758-0b42-4241-9ce1-8368af61e271.SHOG55RYFSZZMXZD.SEARCH&ppt=sp&ppn=sp&ssid=dha4h3nexc0000001634220234921&qH=a1743c0d39461290',\n",
       " 'https://www.flipkart.com/bluemaker-casual-men-beige-06-sneakers/p/itm04e50500732a9?pid=SHOFUSH7TPF8HXZA&lid=LSTSHOFUSH7TPF8HXZA0I23QQ&marketplace=FLIPKART&q=sneakers&store=osp%2Fcil%2Fe1f&srno=s_1_38&otracker=search&otracker1=search&fm=SEARCH&iid=aef45758-0b42-4241-9ce1-8368af61e271.SHOFUSH7TPF8HXZA.SEARCH&ppt=sp&ppn=sp&ssid=dha4h3nexc0000001634220234921&qH=a1743c0d39461290',\n",
       " 'https://www.flipkart.com/chevit-168-smart-red-lace-ups-casuals-men-sneakers/p/itm5c134759c0c78?pid=SHOFZD8FAWQQZDFB&lid=LSTSHOFZD8FAWQQZDFBJBHH12&marketplace=FLIPKART&q=sneakers&store=osp%2Fcil%2Fe1f&srno=s_1_39&otracker=search&otracker1=search&fm=SEARCH&iid=aef45758-0b42-4241-9ce1-8368af61e271.SHOFZD8FAWQQZDFB.SEARCH&ppt=sp&ppn=sp&ssid=dha4h3nexc0000001634220234921&qH=a1743c0d39461290',\n",
       " 'https://www.flipkart.com/puma-procyon-slip-on-idp-sneakers-men/p/itm91886406be6a9?pid=SHOFY6ENVVUEB2AR&lid=LSTSHOFY6ENVVUEB2ARYKLJJV&marketplace=FLIPKART&q=sneakers&store=osp%2Fcil%2Fe1f&srno=s_1_40&otracker=search&otracker1=search&fm=SEARCH&iid=en_BKOv4yTx%2FCoOnHzr853s%2FP%2BtjB21%2F3lAXa5ydha%2FH3U7%2BZzNHsZ0QCQy3EQIRuspVRn5ABXT5eLsMS5YG0fztQ%3D%3D&ppt=sp&ppn=sp&ssid=dha4h3nexc0000001634220234921&qH=a1743c0d39461290',\n",
       " 'https://www.flipkart.com/bluemaker-casual-men-beige-06-sneakers/p/itm04e50500732a9?pid=SHOFUSH7TPF8HXZA&lid=LSTSHOFUSH7TPF8HXZA0I23QQ&marketplace=FLIPKART&q=sneakers&store=osp%2Fcil%2Fe1f&srno=s_2_41&otracker=search&otracker1=search&fm=SEARCH&iid=613a2c25-ce8b-4833-ba7c-5a0610b5082f.SHOFUSH7TPF8HXZA.SEARCH&ppt=sp&ppn=sp&ssid=dha4h3nexc0000001634220234921&qH=a1743c0d39461290',\n",
       " 'https://www.flipkart.com/chevit-168-smart-red-lace-ups-casuals-men-sneakers/p/itm5c134759c0c78?pid=SHOFZD8FAWQQZDFB&lid=LSTSHOFZD8FAWQQZDFBJBHH12&marketplace=FLIPKART&q=sneakers&store=osp%2Fcil%2Fe1f&srno=s_2_42&otracker=search&otracker1=search&fm=SEARCH&iid=613a2c25-ce8b-4833-ba7c-5a0610b5082f.SHOFZD8FAWQQZDFB.SEARCH&ppt=sp&ppn=sp&ssid=dha4h3nexc0000001634220234921&qH=a1743c0d39461290',\n",
       " 'https://www.flipkart.com/shoes-bank-white-sneaker-men-s-boy-s-sneakers-men/p/itmf9p2zdypz2jyt?pid=SHOF9Z76DWFGAFWY&lid=LSTSHOF9Z76DWFGAFWYSDVYDU&marketplace=FLIPKART&q=sneakers&store=osp%2Fcil%2Fe1f&srno=s_2_43&otracker=search&otracker1=search&fm=SEARCH&iid=613a2c25-ce8b-4833-ba7c-5a0610b5082f.SHOF9Z76DWFGAFWY.SEARCH&ppt=sp&ppn=sp&ssid=dha4h3nexc0000001634220234921&qH=a1743c0d39461290',\n",
       " 'https://www.flipkart.com/chevit-combo-pack-4-casual-sneakers-men/p/itmfg2ybzgeygd6t?pid=SHOFGY97JGZTBRHY&lid=LSTSHOFGY97JGZTBRHYNHQPWS&marketplace=FLIPKART&q=sneakers&store=osp%2Fcil%2Fe1f&srno=s_2_44&otracker=search&otracker1=search&fm=SEARCH&iid=en_0xjZfN9Izimj0INtkHWBJ0mP3p49LXOB8ttvuzgS7GOd77DBUZy%2B0K9gdWbXVOLl9JHTijj1js9rXHmilcx7nA%3D%3D&ppt=sp&ppn=sp&ssid=dha4h3nexc0000001634220234921&qH=a1743c0d39461290',\n",
       " 'https://www.flipkart.com/india-hub-fashionable-sneaker-casual-shoes-sneakers-men/p/itm3371523918c5d?pid=SHOG4N2Z2M4FWTFG&lid=LSTSHOG4N2Z2M4FWTFGAH7R6A&marketplace=FLIPKART&q=sneakers&store=osp%2Fcil%2Fe1f&srno=s_2_45&otracker=search&otracker1=search&fm=SEARCH&iid=613a2c25-ce8b-4833-ba7c-5a0610b5082f.SHOG4N2Z2M4FWTFG.SEARCH&ppt=sp&ppn=sp&ssid=dha4h3nexc0000001634220234921&qH=a1743c0d39461290',\n",
       " 'https://www.flipkart.com/roddick-shoes-fashion-outdoor-canvas-casual-light-weight-lace-up-evening-walk-running-men-sneakers/p/itmef0811c89a216?pid=SHOG48D84NUTCM3N&lid=LSTSHOG48D84NUTCM3NHEKV1K&marketplace=FLIPKART&q=sneakers&store=osp%2Fcil%2Fe1f&srno=s_2_46&otracker=search&otracker1=search&fm=SEARCH&iid=613a2c25-ce8b-4833-ba7c-5a0610b5082f.SHOG48D84NUTCM3N.SEARCH&ppt=sp&ppn=sp&ssid=dha4h3nexc0000001634220234921&qH=a1743c0d39461290',\n",
       " 'https://www.flipkart.com/chevit-171-smart-tan-lace-ups-casuals-men-sneakers/p/itm388814db0265d?pid=SHOFZD3ZS4YH4WAK&lid=LSTSHOFZD3ZS4YH4WAKPAYDKI&marketplace=FLIPKART&q=sneakers&store=osp%2Fcil%2Fe1f&srno=s_2_47&otracker=search&otracker1=search&fm=SEARCH&iid=613a2c25-ce8b-4833-ba7c-5a0610b5082f.SHOFZD3ZS4YH4WAK.SEARCH&ppt=sp&ppn=sp&ssid=dha4h3nexc0000001634220234921&qH=a1743c0d39461290',\n",
       " 'https://www.flipkart.com/sparx-men-white-sneakers/p/itm141566c73dce4?pid=SHOFBJ22PCVDAYGE&lid=LSTSHOFBJ22PCVDAYGEMRA0F5&marketplace=FLIPKART&q=sneakers&store=osp%2Fcil%2Fe1f&srno=s_2_50&otracker=search&otracker1=search&fm=SEARCH&iid=613a2c25-ce8b-4833-ba7c-5a0610b5082f.SHOFBJ22PCVDAYGE.SEARCH&ppt=sp&ppn=sp&ssid=dha4h3nexc0000001634220234921&qH=a1743c0d39461290',\n",
       " 'https://www.flipkart.com/airland-shoe-sneakers-men/p/itm1afbf93d2e019?pid=SHOFZ37YEQPE4ZG9&lid=LSTSHOFZ37YEQPE4ZG98YACHE&marketplace=FLIPKART&q=sneakers&store=osp%2Fcil%2Fe1f&srno=s_2_51&otracker=search&otracker1=search&fm=SEARCH&iid=613a2c25-ce8b-4833-ba7c-5a0610b5082f.SHOFZ37YEQPE4ZG9.SEARCH&ppt=sp&ppn=sp&ssid=dha4h3nexc0000001634220234921&qH=a1743c0d39461290',\n",
       " 'https://www.flipkart.com/chevit-speed-set-5-pairs-sneakers-outdoors-casuals-men/p/itmccd9dcb86e757?pid=SHOFWJJFGKQEQFFW&lid=LSTSHOFWJJFGKQEQFFW0CKGNI&marketplace=FLIPKART&q=sneakers&store=osp%2Fcil%2Fe1f&srno=s_2_52&otracker=search&otracker1=search&fm=SEARCH&iid=en_0xjZfN9Izimj0INtkHWBJ0mP3p49LXOB8ttvuzgS7GNJWQfBTskGWqxt5vmPSw0UARSjt0L37GgGytM0KeFKew%3D%3D&ppt=sp&ppn=sp&ssid=dha4h3nexc0000001634220234921&qH=a1743c0d39461290',\n",
       " 'https://www.flipkart.com/bluemaker-casual-shoe-men-sneakers/p/itm3694200bdaf02?pid=SHOFP4YXWUGZSMKG&lid=LSTSHOFP4YXWUGZSMKG41CNUK&marketplace=FLIPKART&q=sneakers&store=osp%2Fcil%2Fe1f&srno=s_2_53&otracker=search&otracker1=search&fm=SEARCH&iid=613a2c25-ce8b-4833-ba7c-5a0610b5082f.SHOFP4YXWUGZSMKG.SEARCH&ppt=sp&ppn=sp&ssid=dha4h3nexc0000001634220234921&qH=a1743c0d39461290',\n",
       " 'https://www.flipkart.com/luxury-fashion-fashionable-casual-shoes-sneakers-men/p/itm2c220c7d857aa?pid=SHOG56XZDY3FZVFK&lid=LSTSHOG56XZDY3FZVFKQ5YZKO&marketplace=FLIPKART&q=sneakers&store=osp%2Fcil%2Fe1f&srno=s_2_54&otracker=search&otracker1=search&fm=SEARCH&iid=613a2c25-ce8b-4833-ba7c-5a0610b5082f.SHOG56XZDY3FZVFK.SEARCH&ppt=sp&ppn=sp&ssid=dha4h3nexc0000001634220234921&qH=a1743c0d39461290',\n",
       " 'https://www.flipkart.com/chevit-super-stylish-trendy-combo-pack-02-pairs-sneakers-outdoor-loafer-sports-running-rock-climbing-gym-shoes-men/p/itmfce3a6f2183d4?pid=SHOGFVTAG39Y7ZHY&lid=LSTSHOGFVTAG39Y7ZHYPHBMOZ&marketplace=FLIPKART&q=sneakers&store=osp%2Fcil%2Fe1f&srno=s_2_55&otracker=search&otracker1=search&fm=SEARCH&iid=613a2c25-ce8b-4833-ba7c-5a0610b5082f.SHOGFVTAG39Y7ZHY.SEARCH&ppt=sp&ppn=sp&ssid=dha4h3nexc0000001634220234921&qH=a1743c0d39461290',\n",
       " 'https://www.flipkart.com/bluemaker-casual-men-blue-10-sneakers/p/itm3f838f669177a?pid=SHOFUSH7PGGHGJUE&lid=LSTSHOFUSH7PGGHGJUEBDK02O&marketplace=FLIPKART&q=sneakers&store=osp%2Fcil%2Fe1f&srno=s_2_57&otracker=search&otracker1=search&fm=SEARCH&iid=613a2c25-ce8b-4833-ba7c-5a0610b5082f.SHOFUSH7PGGHGJUE.SEARCH&ppt=sp&ppn=sp&ssid=dha4h3nexc0000001634220234921&qH=a1743c0d39461290',\n",
       " 'https://www.flipkart.com/arohi-sneakers-men/p/itm6902e4b22d54d?pid=SHOFZUBJEZGYCJXZ&lid=LSTSHOFZUBJEZGYCJXZQBFB6N&marketplace=FLIPKART&q=sneakers&store=osp%2Fcil%2Fe1f&srno=s_2_58&otracker=search&otracker1=search&fm=SEARCH&iid=613a2c25-ce8b-4833-ba7c-5a0610b5082f.SHOFZUBJEZGYCJXZ.SEARCH&ppt=sp&ppn=sp&ssid=dha4h3nexc0000001634220234921&qH=a1743c0d39461290',\n",
       " 'https://www.flipkart.com/puma-vikky-v2-sneakers-men/p/itm14b1d9cd63d11?pid=SHOG5HFQHF39FZT2&lid=LSTSHOG5HFQHF39FZT2KD4DTI&marketplace=FLIPKART&q=sneakers&store=osp%2Fcil%2Fe1f&srno=s_2_60&otracker=search&otracker1=search&fm=SEARCH&iid=en_0xjZfN9Izimj0INtkHWBJ0mP3p49LXOB8ttvuzgS7GNMNwoqw6Mn%2Bh1to79mcLCiRkxnqWCE5XkoONe9vv59eQ%3D%3D&ppt=sp&ppn=sp&ssid=dha4h3nexc0000001634220234921&qH=a1743c0d39461290',\n",
       " 'https://www.flipkart.com/hoc-luxury-fashionable-casual-sneakers-shoes-men-boy/p/itmd935b86ba7130?pid=SHOG5GYNS4YU6KBT&lid=LSTSHOG5GYNS4YU6KBTJXVHWS&marketplace=FLIPKART&q=sneakers&store=osp%2Fcil%2Fe1f&srno=s_2_61&otracker=search&otracker1=search&fm=SEARCH&iid=613a2c25-ce8b-4833-ba7c-5a0610b5082f.SHOG5GYNS4YU6KBT.SEARCH&ppt=sp&ppn=sp&ssid=dha4h3nexc0000001634220234921&qH=a1743c0d39461290',\n",
       " 'https://www.flipkart.com/hrx-hrithik-roshan-sneakers-men/p/itm24aa8834d5df6?pid=SHOG6B6A9ZQAHU58&lid=LSTSHOG6B6A9ZQAHU58QDIJTY&marketplace=FLIPKART&q=sneakers&store=osp%2Fcil%2Fe1f&srno=s_2_62&otracker=search&otracker1=search&fm=SEARCH&iid=613a2c25-ce8b-4833-ba7c-5a0610b5082f.SHOG6B6A9ZQAHU58.SEARCH&ppt=sp&ppn=sp&ssid=dha4h3nexc0000001634220234921&qH=a1743c0d39461290',\n",
       " 'https://www.flipkart.com/roddick-shoes-fashion-outdoor-canvas-casual-light-weight-lace-up-evening-walk-running-men-sneakers/p/itm60a27f5e97e8a?pid=SHOG48D2D4N3CJKR&lid=LSTSHOG48D2D4N3CJKRPZBP3W&marketplace=FLIPKART&q=sneakers&store=osp%2Fcil%2Fe1f&srno=s_2_63&otracker=search&otracker1=search&fm=SEARCH&iid=613a2c25-ce8b-4833-ba7c-5a0610b5082f.SHOG48D2D4N3CJKR.SEARCH&ppt=sp&ppn=sp&ssid=dha4h3nexc0000001634220234921&qH=a1743c0d39461290',\n",
       " 'https://www.flipkart.com/nilatin-sneakers-men/p/itma5721976f2c1c?pid=SHOG4Z2SHA6KEYXG&lid=LSTSHOG4Z2SHA6KEYXGLZZOBG&marketplace=FLIPKART&q=sneakers&store=osp%2Fcil%2Fe1f&srno=s_2_65&otracker=search&otracker1=search&fm=SEARCH&iid=613a2c25-ce8b-4833-ba7c-5a0610b5082f.SHOG4Z2SHA6KEYXG.SEARCH&ppt=sp&ppn=sp&ssid=dha4h3nexc0000001634220234921&qH=a1743c0d39461290',\n",
       " 'https://www.flipkart.com/india-hub-luxury-fashionable-casual-sneaker-shoes-sneakers-men/p/itme80c2b19b8a73?pid=SHOG56MZVEZEXNFH&lid=LSTSHOG56MZVEZEXNFHLBF9L3&marketplace=FLIPKART&q=sneakers&store=osp%2Fcil%2Fe1f&srno=s_2_66&otracker=search&otracker1=search&fm=SEARCH&iid=613a2c25-ce8b-4833-ba7c-5a0610b5082f.SHOG56MZVEZEXNFH.SEARCH&ppt=sp&ppn=sp&ssid=dha4h3nexc0000001634220234921&qH=a1743c0d39461290',\n",
       " 'https://www.flipkart.com/kraasa-casuals-canvas-partywear-sneakers-men/p/itm3b6ebb856eb64?pid=SHOFGGF775EQNSMW&lid=LSTSHOFGGF775EQNSMWJWRGWA&marketplace=FLIPKART&q=sneakers&store=osp%2Fcil%2Fe1f&srno=s_2_67&otracker=search&otracker1=search&fm=SEARCH&iid=613a2c25-ce8b-4833-ba7c-5a0610b5082f.SHOFGGF775EQNSMW.SEARCH&ppt=sp&ppn=sp&ssid=dha4h3nexc0000001634220234921&qH=a1743c0d39461290',\n",
       " 'https://www.flipkart.com/puma-rebound-street-v2-l-sneakers-men/p/itmfbn9wkufdg5wk?pid=SHOFBMDDPTU88VHY&lid=LSTSHOFBMDDPTU88VHY5OFO9F&marketplace=FLIPKART&q=sneakers&store=osp%2Fcil%2Fe1f&srno=s_2_68&otracker=search&otracker1=search&fm=SEARCH&iid=en_0xjZfN9Izimj0INtkHWBJ0mP3p49LXOB8ttvuzgS7GMwmyoSkaGp2iNKwlGxQRp4vuILQRGXFUd4t7E%2By%2FDB%2Bw%3D%3D&ppt=sp&ppn=sp&ssid=dha4h3nexc0000001634220234921&qH=a1743c0d39461290',\n",
       " 'https://www.flipkart.com/birde-combo-pack-2-casual-shoes-sneakers-men/p/itm860b3eb6cfa69?pid=SHOFZ5HQJGZP5FM8&lid=LSTSHOFZ5HQJGZP5FM8ROF0WF&marketplace=FLIPKART&q=sneakers&store=osp%2Fcil%2Fe1f&srno=s_2_69&otracker=search&otracker1=search&fm=SEARCH&iid=613a2c25-ce8b-4833-ba7c-5a0610b5082f.SHOFZ5HQJGZP5FM8.SEARCH&ppt=sp&ppn=sp&ssid=dha4h3nexc0000001634220234921&qH=a1743c0d39461290',\n",
       " 'https://www.flipkart.com/pexlo-combo-pack-3-casual-shoes-sneakers-men/p/itmf6qz3tpzgphwe?pid=SHOF6NKGUGZWVJM3&lid=LSTSHOF6NKGUGZWVJM3ZADGFZ&marketplace=FLIPKART&q=sneakers&store=osp%2Fcil%2Fe1f&srno=s_2_71&otracker=search&otracker1=search&fm=SEARCH&iid=613a2c25-ce8b-4833-ba7c-5a0610b5082f.SHOF6NKGUGZWVJM3.SEARCH&ppt=sp&ppn=sp&ssid=dha4h3nexc0000001634220234921&qH=a1743c0d39461290',\n",
       " 'https://www.flipkart.com/zovim-jeans-shoes-boys-sneakers-men/p/itmf3xvrdbjwgzvw?pid=SHOF2NXHV2FQMXGG&lid=LSTSHOF2NXHV2FQMXGGR9RQLP&marketplace=FLIPKART&q=sneakers&store=osp%2Fcil%2Fe1f&srno=s_2_73&otracker=search&otracker1=search&fm=SEARCH&iid=613a2c25-ce8b-4833-ba7c-5a0610b5082f.SHOF2NXHV2FQMXGG.SEARCH&ppt=sp&ppn=sp&ssid=dha4h3nexc0000001634220234921&qH=a1743c0d39461290',\n",
       " 'https://www.flipkart.com/k-footlance-fashion-stylish-soft-ultralight-lace-up-sneakers-causal-shoes-men/p/itm96f32b960de3a?pid=SHOFZPX8NZ3YAEJ9&lid=LSTSHOFZPX8NZ3YAEJ92SKUKO&marketplace=FLIPKART&q=sneakers&store=osp%2Fcil%2Fe1f&srno=s_2_74&otracker=search&otracker1=search&fm=SEARCH&iid=613a2c25-ce8b-4833-ba7c-5a0610b5082f.SHOFZPX8NZ3YAEJ9.SEARCH&ppt=sp&ppn=sp&ssid=dha4h3nexc0000001634220234921&qH=a1743c0d39461290',\n",
       " 'https://www.flipkart.com/jack-jones-jfwbanna-print-pu-sneakers-men/p/itma6bb668c19a2d?pid=SHOFV2ACKHDPGUQH&lid=LSTSHOFV2ACKHDPGUQHFYGM4K&marketplace=FLIPKART&q=sneakers&store=osp%2Fcil%2Fe1f&srno=s_2_76&otracker=search&otracker1=search&fm=SEARCH&iid=en_0xjZfN9Izimj0INtkHWBJ0mP3p49LXOB8ttvuzgS7GMy9PHwUJHrSW9ceJa14qGBVZdLar6k28vTlLcSaQFrDQ%3D%3D&ppt=sp&ppn=sp&ssid=dha4h3nexc0000001634220234921&qH=a1743c0d39461290',\n",
       " 'https://www.flipkart.com/nautica-sneakers-men/p/itmd575d13df6042?pid=SHOG5GV7AKJGCXFW&lid=LSTSHOG5GV7AKJGCXFWAFLDZH&marketplace=FLIPKART&q=sneakers&store=osp%2Fcil%2Fe1f&srno=s_2_77&otracker=search&otracker1=search&fm=SEARCH&iid=613a2c25-ce8b-4833-ba7c-5a0610b5082f.SHOG5GV7AKJGCXFW.SEARCH&ppt=sp&ppn=sp&ssid=dha4h3nexc0000001634220234921&qH=a1743c0d39461290',\n",
       " 'https://www.flipkart.com/birde-sneakers-men/p/itmfbzptkfaunxew?pid=SHOEXZYFM4DQAYWU&lid=LSTSHOEXZYFM4DQAYWUZOGOQO&marketplace=FLIPKART&q=sneakers&store=osp%2Fcil%2Fe1f&srno=s_2_78&otracker=search&otracker1=search&fm=SEARCH&iid=613a2c25-ce8b-4833-ba7c-5a0610b5082f.SHOEXZYFM4DQAYWU.SEARCH&ppt=sp&ppn=sp&ssid=dha4h3nexc0000001634220234921&qH=a1743c0d39461290',\n",
       " 'https://www.flipkart.com/allen-solly-sneakers-men/p/itmea1b4db8eb97e?pid=SHOFNPW7QJYXJ5WF&lid=LSTSHOFNPW7QJYXJ5WFBWWVQK&marketplace=FLIPKART&q=sneakers&store=osp%2Fcil%2Fe1f&srno=s_2_79&otracker=search&otracker1=search&fm=SEARCH&iid=613a2c25-ce8b-4833-ba7c-5a0610b5082f.SHOFNPW7QJYXJ5WF.SEARCH&ppt=sp&ppn=sp&ssid=dha4h3nexc0000001634220234921&qH=a1743c0d39461290',\n",
       " 'https://www.flipkart.com/paragon-sneakers-men/p/itmea11861f194d5?pid=SHOFNZHFDNEZHPJR&lid=LSTSHOFNZHFDNEZHPJRH3NQ96&marketplace=FLIPKART&q=sneakers&store=osp%2Fcil%2Fe1f&srno=s_2_80&otracker=search&otracker1=search&fm=SEARCH&iid=en_0xjZfN9Izimj0INtkHWBJ0mP3p49LXOB8ttvuzgS7GOG%2BQX6d%2FdyEXHIOXdkfUvVeSkRy4vioPtcb0jdQ1Cv3Q%3D%3D&ppt=sp&ppn=sp&ssid=dha4h3nexc0000001634220234921&qH=a1743c0d39461290',\n",
       " 'https://www.flipkart.com/xylus-double-protection-stylish-comfortable-running-sport-shoes-men-multicolor-sneakers/p/itm751f94d092314?pid=SHOG4XSRPTYC5QGE&lid=LSTSHOG4XSRPTYC5QGEX18SG8&marketplace=FLIPKART&q=sneakers&store=osp%2Fcil%2Fe1f&srno=s_1_1&otracker=search&otracker1=search&fm=SEARCH&iid=en_%2BF2Eh05phfFzyxyEVwC1UYrwP%2FvSL6%2F4ETFJfpbieLo1blFCitIkoYH%2BNpbxTCbMkWz%2BSci2qFtC0ihoiPX6hQ%3D%3D&ppt=sp&ppn=sp&ssid=dha4h3nexc0000001634220234921&qH=a1743c0d39461290',\n",
       " 'https://www.flipkart.com/puma-x-ray-2-square-mid-wtr-sneakers-men/p/itm08693b828b711?pid=SHOG4JEYYKGCHMR8&lid=LSTSHOG4JEYYKGCHMR86PJZU7&marketplace=FLIPKART&q=sneakers&store=osp%2Fcil%2Fe1f&srno=s_1_2&otracker=search&otracker1=search&fm=SEARCH&iid=en_%2BF2Eh05phfFzyxyEVwC1UYrwP%2FvSL6%2F4ETFJfpbieLo1SRRyMRa6Dgs%2B3qlp7M3MhQxcTbf0vPmLUE0NujDTrQ%3D%3D&ppt=sp&ppn=sp&ssid=dha4h3nexc0000001634220234921&qH=a1743c0d39461290',\n",
       " 'https://www.flipkart.com/bruton-modern-trendy-sneakers-shoes-men/p/itmc472111af8e07?pid=SHOG293HVNGZFYYG&lid=LSTSHOG293HVNGZFYYGKWCPDF&marketplace=FLIPKART&q=sneakers&store=osp%2Fcil%2Fe1f&srno=s_1_3&otracker=search&otracker1=search&fm=SEARCH&iid=cdbd0ad9-6b0d-4699-8b53-6d7f9af36816.SHOG293HVNGZFYYG.SEARCH&ppt=sp&ppn=sp&ssid=dha4h3nexc0000001634220234921&qH=a1743c0d39461290',\n",
       " 'https://www.flipkart.com/d-sneakerz-casual-partywear-sneakers-shoes-men-s-boys-white-color-men/p/itmf3xujnyvhbeqh?pid=SHOFFT35TZJFPTA4&lid=LSTSHOFFT35TZJFPTA4GQXUMX&marketplace=FLIPKART&q=sneakers&store=osp%2Fcil%2Fe1f&srno=s_1_4&otracker=search&otracker1=search&fm=SEARCH&iid=cdbd0ad9-6b0d-4699-8b53-6d7f9af36816.SHOFFT35TZJFPTA4.SEARCH&ppt=sp&ppn=sp&ssid=dha4h3nexc0000001634220234921&qH=a1743c0d39461290',\n",
       " 'https://www.flipkart.com/bruton-combo-pack-4-casual-shoes-loafer-sneakers-men/p/itmc6896607b3f0f?pid=SHOFUXXZR2PYKUHT&lid=LSTSHOFUXXZR2PYKUHT8XUL7C&marketplace=FLIPKART&q=sneakers&store=osp%2Fcil%2Fe1f&srno=s_1_5&otracker=search&otracker1=search&fm=SEARCH&iid=cdbd0ad9-6b0d-4699-8b53-6d7f9af36816.SHOFUXXZR2PYKUHT.SEARCH&ppt=sp&ppn=sp&ssid=dha4h3nexc0000001634220234921&qH=a1743c0d39461290',\n",
       " 'https://www.flipkart.com/magnolia-sneakers-men/p/itmb42a681797f2d?pid=SHOGYAACUZJ842YX&lid=LSTSHOGYAACUZJ842YXXWGT2A&marketplace=FLIPKART&q=sneakers&store=osp%2Fcil%2Fe1f&srno=s_1_6&otracker=search&otracker1=search&fm=SEARCH&iid=cdbd0ad9-6b0d-4699-8b53-6d7f9af36816.SHOGYAACUZJ842YX.SEARCH&ppt=sp&ppn=sp&ssid=dha4h3nexc0000001634220234921&qH=a1743c0d39461290',\n",
       " 'https://www.flipkart.com/robbie-jones-casual-sneakers-shoes-men/p/itm5ee18096b212e?pid=SHOFVJG9AWTPN5GJ&lid=LSTSHOFVJG9AWTPN5GJT4JSYQ&marketplace=FLIPKART&q=sneakers&store=osp%2Fcil%2Fe1f&srno=s_1_7&otracker=search&otracker1=search&fm=SEARCH&iid=cdbd0ad9-6b0d-4699-8b53-6d7f9af36816.SHOFVJG9AWTPN5GJ.SEARCH&ppt=sp&ppn=sp&ssid=dha4h3nexc0000001634220234921&qH=a1743c0d39461290',\n",
       " 'https://www.flipkart.com/puma-rebound-joy-sneakers-men/p/itm616f0cfb0fc23?pid=SHOFZFG5PBFDU2BF&lid=LSTSHOFZFG5PBFDU2BFLVLTZW&marketplace=FLIPKART&q=sneakers&store=osp%2Fcil%2Fe1f&srno=s_1_8&otracker=search&otracker1=search&fm=SEARCH&iid=en_%2BF2Eh05phfFzyxyEVwC1UYrwP%2FvSL6%2F4ETFJfpbieLqlF3wpLVexJDPyz1HrJJVWSO4YnLwkIcwMQXz4rGg6Xg%3D%3D&ppt=sp&ppn=sp&ssid=dha4h3nexc0000001634220234921&qH=a1743c0d39461290',\n",
       " 'https://www.flipkart.com/birde-trendy-casual-shoes-sneakers-men/p/itmede861a907625?pid=SHOGFEZ9FSZEHNUT&lid=LSTSHOGFEZ9FSZEHNUTEYC3ZJ&marketplace=FLIPKART&q=sneakers&store=osp%2Fcil%2Fe1f&srno=s_1_9&otracker=search&otracker1=search&fm=SEARCH&iid=cdbd0ad9-6b0d-4699-8b53-6d7f9af36816.SHOGFEZ9FSZEHNUT.SEARCH&ppt=sp&ppn=sp&ssid=dha4h3nexc0000001634220234921&qH=a1743c0d39461290',\n",
       " 'https://www.flipkart.com/numenzo-411-casual-sneakers-men/p/itm12368ade2be34?pid=SHOG3MZFKCMDKSBG&lid=LSTSHOG3MZFKCMDKSBGNCOMVX&marketplace=FLIPKART&q=sneakers&store=osp%2Fcil%2Fe1f&srno=s_1_10&otracker=search&otracker1=search&fm=SEARCH&iid=cdbd0ad9-6b0d-4699-8b53-6d7f9af36816.SHOG3MZFKCMDKSBG.SEARCH&ppt=sp&ppn=sp&ssid=dha4h3nexc0000001634220234921&qH=a1743c0d39461290',\n",
       " 'https://www.flipkart.com/luxury-fashion-fashionable-casual-snealer-shoes-sneakers-men/p/itma85fe7a0c923b?pid=SHOG7C7SDZCNBQMG&lid=LSTSHOG7C7SDZCNBQMGI7JOQI&marketplace=FLIPKART&q=sneakers&store=osp%2Fcil%2Fe1f&srno=s_1_11&otracker=search&otracker1=search&fm=SEARCH&iid=cdbd0ad9-6b0d-4699-8b53-6d7f9af36816.SHOG7C7SDZCNBQMG.SEARCH&ppt=sp&ppn=sp&ssid=dha4h3nexc0000001634220234921&qH=a1743c0d39461290',\n",
       " 'https://www.flipkart.com/bruton-men-combo-pack-2-sports-shoes-casual-sneakers/p/itm0912a7a247e97?pid=SHOFMCZZYC8H2BRQ&lid=LSTSHOFMCZZYC8H2BRQTP1LTN&marketplace=FLIPKART&q=sneakers&store=osp%2Fcil%2Fe1f&srno=s_1_12&otracker=search&otracker1=search&fm=SEARCH&iid=en_%2BF2Eh05phfFzyxyEVwC1UYrwP%2FvSL6%2F4ETFJfpbieLp68xdSzvt4bGqcda0O26qGfSTgqokAsUgDciM5xxH70g%3D%3D&ppt=sp&ppn=sp&ssid=dha4h3nexc0000001634220234921&qH=a1743c0d39461290',\n",
       " 'https://www.flipkart.com/numenzo-white-sneaker-men-sneakers/p/itm3ffb692d4132c?pid=SHOG4K76GEPSUCQZ&lid=LSTSHOG4K76GEPSUCQZRG5OYE&marketplace=FLIPKART&q=sneakers&store=osp%2Fcil%2Fe1f&spotlightTagId=TrendingId_osp%2Fcil%2Fe1f&srno=s_1_13&otracker=search&otracker1=search&fm=SEARCH&iid=cdbd0ad9-6b0d-4699-8b53-6d7f9af36816.SHOG4K76GEPSUCQZ.SEARCH&ppt=sp&ppn=sp&ssid=dha4h3nexc0000001634220234921&qH=a1743c0d39461290',\n",
       " 'https://www.flipkart.com/india-hub-sneakers-men/p/itmc8851f2c388ab?pid=SHOG5B7F8GGADNYA&lid=LSTSHOG5B7F8GGADNYAWZ0HM7&marketplace=FLIPKART&q=sneakers&store=osp%2Fcil%2Fe1f&srno=s_1_14&otracker=search&otracker1=search&fm=SEARCH&iid=cdbd0ad9-6b0d-4699-8b53-6d7f9af36816.SHOG5B7F8GGADNYA.SEARCH&ppt=sp&ppn=sp&ssid=dha4h3nexc0000001634220234921&qH=a1743c0d39461290',\n",
       " 'https://www.flipkart.com/kraasa-series-7-sneakers-men/p/itmda307099c343b?pid=SHOGF3MZ5VCXD7HG&lid=LSTSHOGF3MZ5VCXD7HGSAF6TP&marketplace=FLIPKART&q=sneakers&store=osp%2Fcil%2Fe1f&srno=s_1_15&otracker=search&otracker1=search&fm=SEARCH&iid=cdbd0ad9-6b0d-4699-8b53-6d7f9af36816.SHOGF3MZ5VCXD7HG.SEARCH&ppt=sp&ppn=sp&ssid=dha4h3nexc0000001634220234921&qH=a1743c0d39461290',\n",
       " 'https://www.flipkart.com/bruton-combo-pack-2-casual-shoes-sneakers-men/p/itm8b6e04bfdef49?pid=SHOFXHGXXE6BHZUM&lid=LSTSHOFXHGXXE6BHZUMHM335D&marketplace=FLIPKART&q=sneakers&store=osp%2Fcil%2Fe1f&srno=s_1_16&otracker=search&otracker1=search&fm=SEARCH&iid=en_%2BF2Eh05phfFzyxyEVwC1UYrwP%2FvSL6%2F4ETFJfpbieLrmTVbrulqTHZ3IYOZccz3ErO18NjIlY%2Bbbu37VDDWXdg%3D%3D&ppt=sp&ppn=sp&ssid=dha4h3nexc0000001634220234921&qH=a1743c0d39461290',\n",
       " 'https://www.flipkart.com/birde-men-s-stylish-casual-shoes-sneakers-men/p/itmaddd925a85737?pid=SHOFYTVEZHGTRNAU&lid=LSTSHOFYTVEZHGTRNAUXO9CC9&marketplace=FLIPKART&q=sneakers&store=osp%2Fcil%2Fe1f&srno=s_1_17&otracker=search&otracker1=search&fm=SEARCH&iid=cdbd0ad9-6b0d-4699-8b53-6d7f9af36816.SHOFYTVEZHGTRNAU.SEARCH&ppt=sp&ppn=sp&ssid=dha4h3nexc0000001634220234921&qH=a1743c0d39461290',\n",
       " 'https://www.flipkart.com/bluemaker-casual-men-sneakers/p/itm02405f7701115?pid=SHOFP4YXJZFGWHAU&lid=LSTSHOFP4YXJZFGWHAUSWYMCO&marketplace=FLIPKART&q=sneakers&store=osp%2Fcil%2Fe1f&srno=s_1_18&otracker=search&otracker1=search&fm=SEARCH&iid=cdbd0ad9-6b0d-4699-8b53-6d7f9af36816.SHOFP4YXJZFGWHAU.SEARCH&ppt=sp&ppn=sp&ssid=dha4h3nexc0000001634220234921&qH=a1743c0d39461290',\n",
       " 'https://www.flipkart.com/hotstyle-sneakers-men/p/itm071be697faf47?pid=SHOG4KJFJZTNGJ67&lid=LSTSHOG4KJFJZTNGJ67AUMQBB&marketplace=FLIPKART&q=sneakers&store=osp%2Fcil%2Fe1f&srno=s_1_19&otracker=search&otracker1=search&fm=SEARCH&iid=cdbd0ad9-6b0d-4699-8b53-6d7f9af36816.SHOG4KJFJZTNGJ67.SEARCH&ppt=sp&ppn=sp&ssid=dha4h3nexc0000001634220234921&qH=a1743c0d39461290',\n",
       " 'https://www.flipkart.com/khadim-s-sneakers-men/p/itmfeeb2425e484b?pid=SHOFVHYKPABZH76Y&lid=LSTSHOFVHYKPABZH76YQ2VT8L&marketplace=FLIPKART&q=sneakers&store=osp%2Fcil%2Fe1f&srno=s_1_20&otracker=search&otracker1=search&fm=SEARCH&iid=en_%2BF2Eh05phfFzyxyEVwC1UYrwP%2FvSL6%2F4ETFJfpbieLrYO7E9Fh0TlXBxAiouGZxjmgTbnI0jNBSlcN5G%2BVVgFQ%3D%3D&ppt=sp&ppn=sp&ssid=dha4h3nexc0000001634220234921&qH=a1743c0d39461290',\n",
       " 'https://www.flipkart.com/asteroid-original-luxury-branded-fashionable-men-s-casual-walking-partywear-sneakers-running-white-shoes-men/p/itmadb9562baf1cd?pid=SHOG3F72H9FQDJZ5&lid=LSTSHOG3F72H9FQDJZ5WEOJ96&marketplace=FLIPKART&q=sneakers&store=osp%2Fcil%2Fe1f&srno=s_1_21&otracker=search&otracker1=search&fm=SEARCH&iid=cdbd0ad9-6b0d-4699-8b53-6d7f9af36816.SHOG3F72H9FQDJZ5.SEARCH&ppt=sp&ppn=sp&ssid=dha4h3nexc0000001634220234921&qH=a1743c0d39461290',\n",
       " 'https://www.flipkart.com/numenzo-sneakers-men/p/itm072bfb0c5e869?pid=SHOFZ4RGXZGFRJZX&lid=LSTSHOFZ4RGXZGFRJZXKYMBPF&marketplace=FLIPKART&q=sneakers&store=osp%2Fcil%2Fe1f&srno=s_1_22&otracker=search&otracker1=search&fm=SEARCH&iid=cdbd0ad9-6b0d-4699-8b53-6d7f9af36816.SHOFZ4RGXZGFRJZX.SEARCH&ppt=sp&ppn=sp&ssid=dha4h3nexc0000001634220234921&qH=a1743c0d39461290',\n",
       " 'https://www.flipkart.com/believe-sneakers-men-black-9-men/p/itmfdyhg8ezwgav9?pid=SHOFDXWHXS5FHUR7&lid=LSTSHOFDXWHXS5FHUR7H7FNT4&marketplace=FLIPKART&q=sneakers&store=osp%2Fcil%2Fe1f&srno=s_1_23&otracker=search&otracker1=search&fm=SEARCH&iid=cdbd0ad9-6b0d-4699-8b53-6d7f9af36816.SHOFDXWHXS5FHUR7.SEARCH&ppt=sp&ppn=sp&ssid=dha4h3nexc0000001634220234921&qH=a1743c0d39461290',\n",
       " 'https://www.flipkart.com/khadim-s-sneakers-men/p/itm4ca6595d75089?pid=SHOFVHYKHJFN8W4S&lid=LSTSHOFVHYKHJFN8W4SEQI0KP&marketplace=FLIPKART&q=sneakers&store=osp%2Fcil%2Fe1f&srno=s_1_24&otracker=search&otracker1=search&fm=SEARCH&iid=en_%2BF2Eh05phfFzyxyEVwC1UYrwP%2FvSL6%2F4ETFJfpbieLotUK2SgTwc5iAwMwe54M5PPUVXFwgqcMeDh7CuwJs81A%3D%3D&ppt=sp&ppn=sp&ssid=dha4h3nexc0000001634220234921&qH=a1743c0d39461290',\n",
       " 'https://www.flipkart.com/robbie-jones-sneakers-men/p/itmf96edf62c37d8?pid=SHOG6YH4JDYZKGGJ&lid=LSTSHOG6YH4JDYZKGGJQG5RSU&marketplace=FLIPKART&q=sneakers&store=osp%2Fcil%2Fe1f&srno=s_1_25&otracker=search&otracker1=search&fm=SEARCH&iid=cdbd0ad9-6b0d-4699-8b53-6d7f9af36816.SHOG6YH4JDYZKGGJ.SEARCH&ppt=sp&ppn=sp&ssid=dha4h3nexc0000001634220234921&qH=a1743c0d39461290',\n",
       " 'https://www.flipkart.com/edoeviv-luxury-branded-fashionable-men-s-casual-walking-partywear-sneakers-running-white-shoes-men/p/itm507202525ac70?pid=SHOG42Q7UXCSJGKT&lid=LSTSHOG42Q7UXCSJGKTY4XBMJ&marketplace=FLIPKART&q=sneakers&store=osp%2Fcil%2Fe1f&srno=s_1_26&otracker=search&otracker1=search&fm=SEARCH&iid=cdbd0ad9-6b0d-4699-8b53-6d7f9af36816.SHOG42Q7UXCSJGKT.SEARCH&ppt=sp&ppn=sp&ssid=dha4h3nexc0000001634220234921&qH=a1743c0d39461290',\n",
       " 'https://www.flipkart.com/robbie-jones-sneakers-men/p/itmd94e79e694d23?pid=SHOG6YZMMSEF4FG6&lid=LSTSHOG6YZMMSEF4FG6UMTILU&marketplace=FLIPKART&q=sneakers&store=osp%2Fcil%2Fe1f&srno=s_1_27&otracker=search&otracker1=search&fm=SEARCH&iid=cdbd0ad9-6b0d-4699-8b53-6d7f9af36816.SHOG6YZMMSEF4FG6.SEARCH&ppt=sp&ppn=sp&ssid=dha4h3nexc0000001634220234921&qH=a1743c0d39461290',\n",
       " 'https://www.flipkart.com/chevit-perfect-affordable-combo-pack-02-pairs-sneakers-outdoor-loafer-sports-running-rock-climbing-gym-shoes-men/p/itm66ea1242a9ea5?pid=SHOGYRVMYHSC9GDA&lid=LSTSHOGYRVMYHSC9GDAQQTHTH&marketplace=FLIPKART&q=sneakers&store=osp%2Fcil%2Fe1f&srno=s_1_30&otracker=search&otracker1=search&fm=SEARCH&iid=cdbd0ad9-6b0d-4699-8b53-6d7f9af36816.SHOGYRVMYHSC9GDA.SEARCH&ppt=sp&ppn=sp&ssid=dha4h3nexc0000001634220234921&qH=a1743c0d39461290',\n",
       " 'https://www.flipkart.com/bruton-lattest-sneakers-shoe-men/p/itm42e4e64429e8b?pid=SHOG293HHXSZ2TQZ&lid=LSTSHOG293HHXSZ2TQZTWXQ9R&marketplace=FLIPKART&q=sneakers&store=osp%2Fcil%2Fe1f&srno=s_1_31&otracker=search&otracker1=search&fm=SEARCH&iid=cdbd0ad9-6b0d-4699-8b53-6d7f9af36816.SHOG293HHXSZ2TQZ.SEARCH&ppt=sp&ppn=sp&ssid=dha4h3nexc0000001634220234921&qH=a1743c0d39461290',\n",
       " 'https://www.flipkart.com/puma-smash-vulc-v3-lo-sneakers-men/p/itme649109fbc78e?pid=SHOG5CGJCSJNVHRE&lid=LSTSHOG5CGJCSJNVHREIUECC4&marketplace=FLIPKART&q=sneakers&store=osp%2Fcil%2Fe1f&srno=s_1_32&otracker=search&otracker1=search&fm=SEARCH&iid=en_%2BF2Eh05phfFzyxyEVwC1UYrwP%2FvSL6%2F4ETFJfpbieLrJVa2SzKbq1zNWQUA80eXndBfvuSNmVD8eWOmZMUhayQ%3D%3D&ppt=sp&ppn=sp&ssid=dha4h3nexc0000001634220234921&qH=a1743c0d39461290',\n",
       " 'https://www.flipkart.com/scatchite-sneakers-men/p/itmc13680b1d9604?pid=SHOFUDSUUG8AAMZZ&lid=LSTSHOFUDSUUG8AAMZZXEJRH6&marketplace=FLIPKART&q=sneakers&store=osp%2Fcil%2Fe1f&srno=s_1_33&otracker=search&otracker1=search&fm=SEARCH&iid=cdbd0ad9-6b0d-4699-8b53-6d7f9af36816.SHOFUDSUUG8AAMZZ.SEARCH&ppt=sp&ppn=sp&ssid=dha4h3nexc0000001634220234921&qH=a1743c0d39461290',\n",
       " 'https://www.flipkart.com/numenzo-black-sneaker-men-sneakers/p/itm472e25e134b1d?pid=SHOG4KFRCZCGYQZ6&lid=LSTSHOG4KFRCZCGYQZ6VZ35FA&marketplace=FLIPKART&q=sneakers&store=osp%2Fcil%2Fe1f&srno=s_1_34&otracker=search&otracker1=search&fm=SEARCH&iid=cdbd0ad9-6b0d-4699-8b53-6d7f9af36816.SHOG4KFRCZCGYQZ6.SEARCH&ppt=sp&ppn=sp&ssid=dha4h3nexc0000001634220234921&qH=a1743c0d39461290',\n",
       " 'https://www.flipkart.com/essence-sneakers-men/p/itmc3d0142b55301?pid=SHOFK4QZX9QGMGNX&lid=LSTSHOFK4QZX9QGMGNXASZOVK&marketplace=FLIPKART&q=sneakers&store=osp%2Fcil%2Fe1f&srno=s_1_35&otracker=search&otracker1=search&fm=SEARCH&iid=cdbd0ad9-6b0d-4699-8b53-6d7f9af36816.SHOFK4QZX9QGMGNX.SEARCH&ppt=sp&ppn=sp&ssid=dha4h3nexc0000001634220234921&qH=a1743c0d39461290',\n",
       " 'https://www.flipkart.com/fausto-trendy-sneakers-men/p/itmf3xugvvrfu73q?pid=SHOEXBSJSGQ7WWSU&lid=LSTSHOEXBSJSGQ7WWSUSRP5RH&marketplace=FLIPKART&q=sneakers&store=osp%2Fcil%2Fe1f&srno=s_1_36&otracker=search&otracker1=search&fm=SEARCH&iid=en_%2BF2Eh05phfFzyxyEVwC1UYrwP%2FvSL6%2F4ETFJfpbieLp%2Fk6IHTeTx04jW6xM6WWebGGf2u0F6uWTPPl11Zv2I7w%3D%3D&ppt=sp&ppn=sp&ssid=dha4h3nexc0000001634220234921&qH=a1743c0d39461290',\n",
       " 'https://www.flipkart.com/robbie-jones-sneakers-men/p/itmed5242b75c69f?pid=SHOG5Y5AKNTT8DPC&lid=LSTSHOG5Y5AKNTT8DPCNVIEV5&marketplace=FLIPKART&q=sneakers&store=osp%2Fcil%2Fe1f&srno=s_1_37&otracker=search&otracker1=search&fm=SEARCH&iid=cdbd0ad9-6b0d-4699-8b53-6d7f9af36816.SHOG5Y5AKNTT8DPC.SEARCH&ppt=sp&ppn=sp&ssid=dha4h3nexc0000001634220234921&qH=a1743c0d39461290',\n",
       " 'https://www.flipkart.com/sparx-sm-322-sneakers-men/p/itmf27234d02f4d7?pid=SHOFFTAEFTNJGQ5W&lid=LSTSHOFFTAEFTNJGQ5WQKICS9&marketplace=FLIPKART&q=sneakers&store=osp%2Fcil%2Fe1f&srno=s_1_38&otracker=search&otracker1=search&fm=SEARCH&iid=cdbd0ad9-6b0d-4699-8b53-6d7f9af36816.SHOFFTAEFTNJGQ5W.SEARCH&ppt=sp&ppn=sp&ssid=dha4h3nexc0000001634220234921&qH=a1743c0d39461290',\n",
       " 'https://www.flipkart.com/bruton-combo-pack-2-latest-stylish-casual-shoes-men-lace-up-lightweight-multicolor-sport-star-casuals-sneakers/p/itm8e0b28cc30bf1?pid=SHOG55RYFSZZMXZD&lid=LSTSHOG55RYFSZZMXZD3E8RIE&marketplace=FLIPKART&q=sneakers&store=osp%2Fcil%2Fe1f&srno=s_1_39&otracker=search&otracker1=search&fm=SEARCH&iid=cdbd0ad9-6b0d-4699-8b53-6d7f9af36816.SHOG55RYFSZZMXZD.SEARCH&ppt=sp&ppn=sp&ssid=dha4h3nexc0000001634220234921&qH=a1743c0d39461290',\n",
       " 'https://www.flipkart.com/puma-sneakers-men/p/itm4f25671660d39?pid=SHOFZFGFRVGGH3DP&lid=LSTSHOFZFGFRVGGH3DPMXJKR0&marketplace=FLIPKART&q=sneakers&store=osp%2Fcil%2Fe1f&srno=s_1_40&otracker=search&otracker1=search&fm=SEARCH&iid=en_%2BF2Eh05phfFzyxyEVwC1UYrwP%2FvSL6%2F4ETFJfpbieLrSfh89Nb7z5hHZxqk1KHxPSCOGGeC2HPOclZN8UL4Alg%3D%3D&ppt=sp&ppn=sp&ssid=dha4h3nexc0000001634220234921&qH=a1743c0d39461290',\n",
       " 'https://www.flipkart.com/bluemaker-casual-men-beige-06-sneakers/p/itm04e50500732a9?pid=SHOFUSH7TPF8HXZA&lid=LSTSHOFUSH7TPF8HXZA0I23QQ&marketplace=FLIPKART&q=sneakers&store=osp%2Fcil%2Fe1f&srno=s_2_41&otracker=search&otracker1=search&fm=SEARCH&iid=ffcf10e6-82f7-4551-8c0a-10220ddba8f8.SHOFUSH7TPF8HXZA.SEARCH&ppt=sp&ppn=sp&ssid=dha4h3nexc0000001634220234921&qH=a1743c0d39461290',\n",
       " 'https://www.flipkart.com/chevit-168-smart-red-lace-ups-casuals-men-sneakers/p/itm5c134759c0c78?pid=SHOFZD8FAWQQZDFB&lid=LSTSHOFZD8FAWQQZDFBJBHH12&marketplace=FLIPKART&q=sneakers&store=osp%2Fcil%2Fe1f&srno=s_2_42&otracker=search&otracker1=search&fm=SEARCH&iid=ffcf10e6-82f7-4551-8c0a-10220ddba8f8.SHOFZD8FAWQQZDFB.SEARCH&ppt=sp&ppn=sp&ssid=dha4h3nexc0000001634220234921&qH=a1743c0d39461290',\n",
       " 'https://www.flipkart.com/shoes-bank-white-sneaker-men-s-boy-s-sneakers-men/p/itmf9p2zdypz2jyt?pid=SHOF9Z76DWFGAFWY&lid=LSTSHOF9Z76DWFGAFWYSDVYDU&marketplace=FLIPKART&q=sneakers&store=osp%2Fcil%2Fe1f&srno=s_2_43&otracker=search&otracker1=search&fm=SEARCH&iid=ffcf10e6-82f7-4551-8c0a-10220ddba8f8.SHOF9Z76DWFGAFWY.SEARCH&ppt=sp&ppn=sp&ssid=dha4h3nexc0000001634220234921&qH=a1743c0d39461290',\n",
       " 'https://www.flipkart.com/chevit-combo-pack-4-casual-sneakers-men/p/itmfg2ybzgeygd6t?pid=SHOFGY97JGZTBRHY&lid=LSTSHOFGY97JGZTBRHYNHQPWS&marketplace=FLIPKART&q=sneakers&store=osp%2Fcil%2Fe1f&srno=s_2_44&otracker=search&otracker1=search&fm=SEARCH&iid=en_btTuAcIa3ladhxVya5veRGuGpwqXEb2J2iuyep%2FJDGndFSmqjeEbvzpaFpgpjhBe9JHTijj1js9rXHmilcx7nA%3D%3D&ppt=sp&ppn=sp&ssid=dha4h3nexc0000001634220234921&qH=a1743c0d39461290',\n",
       " 'https://www.flipkart.com/india-hub-fashionable-sneaker-casual-shoes-sneakers-men/p/itm3371523918c5d?pid=SHOG4N2Z2M4FWTFG&lid=LSTSHOG4N2Z2M4FWTFGAH7R6A&marketplace=FLIPKART&q=sneakers&store=osp%2Fcil%2Fe1f&srno=s_2_45&otracker=search&otracker1=search&fm=SEARCH&iid=ffcf10e6-82f7-4551-8c0a-10220ddba8f8.SHOG4N2Z2M4FWTFG.SEARCH&ppt=sp&ppn=sp&ssid=dha4h3nexc0000001634220234921&qH=a1743c0d39461290',\n",
       " 'https://www.flipkart.com/roddick-shoes-fashion-outdoor-canvas-casual-light-weight-lace-up-evening-walk-running-men-sneakers/p/itmef0811c89a216?pid=SHOG48D84NUTCM3N&lid=LSTSHOG48D84NUTCM3NHEKV1K&marketplace=FLIPKART&q=sneakers&store=osp%2Fcil%2Fe1f&srno=s_2_46&otracker=search&otracker1=search&fm=SEARCH&iid=ffcf10e6-82f7-4551-8c0a-10220ddba8f8.SHOG48D84NUTCM3N.SEARCH&ppt=sp&ppn=sp&ssid=dha4h3nexc0000001634220234921&qH=a1743c0d39461290',\n",
       " 'https://www.flipkart.com/chevit-171-smart-tan-lace-ups-casuals-men-sneakers/p/itm388814db0265d?pid=SHOFZD3ZS4YH4WAK&lid=LSTSHOFZD3ZS4YH4WAKPAYDKI&marketplace=FLIPKART&q=sneakers&store=osp%2Fcil%2Fe1f&srno=s_2_47&otracker=search&otracker1=search&fm=SEARCH&iid=ffcf10e6-82f7-4551-8c0a-10220ddba8f8.SHOFZD3ZS4YH4WAK.SEARCH&ppt=sp&ppn=sp&ssid=dha4h3nexc0000001634220234921&qH=a1743c0d39461290',\n",
       " 'https://www.flipkart.com/sparx-men-white-sneakers/p/itm141566c73dce4?pid=SHOFBJ22PCVDAYGE&lid=LSTSHOFBJ22PCVDAYGEMRA0F5&marketplace=FLIPKART&q=sneakers&store=osp%2Fcil%2Fe1f&srno=s_2_50&otracker=search&otracker1=search&fm=SEARCH&iid=ffcf10e6-82f7-4551-8c0a-10220ddba8f8.SHOFBJ22PCVDAYGE.SEARCH&ppt=sp&ppn=sp&ssid=dha4h3nexc0000001634220234921&qH=a1743c0d39461290',\n",
       " 'https://www.flipkart.com/airland-shoe-sneakers-men/p/itm1afbf93d2e019?pid=SHOFZ37YEQPE4ZG9&lid=LSTSHOFZ37YEQPE4ZG98YACHE&marketplace=FLIPKART&q=sneakers&store=osp%2Fcil%2Fe1f&srno=s_2_51&otracker=search&otracker1=search&fm=SEARCH&iid=ffcf10e6-82f7-4551-8c0a-10220ddba8f8.SHOFZ37YEQPE4ZG9.SEARCH&ppt=sp&ppn=sp&ssid=dha4h3nexc0000001634220234921&qH=a1743c0d39461290',\n",
       " 'https://www.flipkart.com/chevit-speed-set-5-pairs-sneakers-outdoors-casuals-men/p/itmccd9dcb86e757?pid=SHOFWJJFGKQEQFFW&lid=LSTSHOFWJJFGKQEQFFW0CKGNI&marketplace=FLIPKART&q=sneakers&store=osp%2Fcil%2Fe1f&srno=s_2_52&otracker=search&otracker1=search&fm=SEARCH&iid=en_btTuAcIa3ladhxVya5veRGuGpwqXEb2J2iuyep%2FJDGkSzWApVKspwGVF9i4KzWQgARSjt0L37GgGytM0KeFKew%3D%3D&ppt=sp&ppn=sp&ssid=dha4h3nexc0000001634220234921&qH=a1743c0d39461290',\n",
       " 'https://www.flipkart.com/bluemaker-casual-shoe-men-sneakers/p/itm3694200bdaf02?pid=SHOFP4YXWUGZSMKG&lid=LSTSHOFP4YXWUGZSMKG41CNUK&marketplace=FLIPKART&q=sneakers&store=osp%2Fcil%2Fe1f&srno=s_2_53&otracker=search&otracker1=search&fm=SEARCH&iid=ffcf10e6-82f7-4551-8c0a-10220ddba8f8.SHOFP4YXWUGZSMKG.SEARCH&ppt=sp&ppn=sp&ssid=dha4h3nexc0000001634220234921&qH=a1743c0d39461290',\n",
       " 'https://www.flipkart.com/luxury-fashion-fashionable-casual-shoes-sneakers-men/p/itm2c220c7d857aa?pid=SHOG56XZDY3FZVFK&lid=LSTSHOG56XZDY3FZVFKQ5YZKO&marketplace=FLIPKART&q=sneakers&store=osp%2Fcil%2Fe1f&srno=s_2_54&otracker=search&otracker1=search&fm=SEARCH&iid=ffcf10e6-82f7-4551-8c0a-10220ddba8f8.SHOG56XZDY3FZVFK.SEARCH&ppt=sp&ppn=sp&ssid=dha4h3nexc0000001634220234921&qH=a1743c0d39461290',\n",
       " 'https://www.flipkart.com/chevit-super-stylish-trendy-combo-pack-02-pairs-sneakers-outdoor-loafer-sports-running-rock-climbing-gym-shoes-men/p/itmfce3a6f2183d4?pid=SHOGFVTAG39Y7ZHY&lid=LSTSHOGFVTAG39Y7ZHYPHBMOZ&marketplace=FLIPKART&q=sneakers&store=osp%2Fcil%2Fe1f&srno=s_2_55&otracker=search&otracker1=search&fm=SEARCH&iid=ffcf10e6-82f7-4551-8c0a-10220ddba8f8.SHOGFVTAG39Y7ZHY.SEARCH&ppt=sp&ppn=sp&ssid=dha4h3nexc0000001634220234921&qH=a1743c0d39461290',\n",
       " 'https://www.flipkart.com/bluemaker-casual-men-blue-10-sneakers/p/itm3f838f669177a?pid=SHOFUSH7PGGHGJUE&lid=LSTSHOFUSH7PGGHGJUEBDK02O&marketplace=FLIPKART&q=sneakers&store=osp%2Fcil%2Fe1f&srno=s_2_57&otracker=search&otracker1=search&fm=SEARCH&iid=ffcf10e6-82f7-4551-8c0a-10220ddba8f8.SHOFUSH7PGGHGJUE.SEARCH&ppt=sp&ppn=sp&ssid=dha4h3nexc0000001634220234921&qH=a1743c0d39461290',\n",
       " 'https://www.flipkart.com/arohi-sneakers-men/p/itm6902e4b22d54d?pid=SHOFZUBJEZGYCJXZ&lid=LSTSHOFZUBJEZGYCJXZQBFB6N&marketplace=FLIPKART&q=sneakers&store=osp%2Fcil%2Fe1f&srno=s_2_58&otracker=search&otracker1=search&fm=SEARCH&iid=ffcf10e6-82f7-4551-8c0a-10220ddba8f8.SHOFZUBJEZGYCJXZ.SEARCH&ppt=sp&ppn=sp&ssid=dha4h3nexc0000001634220234921&qH=a1743c0d39461290',\n",
       " 'https://www.flipkart.com/puma-vikky-v2-sneakers-men/p/itm14b1d9cd63d11?pid=SHOG5HFQHF39FZT2&lid=LSTSHOG5HFQHF39FZT2KD4DTI&marketplace=FLIPKART&q=sneakers&store=osp%2Fcil%2Fe1f&srno=s_2_60&otracker=search&otracker1=search&fm=SEARCH&iid=en_btTuAcIa3ladhxVya5veRGuGpwqXEb2J2iuyep%2FJDGllTMFsu%2FfQYmfvpUj%2B0rgPRkxnqWCE5XkoONe9vv59eQ%3D%3D&ppt=sp&ppn=sp&ssid=dha4h3nexc0000001634220234921&qH=a1743c0d39461290',\n",
       " 'https://www.flipkart.com/hoc-luxury-fashionable-casual-sneakers-shoes-men-boy/p/itmd935b86ba7130?pid=SHOG5GYNS4YU6KBT&lid=LSTSHOG5GYNS4YU6KBTJXVHWS&marketplace=FLIPKART&q=sneakers&store=osp%2Fcil%2Fe1f&srno=s_2_61&otracker=search&otracker1=search&fm=SEARCH&iid=ffcf10e6-82f7-4551-8c0a-10220ddba8f8.SHOG5GYNS4YU6KBT.SEARCH&ppt=sp&ppn=sp&ssid=dha4h3nexc0000001634220234921&qH=a1743c0d39461290',\n",
       " 'https://www.flipkart.com/hrx-hrithik-roshan-sneakers-men/p/itm24aa8834d5df6?pid=SHOG6B6A9ZQAHU58&lid=LSTSHOG6B6A9ZQAHU58QDIJTY&marketplace=FLIPKART&q=sneakers&store=osp%2Fcil%2Fe1f&srno=s_2_62&otracker=search&otracker1=search&fm=SEARCH&iid=ffcf10e6-82f7-4551-8c0a-10220ddba8f8.SHOG6B6A9ZQAHU58.SEARCH&ppt=sp&ppn=sp&ssid=dha4h3nexc0000001634220234921&qH=a1743c0d39461290',\n",
       " 'https://www.flipkart.com/roddick-shoes-fashion-outdoor-canvas-casual-light-weight-lace-up-evening-walk-running-men-sneakers/p/itm60a27f5e97e8a?pid=SHOG48D2D4N3CJKR&lid=LSTSHOG48D2D4N3CJKRPZBP3W&marketplace=FLIPKART&q=sneakers&store=osp%2Fcil%2Fe1f&srno=s_2_63&otracker=search&otracker1=search&fm=SEARCH&iid=ffcf10e6-82f7-4551-8c0a-10220ddba8f8.SHOG48D2D4N3CJKR.SEARCH&ppt=sp&ppn=sp&ssid=dha4h3nexc0000001634220234921&qH=a1743c0d39461290',\n",
       " 'https://www.flipkart.com/nilatin-sneakers-men/p/itma5721976f2c1c?pid=SHOG4Z2SHA6KEYXG&lid=LSTSHOG4Z2SHA6KEYXGLZZOBG&marketplace=FLIPKART&q=sneakers&store=osp%2Fcil%2Fe1f&srno=s_2_65&otracker=search&otracker1=search&fm=SEARCH&iid=ffcf10e6-82f7-4551-8c0a-10220ddba8f8.SHOG4Z2SHA6KEYXG.SEARCH&ppt=sp&ppn=sp&ssid=dha4h3nexc0000001634220234921&qH=a1743c0d39461290',\n",
       " 'https://www.flipkart.com/india-hub-luxury-fashionable-casual-sneaker-shoes-sneakers-men/p/itme80c2b19b8a73?pid=SHOG56MZVEZEXNFH&lid=LSTSHOG56MZVEZEXNFHLBF9L3&marketplace=FLIPKART&q=sneakers&store=osp%2Fcil%2Fe1f&srno=s_2_66&otracker=search&otracker1=search&fm=SEARCH&iid=ffcf10e6-82f7-4551-8c0a-10220ddba8f8.SHOG56MZVEZEXNFH.SEARCH&ppt=sp&ppn=sp&ssid=dha4h3nexc0000001634220234921&qH=a1743c0d39461290',\n",
       " 'https://www.flipkart.com/kraasa-casuals-canvas-partywear-sneakers-men/p/itm3b6ebb856eb64?pid=SHOFGGF775EQNSMW&lid=LSTSHOFGGF775EQNSMWJWRGWA&marketplace=FLIPKART&q=sneakers&store=osp%2Fcil%2Fe1f&srno=s_2_67&otracker=search&otracker1=search&fm=SEARCH&iid=ffcf10e6-82f7-4551-8c0a-10220ddba8f8.SHOFGGF775EQNSMW.SEARCH&ppt=sp&ppn=sp&ssid=dha4h3nexc0000001634220234921&qH=a1743c0d39461290',\n",
       " 'https://www.flipkart.com/puma-rebound-street-v2-l-sneakers-men/p/itmfbn9wkufdg5wk?pid=SHOFBMDDPTU88VHY&lid=LSTSHOFBMDDPTU88VHY5OFO9F&marketplace=FLIPKART&q=sneakers&store=osp%2Fcil%2Fe1f&srno=s_2_68&otracker=search&otracker1=search&fm=SEARCH&iid=en_btTuAcIa3ladhxVya5veRGuGpwqXEb2J2iuyep%2FJDGk7mJ7v3GArtZT1ZcHXQceTvuILQRGXFUd4t7E%2By%2FDB%2Bw%3D%3D&ppt=sp&ppn=sp&ssid=dha4h3nexc0000001634220234921&qH=a1743c0d39461290',\n",
       " 'https://www.flipkart.com/birde-combo-pack-2-casual-shoes-sneakers-men/p/itm860b3eb6cfa69?pid=SHOFZ5HQJGZP5FM8&lid=LSTSHOFZ5HQJGZP5FM8ROF0WF&marketplace=FLIPKART&q=sneakers&store=osp%2Fcil%2Fe1f&srno=s_2_69&otracker=search&otracker1=search&fm=SEARCH&iid=ffcf10e6-82f7-4551-8c0a-10220ddba8f8.SHOFZ5HQJGZP5FM8.SEARCH&ppt=sp&ppn=sp&ssid=dha4h3nexc0000001634220234921&qH=a1743c0d39461290',\n",
       " 'https://www.flipkart.com/pexlo-combo-pack-3-casual-shoes-sneakers-men/p/itmf6qz3tpzgphwe?pid=SHOF6NKGUGZWVJM3&lid=LSTSHOF6NKGUGZWVJM3ZADGFZ&marketplace=FLIPKART&q=sneakers&store=osp%2Fcil%2Fe1f&srno=s_2_71&otracker=search&otracker1=search&fm=SEARCH&iid=ffcf10e6-82f7-4551-8c0a-10220ddba8f8.SHOF6NKGUGZWVJM3.SEARCH&ppt=sp&ppn=sp&ssid=dha4h3nexc0000001634220234921&qH=a1743c0d39461290',\n",
       " 'https://www.flipkart.com/zovim-jeans-shoes-boys-sneakers-men/p/itmf3xvrdbjwgzvw?pid=SHOF2NXHV2FQMXGG&lid=LSTSHOF2NXHV2FQMXGGR9RQLP&marketplace=FLIPKART&q=sneakers&store=osp%2Fcil%2Fe1f&srno=s_2_73&otracker=search&otracker1=search&fm=SEARCH&iid=ffcf10e6-82f7-4551-8c0a-10220ddba8f8.SHOF2NXHV2FQMXGG.SEARCH&ppt=sp&ppn=sp&ssid=dha4h3nexc0000001634220234921&qH=a1743c0d39461290',\n",
       " 'https://www.flipkart.com/k-footlance-fashion-stylish-soft-ultralight-lace-up-sneakers-causal-shoes-men/p/itm96f32b960de3a?pid=SHOFZPX8NZ3YAEJ9&lid=LSTSHOFZPX8NZ3YAEJ92SKUKO&marketplace=FLIPKART&q=sneakers&store=osp%2Fcil%2Fe1f&srno=s_2_74&otracker=search&otracker1=search&fm=SEARCH&iid=ffcf10e6-82f7-4551-8c0a-10220ddba8f8.SHOFZPX8NZ3YAEJ9.SEARCH&ppt=sp&ppn=sp&ssid=dha4h3nexc0000001634220234921&qH=a1743c0d39461290',\n",
       " 'https://www.flipkart.com/jack-jones-jfwbanna-print-pu-sneakers-men/p/itma6bb668c19a2d?pid=SHOFV2ACKHDPGUQH&lid=LSTSHOFV2ACKHDPGUQHFYGM4K&marketplace=FLIPKART&q=sneakers&store=osp%2Fcil%2Fe1f&srno=s_2_76&otracker=search&otracker1=search&fm=SEARCH&iid=en_btTuAcIa3ladhxVya5veRGuGpwqXEb2J2iuyep%2FJDGl%2F4r3Km7b1nO1hKCSeUFVqVZdLar6k28vTlLcSaQFrDQ%3D%3D&ppt=sp&ppn=sp&ssid=dha4h3nexc0000001634220234921&qH=a1743c0d39461290',\n",
       " 'https://www.flipkart.com/nautica-sneakers-men/p/itmd575d13df6042?pid=SHOG5GV7AKJGCXFW&lid=LSTSHOG5GV7AKJGCXFWAFLDZH&marketplace=FLIPKART&q=sneakers&store=osp%2Fcil%2Fe1f&srno=s_2_77&otracker=search&otracker1=search&fm=SEARCH&iid=ffcf10e6-82f7-4551-8c0a-10220ddba8f8.SHOG5GV7AKJGCXFW.SEARCH&ppt=sp&ppn=sp&ssid=dha4h3nexc0000001634220234921&qH=a1743c0d39461290',\n",
       " 'https://www.flipkart.com/birde-sneakers-men/p/itmfbzptkfaunxew?pid=SHOEXZYFM4DQAYWU&lid=LSTSHOEXZYFM4DQAYWUZOGOQO&marketplace=FLIPKART&q=sneakers&store=osp%2Fcil%2Fe1f&srno=s_2_78&otracker=search&otracker1=search&fm=SEARCH&iid=ffcf10e6-82f7-4551-8c0a-10220ddba8f8.SHOEXZYFM4DQAYWU.SEARCH&ppt=sp&ppn=sp&ssid=dha4h3nexc0000001634220234921&qH=a1743c0d39461290',\n",
       " 'https://www.flipkart.com/allen-solly-sneakers-men/p/itmea1b4db8eb97e?pid=SHOFNPW7QJYXJ5WF&lid=LSTSHOFNPW7QJYXJ5WFBWWVQK&marketplace=FLIPKART&q=sneakers&store=osp%2Fcil%2Fe1f&srno=s_2_79&otracker=search&otracker1=search&fm=SEARCH&iid=ffcf10e6-82f7-4551-8c0a-10220ddba8f8.SHOFNPW7QJYXJ5WF.SEARCH&ppt=sp&ppn=sp&ssid=dha4h3nexc0000001634220234921&qH=a1743c0d39461290',\n",
       " 'https://www.flipkart.com/paragon-sneakers-men/p/itmea11861f194d5?pid=SHOFNZHFDNEZHPJR&lid=LSTSHOFNZHFDNEZHPJRH3NQ96&marketplace=FLIPKART&q=sneakers&store=osp%2Fcil%2Fe1f&srno=s_2_80&otracker=search&otracker1=search&fm=SEARCH&iid=en_btTuAcIa3ladhxVya5veRGuGpwqXEb2J2iuyep%2FJDGlELZcJeYmn%2F6KvNc15PmVmeSkRy4vioPtcb0jdQ1Cv3Q%3D%3D&ppt=sp&ppn=sp&ssid=dha4h3nexc0000001634220234921&qH=a1743c0d39461290']"
      ]
     },
     "execution_count": 72,
     "metadata": {},
     "output_type": "execute_result"
    }
   ],
   "source": [
    "URL"
   ]
  },
  {
   "cell_type": "code",
   "execution_count": 73,
   "metadata": {},
   "outputs": [],
   "source": [
    "list_of_url=URL[0:100]"
   ]
  },
  {
   "cell_type": "code",
   "execution_count": 74,
   "metadata": {},
   "outputs": [
    {
     "name": "stderr",
     "output_type": "stream",
     "text": [
      "100%|██████████| 100/100 [17:47<00:00, 10.67s/it]\n"
     ]
    }
   ],
   "source": [
    "#running a loop to extract all the required information from the list_of_url\n",
    "from tqdm import tqdm\n",
    "for i in tqdm(list_of_url):\n",
    "    driver.get(i)\n",
    "    try:\n",
    "        brand=driver.find_element_by_xpath(\"//span[@class='G6XhRU']\").text\n",
    "        Brand.append(brand)\n",
    "        description=driver.find_element_by_xpath(\"//span[@class='B_NuCI']\").text\n",
    "        Product_Description.append(description)\n",
    "        price=driver.find_element_by_xpath(\"//div[@class='_30jeq3 _16Jk6d']\").text\n",
    "        Price.append(price)\n",
    "        discount=driver.find_element_by_xpath(\"//div[@class='_3Ay6Sb _31Dcoz pZkvcx']/span\").text\n",
    "        Discount.append(discount)\n",
    "    except NoSuchElementException:\n",
    "        Brand.append(\"Null\")\n",
    "        Product_Description.append(\"Null\")\n",
    "        Price.append(\"Null\")\n",
    "        Discount.append('Null')\n",
    "    time.sleep(3)"
   ]
  },
  {
   "cell_type": "code",
   "execution_count": 75,
   "metadata": {},
   "outputs": [
    {
     "name": "stdout",
     "output_type": "stream",
     "text": [
      "210 210 210 200\n"
     ]
    }
   ],
   "source": [
    "print(len(Brand),len(Product_Description),len(Price),len(Discount))"
   ]
  },
  {
   "cell_type": "code",
   "execution_count": 76,
   "metadata": {},
   "outputs": [
    {
     "data": {
      "text/html": [
       "<div>\n",
       "<style scoped>\n",
       "    .dataframe tbody tr th:only-of-type {\n",
       "        vertical-align: middle;\n",
       "    }\n",
       "\n",
       "    .dataframe tbody tr th {\n",
       "        vertical-align: top;\n",
       "    }\n",
       "\n",
       "    .dataframe thead th {\n",
       "        text-align: right;\n",
       "    }\n",
       "</style>\n",
       "<table border=\"1\" class=\"dataframe\">\n",
       "  <thead>\n",
       "    <tr style=\"text-align: right;\">\n",
       "      <th></th>\n",
       "      <th>Brand</th>\n",
       "      <th>Product_Description</th>\n",
       "      <th>Price</th>\n",
       "      <th>Discount</th>\n",
       "    </tr>\n",
       "  </thead>\n",
       "  <tbody>\n",
       "    <tr>\n",
       "      <th>0</th>\n",
       "      <td>Fastrack</td>\n",
       "      <td>UV Protection Wayfarer Sunglasses (Free Size) ...</td>\n",
       "      <td>₹758</td>\n",
       "      <td>15% off</td>\n",
       "    </tr>\n",
       "    <tr>\n",
       "      <th>1</th>\n",
       "      <td>PIRASO</td>\n",
       "      <td>UV Protection Aviator Sunglasses (54)  (For Me...</td>\n",
       "      <td>₹200</td>\n",
       "      <td>87% off</td>\n",
       "    </tr>\n",
       "    <tr>\n",
       "      <th>2</th>\n",
       "      <td>PIRASO</td>\n",
       "      <td>UV Protection Aviator Sunglasses (54)  (For Me...</td>\n",
       "      <td>₹200</td>\n",
       "      <td>87% off</td>\n",
       "    </tr>\n",
       "    <tr>\n",
       "      <th>3</th>\n",
       "      <td>Elligator</td>\n",
       "      <td>UV Protection Round Sunglasses (54)  (For Men ...</td>\n",
       "      <td>₹295</td>\n",
       "      <td>88% off</td>\n",
       "    </tr>\n",
       "    <tr>\n",
       "      <th>4</th>\n",
       "      <td>Fastrack</td>\n",
       "      <td>Gradient, UV Protection Wayfarer Sunglasses (F...</td>\n",
       "      <td>₹509</td>\n",
       "      <td>36% off</td>\n",
       "    </tr>\n",
       "    <tr>\n",
       "      <th>...</th>\n",
       "      <td>...</td>\n",
       "      <td>...</td>\n",
       "      <td>...</td>\n",
       "      <td>...</td>\n",
       "    </tr>\n",
       "    <tr>\n",
       "      <th>95</th>\n",
       "      <td>Fastrack</td>\n",
       "      <td>Mirrored, UV Protection Wayfarer Sunglasses (F...</td>\n",
       "      <td>₹738</td>\n",
       "      <td>89% off</td>\n",
       "    </tr>\n",
       "    <tr>\n",
       "      <th>96</th>\n",
       "      <td>Fastrack</td>\n",
       "      <td>UV Protection Aviator Sunglasses (Free Size)  ...</td>\n",
       "      <td>₹689</td>\n",
       "      <td>86% off</td>\n",
       "    </tr>\n",
       "    <tr>\n",
       "      <th>97</th>\n",
       "      <td>Singco India</td>\n",
       "      <td>UV Protection, Riding Glasses, Others Aviator,...</td>\n",
       "      <td>₹229</td>\n",
       "      <td>65% off</td>\n",
       "    </tr>\n",
       "    <tr>\n",
       "      <th>98</th>\n",
       "      <td>Fastrack</td>\n",
       "      <td>Gradient, UV Protection Wayfarer Sunglasses (F...</td>\n",
       "      <td>₹652</td>\n",
       "      <td>35% off</td>\n",
       "    </tr>\n",
       "    <tr>\n",
       "      <th>99</th>\n",
       "      <td>kingsunglasses</td>\n",
       "      <td>Mirrored, UV Protection Wayfarer Sunglasses (F...</td>\n",
       "      <td>₹284</td>\n",
       "      <td>60% off</td>\n",
       "    </tr>\n",
       "  </tbody>\n",
       "</table>\n",
       "<p>100 rows × 4 columns</p>\n",
       "</div>"
      ],
      "text/plain": [
       "              Brand                                Product_Description Price  \\\n",
       "0         Fastrack   UV Protection Wayfarer Sunglasses (Free Size) ...  ₹758   \n",
       "1           PIRASO   UV Protection Aviator Sunglasses (54)  (For Me...  ₹200   \n",
       "2           PIRASO   UV Protection Aviator Sunglasses (54)  (For Me...  ₹200   \n",
       "3        Elligator   UV Protection Round Sunglasses (54)  (For Men ...  ₹295   \n",
       "4         Fastrack   Gradient, UV Protection Wayfarer Sunglasses (F...  ₹509   \n",
       "..              ...                                                ...   ...   \n",
       "95        Fastrack   Mirrored, UV Protection Wayfarer Sunglasses (F...  ₹738   \n",
       "96        Fastrack   UV Protection Aviator Sunglasses (Free Size)  ...  ₹689   \n",
       "97    Singco India   UV Protection, Riding Glasses, Others Aviator,...  ₹229   \n",
       "98        Fastrack   Gradient, UV Protection Wayfarer Sunglasses (F...  ₹652   \n",
       "99  kingsunglasses   Mirrored, UV Protection Wayfarer Sunglasses (F...  ₹284   \n",
       "\n",
       "   Discount  \n",
       "0   15% off  \n",
       "1   87% off  \n",
       "2   87% off  \n",
       "3   88% off  \n",
       "4   36% off  \n",
       "..      ...  \n",
       "95  89% off  \n",
       "96  86% off  \n",
       "97  65% off  \n",
       "98  35% off  \n",
       "99  60% off  \n",
       "\n",
       "[100 rows x 4 columns]"
      ]
     },
     "execution_count": 76,
     "metadata": {},
     "output_type": "execute_result"
    }
   ],
   "source": [
    "Sneakers=pd.DataFrame({})\n",
    "Sneakers['Brand']=Brand[:100]\n",
    "Sneakers['Product_Description']=Product_Description[:100]\n",
    "Sneakers['Price']=Price[:100]\n",
    "Sneakers['Discount']=Discount[:100]\n",
    "Sneakers"
   ]
  },
  {
   "cell_type": "markdown",
   "metadata": {},
   "source": [
    "## Q9: Go to the link - https://www.myntra.com/shoes Set Price filter to “Rs. 6649 to Rs. 13099” , Color filter to “Black”, as shown inthe below image And then scrape First 100 shoes data you get. The data should include “Brand” of the shoes , Short Shoe description, price of the shoe as shown in the below image.\n",
    "Please note that applying the filter and scraping the data , everything should be done through code only and there should not be any manual step.\n"
   ]
  },
  {
   "cell_type": "code",
   "execution_count": 117,
   "metadata": {},
   "outputs": [],
   "source": [
    "import selenium\n",
    "import pandas as pd\n",
    "from selenium import webdriver\n",
    "import time\n",
    "from selenium.common.exceptions import NoSuchElementException\n",
    "\n",
    "# connecting Webdriver\n",
    "driver = webdriver.Chrome(r'C:\\chromedriver.exe')\n",
    "driver\n",
    "\n",
    "# Opening naukri.com\n",
    "url ='https://www.myntra.com/shoes'\n",
    "driver.get(url)"
   ]
  },
  {
   "cell_type": "markdown",
   "metadata": {},
   "source": [
    "#### Selecting Price filter and color"
   ]
  },
  {
   "cell_type": "code",
   "execution_count": 118,
   "metadata": {},
   "outputs": [],
   "source": [
    "driver.find_element_by_xpath('//*[@id=\"mountRoot\"]/div/div[1]/main/div[3]/div[1]/section/div/div[5]/ul/li[2]/label').click()"
   ]
  },
  {
   "cell_type": "code",
   "execution_count": 119,
   "metadata": {},
   "outputs": [],
   "source": [
    "driver.find_element_by_xpath('//*[@id=\"mountRoot\"]/div/div[1]/main/div[3]/div[1]/section/div/div[6]/ul/li[1]/label').click()"
   ]
  },
  {
   "cell_type": "code",
   "execution_count": 120,
   "metadata": {},
   "outputs": [],
   "source": [
    "#creating the empty lists\n",
    "Brand=[]\n",
    "Product_Description=[]\n",
    "Price=[]"
   ]
  },
  {
   "cell_type": "code",
   "execution_count": 121,
   "metadata": {},
   "outputs": [],
   "source": [
    "URL=[]\n",
    "for i in range(0,2):\n",
    "    shoes=driver.find_elements_by_xpath(\"//li[@class='product-base']\")\n",
    "    for i in shoes:\n",
    "        shoes3=i.find_element_by_tag_name(\"a\")\n",
    "        URL.append(shoes3.get_attribute('href'))\n",
    "    driver.find_element_by_xpath('//*[@id=\"desktopSearchResults\"]/div[2]/section/div[2]/ul/li[3]').click()\n",
    "    time.sleep(3)"
   ]
  },
  {
   "cell_type": "code",
   "execution_count": 122,
   "metadata": {},
   "outputs": [
    {
     "data": {
      "text/plain": [
       "100"
      ]
     },
     "execution_count": 122,
     "metadata": {},
     "output_type": "execute_result"
    }
   ],
   "source": [
    "len(URL)"
   ]
  },
  {
   "cell_type": "code",
   "execution_count": 123,
   "metadata": {},
   "outputs": [
    {
     "name": "stderr",
     "output_type": "stream",
     "text": [
      "100%|██████████| 100/100 [28:49<00:00, 17.30s/it]\n"
     ]
    }
   ],
   "source": [
    "#running a loop to extract all the required information from the list_of_url\n",
    "from tqdm import tqdm\n",
    "for i in tqdm(URL):\n",
    "    driver.get(i)\n",
    "    try:\n",
    "        brand=driver.find_element_by_xpath('//h1[@class=\"pdp-title\"]').text\n",
    "        Brand.append(brand)\n",
    "    except NoSuchElementException:\n",
    "        Brand.append(\"Null\")\n",
    "    try:\n",
    "        description=driver.find_element_by_xpath('//h1[@class=\"pdp-name\"]').text\n",
    "        Product_Description.append(description)\n",
    "    except NoSuchElementException:\n",
    "        Product_Description.append(\"Null\")\n",
    "    try:\n",
    "        price=driver.find_element_by_xpath('//span[@class=\"pdp-price\"]').text\n",
    "        Price.append(price)\n",
    "    except NoSuchElementException:\n",
    "        Price.append(\"Null\")\n",
    "    time.sleep(3)"
   ]
  },
  {
   "cell_type": "code",
   "execution_count": 126,
   "metadata": {},
   "outputs": [
    {
     "name": "stdout",
     "output_type": "stream",
     "text": [
      "\u001b[1mTop Shoes Myntra\u001b[0m\n"
     ]
    },
    {
     "data": {
      "text/html": [
       "<div>\n",
       "<style scoped>\n",
       "    .dataframe tbody tr th:only-of-type {\n",
       "        vertical-align: middle;\n",
       "    }\n",
       "\n",
       "    .dataframe tbody tr th {\n",
       "        vertical-align: top;\n",
       "    }\n",
       "\n",
       "    .dataframe thead th {\n",
       "        text-align: right;\n",
       "    }\n",
       "</style>\n",
       "<table border=\"1\" class=\"dataframe\">\n",
       "  <thead>\n",
       "    <tr style=\"text-align: right;\">\n",
       "      <th></th>\n",
       "      <th>Brand</th>\n",
       "      <th>Product_Description</th>\n",
       "      <th>Price</th>\n",
       "    </tr>\n",
       "  </thead>\n",
       "  <tbody>\n",
       "    <tr>\n",
       "      <th>0</th>\n",
       "      <td>ALDO</td>\n",
       "      <td>Men Black Leather Solid Loafers</td>\n",
       "      <td>Rs. 10499</td>\n",
       "    </tr>\n",
       "    <tr>\n",
       "      <th>1</th>\n",
       "      <td>Puma</td>\n",
       "      <td>Men Black Jamming 2.0 Running Shoes</td>\n",
       "      <td>Rs. 10399</td>\n",
       "    </tr>\n",
       "    <tr>\n",
       "      <th>2</th>\n",
       "      <td>Nike</td>\n",
       "      <td>Men Black Zoom Span 4 Road Running Shoes</td>\n",
       "      <td>Rs. 7195</td>\n",
       "    </tr>\n",
       "    <tr>\n",
       "      <th>3</th>\n",
       "      <td>PUMA Motorsport</td>\n",
       "      <td>Unisex Black Scuderia Ferrari A3ROCAT Mid Moto...</td>\n",
       "      <td>Rs. 7999</td>\n",
       "    </tr>\n",
       "    <tr>\n",
       "      <th>4</th>\n",
       "      <td>PUMA Motorsport</td>\n",
       "      <td>Unisex Black Mercedes F1 A3ROCAT Printed Sneakers</td>\n",
       "      <td>Rs. 7999</td>\n",
       "    </tr>\n",
       "    <tr>\n",
       "      <th>...</th>\n",
       "      <td>...</td>\n",
       "      <td>...</td>\n",
       "      <td>...</td>\n",
       "    </tr>\n",
       "    <tr>\n",
       "      <th>95</th>\n",
       "      <td>ADIDAS</td>\n",
       "      <td>Women Black Woven Design Kaptir Super Sustaina...</td>\n",
       "      <td>Rs. 8999</td>\n",
       "    </tr>\n",
       "    <tr>\n",
       "      <th>96</th>\n",
       "      <td>ASICS</td>\n",
       "      <td>Women Black &amp; Pink GT-2000 9 Running Shoes</td>\n",
       "      <td>Rs. 8399</td>\n",
       "    </tr>\n",
       "    <tr>\n",
       "      <th>97</th>\n",
       "      <td>Geox</td>\n",
       "      <td>Men Black Leather Driving Shoes</td>\n",
       "      <td>Rs. 9990</td>\n",
       "    </tr>\n",
       "    <tr>\n",
       "      <th>98</th>\n",
       "      <td>Ruosh</td>\n",
       "      <td>Men Black Textured Leather Monks</td>\n",
       "      <td>Rs. 6990</td>\n",
       "    </tr>\n",
       "    <tr>\n",
       "      <th>99</th>\n",
       "      <td>Tommy Hilfiger</td>\n",
       "      <td>Men Black Corporate Mix Flag Runner Sneakers</td>\n",
       "      <td>Rs. 6999</td>\n",
       "    </tr>\n",
       "  </tbody>\n",
       "</table>\n",
       "<p>100 rows × 3 columns</p>\n",
       "</div>"
      ],
      "text/plain": [
       "              Brand                                Product_Description  \\\n",
       "0              ALDO                    Men Black Leather Solid Loafers   \n",
       "1              Puma                Men Black Jamming 2.0 Running Shoes   \n",
       "2              Nike           Men Black Zoom Span 4 Road Running Shoes   \n",
       "3   PUMA Motorsport  Unisex Black Scuderia Ferrari A3ROCAT Mid Moto...   \n",
       "4   PUMA Motorsport  Unisex Black Mercedes F1 A3ROCAT Printed Sneakers   \n",
       "..              ...                                                ...   \n",
       "95           ADIDAS  Women Black Woven Design Kaptir Super Sustaina...   \n",
       "96            ASICS         Women Black & Pink GT-2000 9 Running Shoes   \n",
       "97             Geox                    Men Black Leather Driving Shoes   \n",
       "98            Ruosh                   Men Black Textured Leather Monks   \n",
       "99   Tommy Hilfiger       Men Black Corporate Mix Flag Runner Sneakers   \n",
       "\n",
       "        Price  \n",
       "0   Rs. 10499  \n",
       "1   Rs. 10399  \n",
       "2    Rs. 7195  \n",
       "3    Rs. 7999  \n",
       "4    Rs. 7999  \n",
       "..        ...  \n",
       "95   Rs. 8999  \n",
       "96   Rs. 8399  \n",
       "97   Rs. 9990  \n",
       "98   Rs. 6990  \n",
       "99   Rs. 6999  \n",
       "\n",
       "[100 rows x 3 columns]"
      ]
     },
     "execution_count": 126,
     "metadata": {},
     "output_type": "execute_result"
    }
   ],
   "source": [
    "Shoes=pd.DataFrame({})\n",
    "Shoes['Brand']=Brand\n",
    "Shoes['Product_Description']=Product_Description\n",
    "Shoes['Price']=Price\n",
    "print('\\033[1m'+'Top Shoes Myntra'+'\\033[0m')\n",
    "Shoes"
   ]
  },
  {
   "cell_type": "markdown",
   "metadata": {},
   "source": [
    "## Q10: Go to webpage https://www.amazon.in/ Enter “Laptop” in the search field and then click the search icon.Then set CPU Type filter to “Intel Core i7” and “Intel Core i9” as shown in the below image:\n",
    "    \n",
    "After setting the filters scrape first 10 laptops data. You have to scrape 3 attributes for each laptop:\n",
    "1. title\n",
    "2. Ratings\n",
    "3. Price\n",
    "\n",
    "As shown in the below image as the tick marked attributes."
   ]
  },
  {
   "cell_type": "code",
   "execution_count": 102,
   "metadata": {},
   "outputs": [],
   "source": [
    "import selenium\n",
    "import pandas as pd\n",
    "from selenium import webdriver\n",
    "import time\n",
    "from selenium.common.exceptions import NoSuchElementException\n",
    "\n",
    "# connecting Webdriver\n",
    "driver = webdriver.Chrome(r'C:\\chromedriver.exe')\n",
    "driver\n",
    "\n",
    "# Opening naukri.com\n",
    "url ='https://www.amazon.in/'\n",
    "driver.get(url)"
   ]
  },
  {
   "cell_type": "code",
   "execution_count": 103,
   "metadata": {},
   "outputs": [],
   "source": [
    "driver.find_element_by_xpath('//*[@id=\"twotabsearchtextbox\"]').send_keys('laptop')\n",
    "driver.find_element_by_xpath('//*[@id=\"nav-search-submit-button\"]').click()"
   ]
  },
  {
   "cell_type": "code",
   "execution_count": 104,
   "metadata": {},
   "outputs": [],
   "source": [
    "driver.find_element_by_xpath('//*[@id=\"p_n_feature_thirteen_browse-bin/12598163031\"]/span/a/div').click()\n",
    "driver.find_element_by_xpath('//*[@id=\"p_n_feature_thirteen_browse-bin/16757432031\"]/span').click()"
   ]
  },
  {
   "cell_type": "code",
   "execution_count": 112,
   "metadata": {},
   "outputs": [],
   "source": [
    "Laptop_Model=[]\n",
    "Ratings=[]\n",
    "Price=[]"
   ]
  },
  {
   "cell_type": "code",
   "execution_count": 106,
   "metadata": {},
   "outputs": [],
   "source": [
    "#getting the list of url of laptops\n",
    "URL=[]\n",
    "\n",
    "laptop_url=driver.find_elements_by_xpath(\"//h2[@class='a-size-mini a-spacing-none a-color-base s-line-clamp-2']\")\n",
    "for i in laptop_url:\n",
    "    laptop=i.find_element_by_tag_name(\"a\")\n",
    "    URL.append(laptop.get_attribute('href'))"
   ]
  },
  {
   "cell_type": "code",
   "execution_count": 107,
   "metadata": {},
   "outputs": [
    {
     "data": {
      "text/plain": [
       "29"
      ]
     },
     "execution_count": 107,
     "metadata": {},
     "output_type": "execute_result"
    }
   ],
   "source": [
    "len(URL)"
   ]
  },
  {
   "cell_type": "code",
   "execution_count": 108,
   "metadata": {},
   "outputs": [],
   "source": [
    "#slicing to get url of first 10 laptop\n",
    "list_of_url=URL[0:10]"
   ]
  },
  {
   "cell_type": "code",
   "execution_count": 113,
   "metadata": {},
   "outputs": [
    {
     "name": "stderr",
     "output_type": "stream",
     "text": [
      "100%|██████████| 10/10 [02:05<00:00, 12.54s/it]\n"
     ]
    }
   ],
   "source": [
    "for i in tqdm(list_of_url):\n",
    "    driver.get(i)\n",
    "    try:\n",
    "        model=driver.find_element_by_xpath('//*[@id=\"productTitle\"]').text\n",
    "        Laptop_Model.append(model)\n",
    "    except NoSuchElementException:\n",
    "        Laptop_Model.append('NaN')\n",
    "        \n",
    "    try:\n",
    "        price=driver.find_element_by_xpath('//*[@id=\"priceblock_dealprice\"]').text\n",
    "        Price.append(price)\n",
    "    except NoSuchElementException:\n",
    "        price1=driver.find_element_by_xpath('//*[@id=\"priceblock_ourprice\"]').text\n",
    "        Price.append(price1)\n",
    "    \n",
    "    try:\n",
    "        \n",
    "        ratings=driver.find_element_by_xpath('//span[@class=\"a-size-base a-nowrap\"]/span').text\n",
    "        Ratings.append(ratings)\n",
    "    except NoSuchElementException:\n",
    "        Ratings.append('NaN')\n",
    "        \n",
    "    time.sleep(3)"
   ]
  },
  {
   "cell_type": "code",
   "execution_count": 114,
   "metadata": {},
   "outputs": [
    {
     "name": "stdout",
     "output_type": "stream",
     "text": [
      "\u001b[1mTop Laptop Model on Amazon\u001b[0m\n"
     ]
    },
    {
     "data": {
      "text/html": [
       "<div>\n",
       "<style scoped>\n",
       "    .dataframe tbody tr th:only-of-type {\n",
       "        vertical-align: middle;\n",
       "    }\n",
       "\n",
       "    .dataframe tbody tr th {\n",
       "        vertical-align: top;\n",
       "    }\n",
       "\n",
       "    .dataframe thead th {\n",
       "        text-align: right;\n",
       "    }\n",
       "</style>\n",
       "<table border=\"1\" class=\"dataframe\">\n",
       "  <thead>\n",
       "    <tr style=\"text-align: right;\">\n",
       "      <th></th>\n",
       "      <th>Laptop Models</th>\n",
       "      <th>Price</th>\n",
       "      <th>Ratings</th>\n",
       "    </tr>\n",
       "  </thead>\n",
       "  <tbody>\n",
       "    <tr>\n",
       "      <th>0</th>\n",
       "      <td>LG Gram Ultra-Light 11th Gen Core i7,16 GB RAM...</td>\n",
       "      <td>₹92,290.00</td>\n",
       "      <td>4.3 out of 5</td>\n",
       "    </tr>\n",
       "    <tr>\n",
       "      <th>1</th>\n",
       "      <td>Lenovo ThinkBook 15 Intel 11th Gen Core i7 15....</td>\n",
       "      <td>₹84,990.00</td>\n",
       "      <td>4.4 out of 5</td>\n",
       "    </tr>\n",
       "    <tr>\n",
       "      <th>2</th>\n",
       "      <td>Life Digital Laptop 15.6-inch (39.62 cms) (Int...</td>\n",
       "      <td>₹24,990.00</td>\n",
       "      <td>3.3 out of 5</td>\n",
       "    </tr>\n",
       "    <tr>\n",
       "      <th>3</th>\n",
       "      <td>HP Pavilion (2021) Intel 11th Gen Core i7 14 i...</td>\n",
       "      <td>₹84,990.00</td>\n",
       "      <td>4.3 out of 5</td>\n",
       "    </tr>\n",
       "    <tr>\n",
       "      <th>4</th>\n",
       "      <td>Mi Notebook Horizon Edition 14 Intel Core i7-1...</td>\n",
       "      <td>₹53,990.00</td>\n",
       "      <td>4.2 out of 5</td>\n",
       "    </tr>\n",
       "    <tr>\n",
       "      <th>5</th>\n",
       "      <td>Acer Nitro 5 11th Gen Intel Core i7-11800H 15....</td>\n",
       "      <td>₹89,990.00</td>\n",
       "      <td>4 out of 5</td>\n",
       "    </tr>\n",
       "    <tr>\n",
       "      <th>6</th>\n",
       "      <td>ASUS ROG G703GI-E5148T 17.3\" (43.94 cms) FHD 1...</td>\n",
       "      <td>₹5,56,524.00</td>\n",
       "      <td>3.3 out of 5</td>\n",
       "    </tr>\n",
       "    <tr>\n",
       "      <th>7</th>\n",
       "      <td>ASUS TUF Dash F15 (2021) 15.6-inch (39.62 cms)...</td>\n",
       "      <td>₹93,990.00</td>\n",
       "      <td>3.8 out of 5</td>\n",
       "    </tr>\n",
       "    <tr>\n",
       "      <th>8</th>\n",
       "      <td>Lenovo ThinkBook 15 Intel 11th Gen Core i7 15....</td>\n",
       "      <td>₹84,990.00</td>\n",
       "      <td>4.4 out of 5</td>\n",
       "    </tr>\n",
       "    <tr>\n",
       "      <th>9</th>\n",
       "      <td>HP Pavilion x360 11th Gen Intel Core i7 14-inc...</td>\n",
       "      <td>₹84,990.00</td>\n",
       "      <td>4.2 out of 5</td>\n",
       "    </tr>\n",
       "  </tbody>\n",
       "</table>\n",
       "</div>"
      ],
      "text/plain": [
       "                                       Laptop Models         Price  \\\n",
       "0  LG Gram Ultra-Light 11th Gen Core i7,16 GB RAM...    ₹92,290.00   \n",
       "1  Lenovo ThinkBook 15 Intel 11th Gen Core i7 15....    ₹84,990.00   \n",
       "2  Life Digital Laptop 15.6-inch (39.62 cms) (Int...    ₹24,990.00   \n",
       "3  HP Pavilion (2021) Intel 11th Gen Core i7 14 i...    ₹84,990.00   \n",
       "4  Mi Notebook Horizon Edition 14 Intel Core i7-1...    ₹53,990.00   \n",
       "5  Acer Nitro 5 11th Gen Intel Core i7-11800H 15....    ₹89,990.00   \n",
       "6  ASUS ROG G703GI-E5148T 17.3\" (43.94 cms) FHD 1...  ₹5,56,524.00   \n",
       "7  ASUS TUF Dash F15 (2021) 15.6-inch (39.62 cms)...    ₹93,990.00   \n",
       "8  Lenovo ThinkBook 15 Intel 11th Gen Core i7 15....    ₹84,990.00   \n",
       "9  HP Pavilion x360 11th Gen Intel Core i7 14-inc...    ₹84,990.00   \n",
       "\n",
       "        Ratings  \n",
       "0  4.3 out of 5  \n",
       "1  4.4 out of 5  \n",
       "2  3.3 out of 5  \n",
       "3  4.3 out of 5  \n",
       "4  4.2 out of 5  \n",
       "5    4 out of 5  \n",
       "6  3.3 out of 5  \n",
       "7  3.8 out of 5  \n",
       "8  4.4 out of 5  \n",
       "9  4.2 out of 5  "
      ]
     },
     "execution_count": 114,
     "metadata": {},
     "output_type": "execute_result"
    }
   ],
   "source": [
    "Laptops=pd.DataFrame({})\n",
    "Laptops['Laptop Models']=Laptop_Model\n",
    "Laptops['Price']=Price\n",
    "Laptops['Ratings']=Ratings\n",
    "print('\\033[1m'+'Top Laptop Model on Amazon'+'\\033[0m')\n",
    "Laptops"
   ]
  },
  {
   "cell_type": "code",
   "execution_count": null,
   "metadata": {},
   "outputs": [],
   "source": []
  }
 ],
 "metadata": {
  "kernelspec": {
   "display_name": "Python 3",
   "language": "python",
   "name": "python3"
  },
  "language_info": {
   "codemirror_mode": {
    "name": "ipython",
    "version": 3
   },
   "file_extension": ".py",
   "mimetype": "text/x-python",
   "name": "python",
   "nbconvert_exporter": "python",
   "pygments_lexer": "ipython3",
   "version": "3.8.5"
  }
 },
 "nbformat": 4,
 "nbformat_minor": 4
}
